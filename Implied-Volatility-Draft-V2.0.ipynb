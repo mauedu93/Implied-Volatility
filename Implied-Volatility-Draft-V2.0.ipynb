{
 "cells": [
  {
   "cell_type": "markdown",
   "metadata": {},
   "source": [
    "# Implied Volatility"
   ]
  },
  {
   "cell_type": "markdown",
   "metadata": {},
   "source": [
    "The implied volatility is a measure of market risk and is useful to determine changes in the supply and demand of a security. The implied volatility can be calculated from option prices using the Black-Scholes formula. This metric gives a forward-looking tool for the analyst. However, the implied volatility does not provide the direction of the change. When the market is bearish, the volatility tends to increase; on the other hand, when investors expect prices to rise, the implied volatility tends to fall.\n",
    "\n",
    "This notebook will provide an algorithm to calculate the implied volatility for a given security using the call option chain. The algorithm first retrives the variables needed to calculate the call price with the Black-Scholes model assuming there is no dividend payment. Then, the algorithm estimates the spread between the calculated call price and the actual market price. Finaly, an optimization algorithm finds the implied volatility that makes the spread closest to zero.\n",
    "\n",
    "Importing all necessary libraries first."
   ]
  },
  {
   "cell_type": "code",
   "execution_count": 1,
   "metadata": {},
   "outputs": [],
   "source": [
    "import yfinance as yf\n",
    "from datetime import datetime\n",
    "import quandl\n",
    "import stockquotes\n",
    "import numpy as np\n",
    "import scipy.stats as st \n",
    "import pandas as pd \n",
    "import matplotlib.pyplot as plt\n",
    "import math\n",
    "import os\n",
    "\n",
    "%matplotlib inline"
   ]
  },
  {
   "cell_type": "code",
   "execution_count": 2,
   "metadata": {},
   "outputs": [],
   "source": [
    "#Dictionaries to customize the font of labels and titles of graphs\n",
    "label_dict = {'fontsize': 14,\n",
    "            'fontweight' : 5,\n",
    "            'verticalalignment': 'baseline',\n",
    "            'horizontalalignment': 'center'\n",
    "             }\n",
    "title_dict = {'fontsize': 20,\n",
    "           'fontweight' : 5,\n",
    "           'verticalalignment': 'baseline',\n",
    "           'horizontalalignment': 'center'\n",
    "             }"
   ]
  },
  {
   "cell_type": "markdown",
   "metadata": {},
   "source": [
    "An option is a financial instrument that derives its value from an underlying asset. There are two types of option, calls and puts. A call option gives the holder the right to buy the underlying asset at a predetermined price, called strike price, on the expiration date of the call. A put option gives the holder the right to sell the underlying asset at the strike price on the expiration date."
   ]
  },
  {
   "cell_type": "markdown",
   "metadata": {},
   "source": [
    "In a call option, if at expiration the strike price is less than the spot price, the buyer of the option will have a positive return. Whereas, on a put option, the long side will benefit if the strike price is higher than the spot price. An option is in-the-money if the option provides a positive value, the option is out-of-the-money when it doesn't have intrinsic value; meaning that if the option is exercised, there is not going to be a profit. An option is at-the-money when the strike price is equal to the spot price of the underlying asset."
   ]
  },
  {
   "cell_type": "markdown",
   "metadata": {},
   "source": [
    "The price of the option is the premium that the long position must pay to bear the opportunity to buy or sell the underlying asset. The formula to calculate the call price for an European option that does not pay dividends is given by:\n",
    "\n",
    "\\begin{equation*}\n",
    "C = S_t N \\left(d1 \\right) - K e^{-rt} N \\left(d2 \\right)\n",
    "\\end{equation*}"
   ]
  },
  {
   "cell_type": "markdown",
   "metadata": {},
   "source": [
    "__Where:__\n",
    "\n",
    "\\begin{equation*}\n",
    "d1 = \\frac{ \\ln{ \\frac{S_t}{K} + \\left(r + \\frac{\\sigma_u^2}{2} \\right) t} }{\\sigma_s \\sqrt{t}}\n",
    "\\end{equation*}\n",
    "\n",
    "and:\n",
    "\n",
    "\\begin{equation*}\n",
    "d2 = d1 -  \\sigma_s \\sqrt{t}\n",
    "\\end{equation*}"
   ]
  },
  {
   "cell_type": "markdown",
   "metadata": {},
   "source": [
    "__Where:__\n",
    "\n",
    "\\begin{alignat*}{1}\n",
    "&C \\quad & = \\quad & \\text{Call option price} \\\\\n",
    "&S \\quad & = \\quad & \\text{Current stock (or other underlying) price} \\\\\n",
    "&K \\quad & = \\quad & \\text{Strike price} \\\\\n",
    "&r \\quad & = \\quad & \\text{Risk-free interest rate} \\\\\n",
    "&t \\quad & = \\quad & \\text{time to maturity} \\\\\n",
    "&\\sigma \\quad & = \\quad & \\text{Implied volatility} \\\\\n",
    "&N \\quad & = \\quad & \\text{A normal distribution}\n",
    "\\end{alignat*}"
   ]
  },
  {
   "cell_type": "markdown",
   "metadata": {},
   "source": [
    "The target variable in the formula is sigma or the implied volatility.  "
   ]
  },
  {
   "cell_type": "markdown",
   "metadata": {},
   "source": [
    "Before coding the algorithm to calculate the implied volatility, there are some helpful functions that must be defined. The first function is <code>Spot()</code> that retrives the current stock price given the ticker symbol. This function uses the module <code>stockquotes</code> that collects stock price data from Yahoo Finance."
   ]
  },
  {
   "cell_type": "code",
   "execution_count": 3,
   "metadata": {},
   "outputs": [],
   "source": [
    "def Spot(ticker):\n",
    "    '''\n",
    "    Takes a ticker symbol and returns the last price of the asset.\n",
    "    \n",
    "    Arguments:\n",
    "    ticker -- String that represents the ticker symbol of the underlying asset. Refer to Yahoo Finance website to find \n",
    "              the symbol\n",
    "              \n",
    "    Returns:\n",
    "    S -- Spot price of the asset\n",
    "    '''\n",
    "    \n",
    "    security = stockquotes.Stock(ticker)\n",
    "    S = security.current_price\n",
    "\n",
    "    return S    "
   ]
  },
  {
   "cell_type": "markdown",
   "metadata": {},
   "source": [
    "This analysis will focus on the S&P500 index because it doesn't pay dividends, one of the assumptions of the model. Furthermore, to get an accurate estimate of the forward-looking implied volatility, it is necessary to select strike prices that are at the money. \n",
    "\n",
    "Retriving the spot price of the S&P500 using the function define above:"
   ]
  },
  {
   "cell_type": "code",
   "execution_count": 4,
   "metadata": {},
   "outputs": [
    {
     "name": "stdout",
     "output_type": "stream",
     "text": [
      "The last price of the S&P500 was $371.94, thus preferred strike prices are in the range of $72 - $672\n"
     ]
    }
   ],
   "source": [
    "S = Spot(\"SPY\")\n",
    "print(f'The last price of the S&P500 was ${S}, thus preferred strike prices are in the range of',end=\" \") \n",
    "print(f'${round(S-300)} - ${round(S+300)}')"
   ]
  },
  {
   "cell_type": "markdown",
   "metadata": {},
   "source": [
    "The next step would be to retrieve the strike price and the call premiun. The defined <code>call_data()</code> function gets these two pieces of information using the <code>yfinance</code> library. The requirements of the function are to specify a ticker symbol and the expiration date and returns a tuple with the strike price and call premium available for the expiration selected. \n",
    "\n",
    "The timeframe of the implied volatility analysis determines the most appropriate expiration date; for example, an analyst interested to investigate the forward-looking volatility in one year, should use options with an expiration of one year from now. In this notebook, the analysis will focus on options with maturity of one year."
   ]
  },
  {
   "cell_type": "code",
   "execution_count": 13,
   "metadata": {},
   "outputs": [],
   "source": [
    "def call_data(ticker,expiration):\n",
    "    '''\n",
    "    Extracts the strike price and call premium of an option given the ticker symbol of the underlying asset and \n",
    "    the expiration date. Returns a list of strike price and call premium.\n",
    "    \n",
    "    Arguments:\n",
    "    ticker -- String that represents the ticker symbol of the underlying asset. Refer to Yahoo Finance website to find \n",
    "              the symbol\n",
    "              \n",
    "    expiration -- String date in format 'YYYY-MM-DD'. Refer to Yahoo Finance to check list of available expirations \n",
    "                  for the underlying asset\n",
    "                  \n",
    "    Returns:\n",
    "    data -- list containig pairs of strike price and call premiums available for the underlying in the expiration \n",
    "            selected\n",
    "    '''\n",
    "    \n",
    "    security = yf.Ticker(ticker)\n",
    "\n",
    "    if expiration not in security.options:                       #Assertion to verify that expiration exists\n",
    "        print('Option expiration not available, please verify')\n",
    "        return\n",
    "    \n",
    "    options = security.option_chain(expiration)\n",
    "    calls = options.calls\n",
    "    strike_price = calls['strike']\n",
    "    call_premium = calls['lastPrice']\n",
    "    \n",
    "    data = list(zip(strike_price, call_premium))\n",
    "    data = np.array(data)\n",
    "\n",
    "    \n",
    "    return data"
   ]
  },
  {
   "cell_type": "code",
   "execution_count": 18,
   "metadata": {},
   "outputs": [
    {
     "name": "stdout",
     "output_type": "stream",
     "text": [
      "24\n",
      "For expiration on 2021-02-04 there are 24 strike price available \n",
      "\n",
      "The call with strike price of $342.5 has a call premium of $32.37\n",
      "The call with strike price of $352.5 has a call premium of $23.98\n",
      "The call with strike price of $382.5 has a call premium of $3.7\n",
      "The call with strike price of $415.0 has a call premium of $0.14\n"
     ]
    }
   ],
   "source": [
    "expiration = '2021-02-04'\n",
    "\n",
    "data = call_data('SPY',expiration)\n",
    "print(len(data))\n",
    "print(f'For expiration on {expiration} there are {len(data)} strike price available','\\n')\n",
    "print(f'The call with strike price of ${data[0][0]} has a call premium of ${data[0][1]}')\n",
    "print(f'The call with strike price of ${data[2][0]} has a call premium of ${data[2][1]}')\n",
    "print(f'The call with strike price of ${data[10][0]} has a call premium of ${data[10][1]}')\n",
    "print(f'The call with strike price of ${data[21][0]} has a call premium of ${data[21][1]}')\n"
   ]
  },
  {
   "cell_type": "markdown",
   "metadata": {},
   "source": [
    "Plotting the call premium against each strike price:"
   ]
  },
  {
   "cell_type": "code",
   "execution_count": 20,
   "metadata": {
    "scrolled": false
   },
   "outputs": [
    {
     "data": {
      "image/png": "[encoded data removed]",
      "text/plain": [
       "<Figure size 720x432 with 1 Axes>"
      ]
     },
     "metadata": {
      "needs_background": "light"
     },
     "output_type": "display_data"
    }
   ],
   "source": [
    "K, call_premium = list(zip(*data)) #unpacking the results of call_data function\n",
    "K = np.array(K)\n",
    "call_premium = np.array(call_premium)\n",
    "\n",
    "# Define plot space\n",
    "fig, ax = plt.subplots(figsize=(10, 6))\n",
    "\n",
    "# Define x and y axes\n",
    "ax.plot(K.tolist(), call_premium)\n",
    "\n",
    "# Hide the right and top spines\n",
    "ax.spines['right'].set_visible(False)\n",
    "ax.spines['top'].set_visible(False)\n",
    "\n",
    "# plt.axvline(x=1230, c='r', ls='--')\n",
    "# plt.axvline(x=3000, c='r', ls='--')\n",
    "# plt.axvspan(1230,3000, color='y',alpha=0.2)\n",
    "    \n",
    "plt.title('S&P500 - Call Price', fontdict=title_dict, pad=20)\n",
    "plt.xlabel('Strike price',fontdict=label_dict,labelpad=20)\n",
    "plt.ylabel('Call premium',fontdict=label_dict, labelpad=10)\n",
    "\n",
    "plt.show()\n"
   ]
  },
  {
   "cell_type": "markdown",
   "metadata": {},
   "source": [
    "As noticed in the graph, the greater the strike price, the lower the call premium that the investor has to pay. However, the range between \\\\$1,200 - $3,000 shows considerable fluctuations in the premiums thus the volatility should be highir in this range of strike price. "
   ]
  },
  {
   "cell_type": "markdown",
   "metadata": {},
   "source": [
    "The next variable to deteremine is the risk free rate. This is the return on a treasury bond that matches with the timeframe of the implied volatility. In this example, the expiration of the option chain is one year from now therefore the most accurate representation of the risk free rate is a 1 year US Treasury bill. \n",
    "\n",
    "The function <code>Risk_free</code> takes a predefined time to maturity and using <code>Quandl</code> module calls the table with historic yield curve; then, selects the latest rate that matches the specified maturity. \n",
    "\n",
    "__Note:__ to access Quandl API, the reader should use a personal API Key. This key can be obtained when signing up an account at Quandl website. "
   ]
  },
  {
   "cell_type": "code",
   "execution_count": 21,
   "metadata": {},
   "outputs": [],
   "source": [
    "def Risk_free(ttm):\n",
    "    '''\n",
    "    Extracts the most recent US treasury rate given the time to maturity.\n",
    "    \n",
    "    Arguments:\n",
    "    ttm -- Time to maturity in string format. The available options are:\n",
    "           ['1 MO', '2 MO', '3 MO', '6 MO', '1 YR', '2 YR', '3 YR', '5 YR', '7 YR', '10 YR', '20 YR', '30 YR']\n",
    "    \n",
    "    Returns:\n",
    "    rf -- Most recent risk free rate for the time to maturity selected\n",
    "    '''\n",
    "    API_KEY = os.environ.get('QUANDL_KEY')\n",
    "    yield_curve = quandl.get('USTREASURY/YIELD', authtoken=API_KEY)\n",
    "    rf = yield_curve[ttm][-1]/100\n",
    "    \n",
    "    return rf    "
   ]
  },
  {
   "cell_type": "code",
   "execution_count": 28,
   "metadata": {},
   "outputs": [
    {
     "name": "stdout",
     "output_type": "stream",
     "text": [
      "The risk free rate for 1 MO to maturity is 0.08%\n"
     ]
    }
   ],
   "source": [
    "ttm = '1 MO'\n",
    "r = Risk_free(ttm)\n",
    "\n",
    "print(f'The risk free rate for {ttm} to maturity is {r*100}%')"
   ]
  },
  {
   "cell_type": "markdown",
   "metadata": {},
   "source": [
    "The last element needed to complet the formula is the time to maturity. This is the difference, measured in years, between the expiration of the option and the current date. The function <code>Time_to_maturity</code> will make this calculation."
   ]
  },
  {
   "cell_type": "code",
   "execution_count": 23,
   "metadata": {},
   "outputs": [],
   "source": [
    "def Time_to_maturity(expiration):\n",
    "    '''\n",
    "    Calculates the time to maturity in years from today to the option expiration.\n",
    "    \n",
    "    Arguments:\n",
    "    expiration -- String date in format 'YYYY-MM-DD'. Refer to Yahoo Finance to check list of available expirations \n",
    "                  for the underlying asset \n",
    "                  \n",
    "    Returns:\n",
    "    ttm -- Time to maturity in year in float format\n",
    "    '''\n",
    "    \n",
    "    today = datetime.now()\n",
    "    expiration_d = datetime.strptime(expiration,'%Y-%m-%d')\n",
    "    datetime_delta = (expiration_d - today).days\n",
    "    ttm = datetime_delta/365\n",
    "    \n",
    "    return ttm\n",
    "    "
   ]
  },
  {
   "cell_type": "code",
   "execution_count": 25,
   "metadata": {},
   "outputs": [
    {
     "name": "stdout",
     "output_type": "stream",
     "text": [
      "As of 2020-12-30, the option chain with an expiration on 2021-02-04 will have a time to maturity of 0.096 year\n"
     ]
    }
   ],
   "source": [
    "T = Time_to_maturity(expiration)\n",
    "\n",
    "print(f'As of {str(datetime.now())[:10]}, the option chain with an expiration on {expiration}',end=\" \")\n",
    "print(f'will have a time to maturity of {round(T,3)} year')"
   ]
  },
  {
   "cell_type": "markdown",
   "metadata": {},
   "source": [
    "Now, it is time to build the algorithm that will estimate the implied volatility for an option chain given the expiration date. \n",
    "\n",
    "The first step is to retrive the variables needed in the Black-Scholes formulat to calculate the call price. The <code>implied_vol</code> will call the previous defined functions for this step. This variables are:\n",
    "\n",
    "- Spot price: Scalar number with the latest price of the underlying value. \n",
    "- Strike price: Numpy array of shape (n,) where n is the number of strike price available in the option chain\n",
    "- Call premium: Numpy array of shape (n,) \n",
    "- Risk premium: Scalar number with the T-bill that is most representative given the time to maturity\n",
    "- Time to maturity: Scalar number representing the time from today to the expiration date measured in years\n",
    "\n",
    "The goal is to calculate, for each strike price, the implied volatility that makes the difference between the calculated call premium and the actual market premium closest to zero. Note that to optimize the computational cost, the algorithm uses linear algebra when using the Black-Scholes formulas.\n",
    "\n",
    "Based on this, the next step is to generate an array of potential implied volatilites. This array is randomly generated following a normal distribution and will have a shape of *j* elements; for each $j^{th}$ element, there is going to be a call premium calculated based on the Black-Scholes formula. \n",
    "\n",
    "Then, if the difference between the previous call premium calculated and the call premium retrieve from the <code>call_data</code> is positive, the algorithm saves the difference in a local variable called <code>spread_pos</code>; on the other hand, if the difference is negative, the algorithm saves it into <code>spread_neg</code>. At the same time, the algorithm selects the implied volatility that generated the positive or negative spread and saves it in the corresponing variable, <code>sigma_pos</code> or <code>sigma_neg</code>.\n",
    "\n",
    "The minimum positive spread and the maximum negative spread will be compared in absolute value to determine the minimum value. This value will be the calculated premium that is closest to the market price, therefore, the implied volatility used in that minimum value will be the optimum implied volatility for that strike price.\n",
    "\n",
    "Finally, this process is repeated for each strike price to obtain an array of implied volatilities for each strike price."
   ]
  },
  {
   "cell_type": "code",
   "execution_count": 29,
   "metadata": {},
   "outputs": [],
   "source": [
    "def implied_vol(ticker, expiration, ttm, iterations = 25000):\n",
    "    \n",
    "    '''\n",
    "    Optimization function that estimates the implied volatility of an option chain. \n",
    "    \n",
    "    Arguments:                  \n",
    "    ticker -- String that represents the ticker symbol of the underlying asset. Refer to Yahoo Finance website to \n",
    "              find the symbol\n",
    "              \n",
    "    expiration -- String date in format 'YYYY-MM-DD'. Refer to Yahoo Finance to check list of available expirations \n",
    "                  for the underlying asset  \n",
    "                  \n",
    "    ttm -- Time to maturity in string format. The available options are:\n",
    "           ['1 MO', '2 MO', '3 MO', '6 MO', '1 YR', '2 YR', '3 YR', '5 YR', '7 YR', '10 YR', '20 YR', '30 YR']\n",
    "           \n",
    "    iterations -- Number of times the algorithm has to run. The greater the number of iterations, the more accurate\n",
    "                  result. Note that there is a trade off between computational cost and accuracy. recommended at least \n",
    "                  25,000 iterations. It might take a couple of minutes.\n",
    "                  \n",
    "    Returns:\n",
    "    imply_vol -- Implied volatility that makes the difference between the market call price and the call price \n",
    "                 calculated using the Black-Scholes Model closest to zero. Numpy array of shape equal to number of \n",
    "                 strike price available for the option.\n",
    "                 \n",
    "    difference -- The closest to zero spread between the market call price and the call price calculated using the \n",
    "                  Black-Scholes Model. Numpy array of shape equal to number of strike price available for the option.\n",
    "                  \n",
    "    cache -- cache of values needed to calculate the call price with the Black-Scholes formula\n",
    "                  \n",
    "    '''\n",
    "    # Retriving the current spot price\n",
    "    S = Spot(ticker)\n",
    "    S = np.array(S)\n",
    "    \n",
    "    # Retriving the array of strike price and market call price\n",
    "    data = call_data(ticker,expiration)\n",
    "    K, call_premium = list(zip(*data)) #unpacking the results of call_data function\n",
    "    K = np.array(K)\n",
    "    call_premium = np.array(call_premium)\n",
    "      \n",
    "    # Retriving the closest risk-free rate corresponding to the maturity of the option\n",
    "    r = Risk_free(ttm)\n",
    "    \n",
    "    # Calculating the time to maturity of the option\n",
    "    T = Time_to_maturity(expiration)\n",
    "    print('Data downloaded successfully')\n",
    "    # Creating a sample of random numbers representing the implied volatility distribution\n",
    "    # The sample follows a normal distribution\n",
    "    sigma_ran = np.random.randn(iterations)\n",
    "    \n",
    "    # Empty lists that will contain the minimun difference and the corresponding implied volatility\n",
    "    imply_vol = []\n",
    "    difference = []\n",
    "    C = []\n",
    "    \n",
    "    print('Starting to iterate')\n",
    "    print('Please wait ...')\n",
    "    # Loop through each strike price\n",
    "    for n in range(0,len(K)):\n",
    "        \n",
    "        # Empty lists that will contain the positive spreads, the negative spreads, and their implied volatility\n",
    "        spread_pos = []\n",
    "        sigma_pos = []\n",
    "        spread_neg = []\n",
    "        sigma_neg = []\n",
    "        C_pos = []\n",
    "        C_neg = []\n",
    "    \n",
    "        # Loop through each value in the sample list of potential implied volatility\n",
    "        for j in range(0,len(sigma_ran)):\n",
    "            \n",
    "            # Calculating the call price for each implied volatility given a specific strike price\n",
    "            d1 = (np.log(np.divide(S,K[n]))+(r+((np.power(sigma_ran[j],2)/2))*T))/(sigma_ran[j]*np.sqrt(T))\n",
    "            N_d1 = st.norm.cdf(d1)\n",
    "\n",
    "            d2 = np.subtract(d1,sigma_ran[j]*np.sqrt(T))\n",
    "            N_d2 = st.norm.cdf(d2)\n",
    "\n",
    "            Call_premium_calc = np.subtract(np.multiply(S,N_d1),np.multiply(K[n],np.multiply(np.exp(-r*T),N_d2)))\n",
    "            \n",
    "            # Calculating the spread between the previous calculation and the market call price\n",
    "            spread = np.subtract(Call_premium_calc, call_premium[n])\n",
    "            \n",
    "            # Separating the positive spreads with its volatility from the negative spreads with its volatility\n",
    "            if spread >=0:\n",
    "                spread_pos.append(spread)\n",
    "                sigma_pos.append(sigma_ran[j])\n",
    "                C_pos.append(Call_premium_calc)\n",
    "            else:\n",
    "                spread_neg.append(spread)\n",
    "                sigma_neg.append(sigma_ran[j])\n",
    "                C_neg.append(Call_premium_calc)\n",
    "\n",
    "        # Finding the minimum positive spread and the index where it's located\n",
    "        min_dif = np.min(spread_pos)\n",
    "        index_min_dif = np.argmin(spread_pos)\n",
    "        \n",
    "        # Finding the maximum negative spread and the index where it's located\n",
    "        max_dif = np.max(spread_neg)\n",
    "        index_max_dif = np.argmax(spread_neg)\n",
    "        \n",
    "        # Comparing the maximum negative spread with the minimum positive spread and selecting the one with lowest\n",
    "        # absolute value and identifying the corresponding implied volatility\n",
    "        if abs(min_dif) < abs(max_dif):\n",
    "            sigma_optimun = sigma_pos[index_min_dif]\n",
    "            spr = min_dif\n",
    "            C_opt = C_pos[index_min_dif]\n",
    "        else:\n",
    "            sigma_optimun = sigma_neg[index_max_dif]\n",
    "            spr = max_dif\n",
    "            C_opt = C_neg[index_max_dif]\n",
    "    \n",
    "        # Saving the implied volatility that makes the spread closest to zeroimply_vol, difference, cache = implied_vol('^GSPC','2021-12-16','1 YR',iterations=100000)\n",
    "        C.append(C_opt)\n",
    "        imply_vol.append(sigma_optimun)\n",
    "        difference.append(spr)\n",
    "\n",
    "    # Values required to calculate the call price using Black-Scholes formula\n",
    "    print('Completed!')\n",
    "    cache = (S,K,C,call_premium,r,T)\n",
    "     \n",
    "    return imply_vol, difference, cache"
   ]
  },
  {
   "cell_type": "markdown",
   "metadata": {},
   "source": [
    "Calculating the implied volatilities for the S&P500 example used before. The number of iterations is 100,000 meaning that the implied volatility distribution will have 100,000 values. The algorithm saves in cache all variables used in the Black-Scholes model for each optimum implied volatility."
   ]
  },
  {
   "cell_type": "code",
   "execution_count": 30,
   "metadata": {
    "scrolled": true
   },
   "outputs": [
    {
     "name": "stdout",
     "output_type": "stream",
     "text": [
      "Data downloaded successfully\n",
      "Starting to iterate\n",
      "Please wait ...\n",
      "Completed!\n"
     ]
    }
   ],
   "source": [
    "imply_vol, difference, cache = implied_vol('SPY','2021-02-04','1 MO',iterations=100000)"
   ]
  },
  {
   "cell_type": "markdown",
   "metadata": {},
   "source": [
    "Taking a quick look to the results:"
   ]
  },
  {
   "cell_type": "code",
   "execution_count": 34,
   "metadata": {
    "scrolled": false
   },
   "outputs": [
    {
     "name": "stdout",
     "output_type": "stream",
     "text": [
      "The following analysis is based on:\n",
      "\n",
      "- A risk free rate of 0.08%\n",
      "- Time to maturity of the option 0.0958904109589041 years\n",
      "- Current market price of the S&P500 $371.77\n",
      "\n",
      "\n",
      "For a strike price of $342.5: the implied volatility is 0.2879% with a call price of $32.37 and a calculated price of $0.01007\n",
      " \n",
      "For a strike price of $350.0: the implied volatility is 0.2682% with a call price of $25.88 and a calculated price of $0.01193\n",
      " \n",
      "For a strike price of $352.5: the implied volatility is 0.2668% with a call price of $23.98 and a calculated price of $0.02077\n",
      " \n",
      "For a strike price of $365.0: the implied volatility is 0.2202% with a call price of $13.78 and a calculated price of $0.01727\n",
      " \n",
      "For a strike price of $367.5: the implied volatility is 0.2169% with a call price of $12.2 and a calculated price of $0.00235\n",
      " \n",
      "For a strike price of $370.0: the implied volatility is 0.2029% with a call price of $10.22 and a calculated price of $nan\n",
      " \n",
      "For a strike price of $372.5: the implied volatility is 0.1929% with a call price of $8.52 and a calculated price of $0.04008\n",
      " \n",
      "For a strike price of $375.0: the implied volatility is 0.1893% with a call price of $7.22 and a calculated price of $0.01242\n",
      " \n",
      "For a strike price of $377.5: the implied volatility is 0.1841% with a call price of $5.97 and a calculated price of $nan\n",
      " \n",
      "For a strike price of $380.0: the implied volatility is 0.1759% with a call price of $4.71 and a calculated price of $0.02577\n",
      " \n",
      "For a strike price of $382.5: the implied volatility is 0.1702% with a call price of $3.7 and a calculated price of $0.02132\n",
      " \n",
      "For a strike price of $385.0: the implied volatility is 0.1628% with a call price of $2.76 and a calculated price of $nan\n",
      " \n",
      "For a strike price of $387.5: the implied volatility is 0.162% with a call price of $2.19 and a calculated price of $0.01116\n",
      " \n",
      "For a strike price of $390.0: the implied volatility is 0.1559% with a call price of $1.56 and a calculated price of $0.00827\n",
      " \n",
      "For a strike price of $392.5: the implied volatility is 0.1567% with a call price of $1.23 and a calculated price of $0.01279\n",
      " \n",
      "For a strike price of $395.0: the implied volatility is 0.156% with a call price of $0.93 and a calculated price of $0.02493\n",
      " \n",
      "For a strike price of $397.5: the implied volatility is 0.1562% with a call price of $0.71 and a calculated price of $nan\n",
      " \n",
      "For a strike price of $400.0: the implied volatility is 0.1561% with a call price of $0.53 and a calculated price of $nan\n",
      " \n",
      "For a strike price of $402.5: the implied volatility is 0.1582% with a call price of $0.42 and a calculated price of $0.00941\n",
      " \n",
      "For a strike price of $405.0: the implied volatility is 0.1591% with a call price of $0.32 and a calculated price of $nan\n",
      " \n",
      "For a strike price of $410.0: the implied volatility is 0.166% with a call price of $0.22 and a calculated price of $0.00689\n",
      " \n",
      "For a strike price of $415.0: the implied volatility is 0.1704% with a call price of $0.14 and a calculated price of $nan\n",
      " \n",
      "For a strike price of $430.0: the implied volatility is 0.1894% with a call price of $0.05 and a calculated price of $0.00456\n",
      " \n",
      "For a strike price of $440.0: the implied volatility is 0.2038% with a call price of $0.03 and a calculated price of $nan\n",
      " \n"
     ]
    },
    {
     "name": "stderr",
     "output_type": "stream",
     "text": [
      "C:\\ProgramData\\Anaconda3\\lib\\site-packages\\ipykernel_launcher.py:11: RuntimeWarning: invalid value encountered in double_scalars\n",
      "  # This is added back by InteractiveShellApp.init_path()\n"
     ]
    }
   ],
   "source": [
    "S,K,C,call_premium,r,T = cache\n",
    "\n",
    "print(f'The following analysis is based on:')\n",
    "print('')\n",
    "print(f'- A risk free rate of {r*100}%')\n",
    "print(f'- Time to maturity of the option {T} years')\n",
    "print(f'- Current market price of the S&P500 ${S}')\n",
    "print('\\n')\n",
    "for i in range(len(K)):\n",
    "    print(f'For a strike price of ${K[i]}: the implied volatility is {round(imply_vol[i],4)}%',end=\" \")\n",
    "    print(f'with a call price of ${call_premium[i]} and a calculated price of ${round(difference[i]**0.5,5)}')\n",
    "    print(' ')\n",
    "    \n",
    "# print(f'For a strike price of ${K[10]}: the implied volatility is {round(imply_vol[10],2)}%')\n",
    "# print(f'For a strike price of ${K[30]}: the implied volatility is {round(imply_vol[30],2)}%')\n",
    "# print(f'For a strike price of ${K[40]}: the implied volatility is {round(imply_vol[40],2)}%')\n",
    "# print(f'For a strike price of ${K[49]}: the implied volatility is {round(imply_vol[49],2)}%')\n",
    "\n",
    "# print(imply_vol)\n",
    "# print(difference)"
   ]
  },
  {
   "cell_type": "markdown",
   "metadata": {},
   "source": [
    "As can be seen, as the strike price increases, the implied volatility is high when the option is out of the money; when the strike price is closest to the underlying price, the implied volatility is low. Graphically, the relationship between strike price and implied volatility has a \"U\" shape. \n",
    "\n",
    "<img src=\"images/volatility-smile.png\" style=\"width:500px;height:400px;\">\n",
    "<caption><center>** Source: Quantinsti - Quantra **</center></caption><br>"
   ]
  },
  {
   "cell_type": "markdown",
   "metadata": {},
   "source": [
    "When plotting the results obtained from the optimization algorithm, the figure doesn't have exactly the shape expected. First thing to notice is that the area between \\\\$1,200 - $3,000 shows drastic changes in volatility as expected, specially closer to the \\\\$3,000 strike. The other thing to highlight is that eventhough the strike price is above the current price of the S&P500, the implied volatility is not increasing. Finally, the at-the-money option volatility is not the lowest in the chart. "
   ]
  },
  {
   "cell_type": "code",
   "execution_count": 33,
   "metadata": {},
   "outputs": [
    {
     "data": {
      "image/png": "[encoded data removed]",
      "text/plain": [
       "<Figure size 720x432 with 1 Axes>"
      ]
     },
     "metadata": {
      "needs_background": "light"
     },
     "output_type": "display_data"
    }
   ],
   "source": [
    "# Define plot space\n",
    "fig, ax = plt.subplots(figsize=(10, 6))\n",
    "\n",
    "# Define x and y axes\n",
    "ax.plot(K.tolist(),imply_vol)\n",
    "\n",
    "# Hide the right and top spines\n",
    "ax.spines['right'].set_visible(False)\n",
    "ax.spines['top'].set_visible(False)\n",
    "\n",
    "# plt.axvline(x=1230, c='r', ls='--')\n",
    "# plt.axvline(x=3000, c='r', ls='--')\n",
    "# plt.axvspan(1230,3000, color='y',alpha=0.09)\n",
    "\n",
    "plt.title('S&P500 - Implied Volatility', fontdict=title_dict, pad=20)\n",
    "plt.xlabel('Strike price',fontdict=label_dict,labelpad=20)\n",
    "plt.ylabel('Implied Volatility',fontdict=label_dict, labelpad=10)\n",
    "\n",
    "plt.show()"
   ]
  },
  {
   "cell_type": "markdown",
   "metadata": {},
   "source": [
    "__References:__<p>&nbsp;</p> \n",
    "\n",
    "- Tim Worall (2008). The Black-Scholes Formula, FIN-40008 Financial Instruments http://www.timworrall.com/fin-40008/bscholes.pdf\n",
    "- volatility Smile https://quantra.quantinsti.com/glossary/Volatility-Smile "
   ]
  }
 ],
 "metadata": {
  "kernelspec": {
   "display_name": "Python 3",
   "language": "python",
   "name": "python3"
  },
  "language_info": {
   "codemirror_mode": {
    "name": "ipython",
    "version": 3
   },
   "file_extension": ".py",
   "mimetype": "text/x-python",
   "name": "python",
   "nbconvert_exporter": "python",
   "pygments_lexer": "ipython3",
   "version": "3.7.6"
  }
 },
 "nbformat": 4,
 "nbformat_minor": 4
}
