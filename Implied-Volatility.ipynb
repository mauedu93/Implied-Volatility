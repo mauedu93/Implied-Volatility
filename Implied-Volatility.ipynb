{
 "cells": [
  {
   "cell_type": "markdown",
   "metadata": {},
   "source": [
    "# Implied Volatility"
   ]
  },
  {
   "cell_type": "markdown",
   "metadata": {},
   "source": [
    "The implied volatility is a measure of market risk and is useful to determine changes in the supply and demand of a security. The implied volatility can be calculated from option prices using the Black-Scholes formula. This metric gives a forward-looking tool for the analyst. However, the implied volatility does not provide the direction of the change. When the market is bearish, the volatility tends to increase; on the other hand, when investors expect prices to rise, the implied volatility tends to fall.\n",
    "\n",
    "This notebook will provide an algorithm to calculate the implied volatility for a given security using the call option chain. The algorithm first retrives the variables needed to calculate the call price with the Black-Scholes model assuming there is no dividend payment. Then, the algorithm estimates the spread between the calculated call price and the actual market price. Finaly, an optimization algorithm finds the implied volatility that makes the spread closest to zero.\n",
    "\n",
    "Importing all necessary libraries first."
   ]
  },
  {
   "cell_type": "code",
   "execution_count": 1,
   "metadata": {},
   "outputs": [],
   "source": [
    "import yfinance as yf\n",
    "from datetime import datetime\n",
    "import quandl\n",
    "import stockquotes\n",
    "import numpy as np\n",
    "import scipy.stats as st \n",
    "import pandas as pd \n",
    "import matplotlib.pyplot as plt\n",
    "import math\n",
    "\n",
    "%matplotlib inline"
   ]
  },
  {
   "cell_type": "code",
   "execution_count": 2,
   "metadata": {},
   "outputs": [],
   "source": [
    "#Dictionaries to customize the font of labels and titles of graphs\n",
    "label_dict = {'fontsize': 14,\n",
    "            'fontweight' : 5,\n",
    "            'verticalalignment': 'baseline',\n",
    "            'horizontalalignment': 'center'\n",
    "             }\n",
    "title_dict = {'fontsize': 20,\n",
    "           'fontweight' : 5,\n",
    "           'verticalalignment': 'baseline',\n",
    "           'horizontalalignment': 'center'\n",
    "             }"
   ]
  },
  {
   "cell_type": "markdown",
   "metadata": {},
   "source": [
    "An option is a financial instrument that derives its value from an underlying asset. There are two types of option, calls and puts. A call option gives the holder the right to buy the underlying asset at a predetermined price, called strike price, on the expiration date of the call. A put option gives the holder the right to sell the underlying asset at the strike price on the expiration date."
   ]
  },
  {
   "cell_type": "markdown",
   "metadata": {},
   "source": [
    "In a call option, if at expiration the strike price is less than the spot price, the buyer of the option will have a positive return. Whereas, on a put option, the long side will benefit if the strike price is higher than the spot price. An option is in-the-money if the option provides a positive value, the option is out-of-the-money when it doesn't have intrinsic value; meaning that if the option is exercised, there is not going to be a profit. An option is at-the-money when the strike price is equal to the spot price of the underlying asset."
   ]
  },
  {
   "cell_type": "markdown",
   "metadata": {},
   "source": [
    "The price of the option is the premium that the long position must pay to bear the opportunity to buy or sell the underlying asset. The formula to calculate the call price for an European option that does not pay dividends is given by:\n",
    "\n",
    "\\begin{equation*}\n",
    "C = S_t N \\left(d1 \\right) - K e^{-rt} N \\left(d2 \\right)\n",
    "\\end{equation*}"
   ]
  },
  {
   "cell_type": "markdown",
   "metadata": {},
   "source": [
    "__Where:__\n",
    "\n",
    "\\begin{equation*}\n",
    "d1 = \\frac{ \\ln{ \\frac{S_t}{K} + \\left(r + \\frac{\\sigma_u^2}{2} \\right) t} }{\\sigma_s \\sqrt{t}}\n",
    "\\end{equation*}\n",
    "\n",
    "and:\n",
    "\n",
    "\\begin{equation*}\n",
    "d2 = d1 -  \\sigma_s \\sqrt{t}\n",
    "\\end{equation*}"
   ]
  },
  {
   "cell_type": "markdown",
   "metadata": {},
   "source": [
    "__Where:__\n",
    "\n",
    "\\begin{alignat*}{1}\n",
    "&C \\quad & = \\quad & \\text{Call option price} \\\\\n",
    "&S \\quad & = \\quad & \\text{Current stock (or other underlying) price} \\\\\n",
    "&K \\quad & = \\quad & \\text{Strike price} \\\\\n",
    "&r \\quad & = \\quad & \\text{Risk-free interest rate} \\\\\n",
    "&t \\quad & = \\quad & \\text{time to maturity} \\\\\n",
    "&\\sigma \\quad & = \\quad & \\text{Implied volatility} \\\\\n",
    "&N \\quad & = \\quad & \\text{A normal distribution}\n",
    "\\end{alignat*}"
   ]
  },
  {
   "cell_type": "markdown",
   "metadata": {},
   "source": [
    "The target variable in the formula is sigma or the implied volatility.  "
   ]
  },
  {
   "cell_type": "markdown",
   "metadata": {},
   "source": [
    "Before coding the algorithm to calculate the implied volatility, there are some helpful functions that must be defined. The first function is <code>Spot()</code> that retrives the current stock price given the ticker symbol. This function uses the module <code>stockquotes</code> that collects stock price data from Yahoo Finance."
   ]
  },
  {
   "cell_type": "code",
   "execution_count": 3,
   "metadata": {},
   "outputs": [],
   "source": [
    "def Spot(ticker):\n",
    "    '''\n",
    "    Takes a ticker symbol and returns the last price of the asset.\n",
    "    \n",
    "    Arguments:\n",
    "    ticker -- String that represents the ticker symbol of the underlying asset. Refer to Yahoo Finance website to find \n",
    "              the symbol\n",
    "              \n",
    "    Returns:\n",
    "    S -- Spot price of the asset\n",
    "    '''\n",
    "    \n",
    "    security = stockquotes.Stock(ticker)\n",
    "    S = security.current_price\n",
    "\n",
    "    return S    "
   ]
  },
  {
   "cell_type": "markdown",
   "metadata": {},
   "source": [
    "This analysis will focus on the S&P500 index because it doesn't pay dividends, one of the assumptions of the model. Furthermore, to get an accurate estimate of the forward-looking implied volatility, it is necessary to select strike prices that are at the money. \n",
    "\n",
    "Retriving the spot price of the S&P500 using the function define above:"
   ]
  },
  {
   "cell_type": "code",
   "execution_count": 4,
   "metadata": {},
   "outputs": [
    {
     "name": "stdout",
     "output_type": "stream",
     "text": [
      "The last price of the S&P500 was $3690.01, thus preferred strike prices are in the range of $3390 - $3990\n"
     ]
    }
   ],
   "source": [
    "S = Spot(\"^GSPC\")\n",
    "print(f'The last price of the S&P500 was ${S}, thus preferred strike prices are in the range of',end=\" \") \n",
    "print(f'${round(S-300)} - ${round(S+300)}')"
   ]
  },
  {
   "cell_type": "markdown",
   "metadata": {},
   "source": [
    "The next step would be to retrieve the strike price and the call premiun. The defined <code>call_data()</code> function gets these two pieces of information using the <code>yfinance</code> library. The requirements of the function are to specify a ticker symbol and the expiration date and returns a tuple with the strike price and call premium available for the expiration selected. \n",
    "\n",
    "The timeframe of the implied volatility analysis determines the most appropriate expiration date; for example, an analyst interested to investigate the forward-looking volatility in one year, should use options with an expiration of one year from now. In this notebook, the analysis will focus on options with maturity of one year."
   ]
  },
  {
   "cell_type": "code",
   "execution_count": 5,
   "metadata": {},
   "outputs": [],
   "source": [
    "def call_data(ticker,expiration):\n",
    "    '''\n",
    "    Extracts the strike price and call premium of an option given the ticker symbol of the underlying asset and \n",
    "    the expiration date. Returns a list of strike price and call premium.\n",
    "    \n",
    "    Arguments:\n",
    "    ticker -- String that represents the ticker symbol of the underlying asset. Refer to Yahoo Finance website to find \n",
    "              the symbol\n",
    "              \n",
    "    expiration -- String date in format 'YYYY-MM-DD'. Refer to Yahoo Finance to check list of available expirations \n",
    "                  for the underlying asset\n",
    "                  \n",
    "    Returns:\n",
    "    data -- list containig pairs of strike price and call premiums available for the underlying in the expiration \n",
    "            selected\n",
    "    '''\n",
    "    \n",
    "    security = yf.Ticker(ticker)\n",
    "    \n",
    "    if expiration not in security.options:                       #Assertion to verify that expiration exists\n",
    "        print('Option expiration not available, please verify')\n",
    "        return\n",
    "        \n",
    "    options = security.option_chain(expiration)\n",
    "    calls = options.calls\n",
    "    strike_price = calls['strike']\n",
    "    call_premium = calls['lastPrice']\n",
    "    \n",
    "    data = list(zip(strike_price, call_premium))\n",
    "    data = np.array(data)\n",
    "\n",
    "    \n",
    "    return data"
   ]
  },
  {
   "cell_type": "code",
   "execution_count": 6,
   "metadata": {},
   "outputs": [
    {
     "name": "stdout",
     "output_type": "stream",
     "text": [
      "For expiration on 2021-12-16 there are 51 strike price available \n",
      "\n",
      "The call with strike price of $900.0 has a call premium of $2755.29\n",
      "The call with strike price of $1225.0 has a call premium of $1956.5\n",
      "The call with strike price of $2525.0 has a call premium of $575.4\n",
      "The call with strike price of $4000.0 has a call premium of $127.5\n"
     ]
    }
   ],
   "source": [
    "expiration = '2021-12-16'\n",
    "\n",
    "data = call_data('^GSPC',expiration)\n",
    "print(f'For expiration on {expiration} there are {len(data)} strike price available','\\n')\n",
    "print(f'The call with strike price of ${data[0][0]} has a call premium of ${data[0][1]}')\n",
    "print(f'The call with strike price of ${data[2][0]} has a call premium of ${data[2][1]}')\n",
    "print(f'The call with strike price of ${data[25][0]} has a call premium of ${data[25][1]}')\n",
    "print(f'The call with strike price of ${data[50][0]} has a call premium of ${data[50][1]}')\n"
   ]
  },
  {
   "cell_type": "markdown",
   "metadata": {},
   "source": [
    "Plotting the call premium against each strike price:"
   ]
  },
  {
   "cell_type": "code",
   "execution_count": 7,
   "metadata": {
    "scrolled": false
   },
   "outputs": [
    {
     "data": {
      "image/png": "[encoded data removed]",
      "text/plain": [
       "<Figure size 720x432 with 1 Axes>"
      ]
     },
     "metadata": {
      "needs_background": "light"
     },
     "output_type": "display_data"
    }
   ],
   "source": [
    "K, call_premium = list(zip(*data)) #unpacking the results of call_data function\n",
    "K = np.array(K)\n",
    "call_premium = np.array(call_premium)\n",
    "\n",
    "# Define plot space\n",
    "fig, ax = plt.subplots(figsize=(10, 6))\n",
    "\n",
    "# Define x and y axes\n",
    "ax.plot(K.tolist(), call_premium)\n",
    "\n",
    "# Hide the right and top spines\n",
    "ax.spines['right'].set_visible(False)\n",
    "ax.spines['top'].set_visible(False)\n",
    "\n",
    "plt.axvline(x=1230, c='r', ls='--')\n",
    "plt.axvline(x=3000, c='r', ls='--')\n",
    "plt.axvspan(1230,3000, color='y',alpha=0.2)\n",
    "    \n",
    "plt.title('S&P500 - Call Price', fontdict=title_dict, pad=20)\n",
    "plt.xlabel('Strike price',fontdict=label_dict,labelpad=20)\n",
    "plt.ylabel('Call premium',fontdict=label_dict, labelpad=10)\n",
    "\n",
    "plt.show()\n"
   ]
  },
  {
   "cell_type": "markdown",
   "metadata": {},
   "source": [
    "As noticed in the graph, the greater the strike price, the lower the call premium that the investor has to pay. However, the range between \\\\$1,200 - $3,000 shows considerable fluctuations in the premiums thus the volatility should be highir in this range of strike price. "
   ]
  },
  {
   "cell_type": "markdown",
   "metadata": {},
   "source": [
    "The next variable to deteremine is the risk free rate. This is the return on a treasury bond that matches with the timeframe of the implied volatility. In this example, the expiration of the option chain is one year from now therefore the most accurate representation of the risk free rate is a 1 year US Treasury bill. \n",
    "\n",
    "The function <code>Risk_free</code> takes a predefined time to maturity and using <code>Quandl</code> module calls the table with historic yield curve; then, selects the latest rate that matches the specified maturity. \n",
    "\n",
    "__Note:__ to access Quandl API, the reader should use a personal API Key. This key can be obtained when signing up an account at Quandl website. "
   ]
  },
  {
   "cell_type": "code",
   "execution_count": 8,
   "metadata": {},
   "outputs": [],
   "source": [
    "def Risk_free(ttm):\n",
    "    '''\n",
    "    Extracts the most recent US treasury rate given the time to maturity.\n",
    "    \n",
    "    Arguments:\n",
    "    ttm -- Time to maturity in string format. The available options are:\n",
    "           ['1 MO', '2 MO', '3 MO', '6 MO', '1 YR', '2 YR', '3 YR', '5 YR', '7 YR', '10 YR', '20 YR', '30 YR']\n",
    "    \n",
    "    Returns:\n",
    "    rf -- Most recent risk free rate for the time to maturity selected\n",
    "    '''\n",
    "    yield_curve = quandl.get('USTREASURY/YIELD', authtoken='JMxryiBcRV26o9r5q7uv')\n",
    "    rf = yield_curve[ttm][-1]/100\n",
    "    \n",
    "    return rf    "
   ]
  },
  {
   "cell_type": "code",
   "execution_count": 9,
   "metadata": {},
   "outputs": [
    {
     "name": "stdout",
     "output_type": "stream",
     "text": [
      "The risk free rate for 1 YR to maturity is 0.09%\n"
     ]
    }
   ],
   "source": [
    "ttm = '1 YR'\n",
    "r = Risk_free(ttm)\n",
    "\n",
    "print(f'The risk free rate for {ttm} to maturity is {r*100}%')"
   ]
  },
  {
   "cell_type": "markdown",
   "metadata": {},
   "source": [
    "The last element needed to complet the formula is the time to maturity. This is the difference, measured in years, between the expiration of the option and the current date. The function <code>Time_to_maturity</code> will make this calculation."
   ]
  },
  {
   "cell_type": "code",
   "execution_count": 10,
   "metadata": {},
   "outputs": [],
   "source": [
    "def Time_to_maturity(expiration):\n",
    "    '''\n",
    "    Calculates the time to maturity in years from today to the option expiration.\n",
    "    \n",
    "    Arguments:\n",
    "    expiration -- String date in format 'YYYY-MM-DD'. Refer to Yahoo Finance to check list of available expirations \n",
    "                  for the underlying asset \n",
    "                  \n",
    "    Returns:\n",
    "    ttm -- Time to maturity in year in float format\n",
    "    '''\n",
    "    \n",
    "    today = datetime.now()\n",
    "    expiration_d = datetime.strptime(expiration,'%Y-%m-%d')\n",
    "    datetime_delta = (expiration_d - today).days\n",
    "    ttm = datetime_delta/365\n",
    "    \n",
    "    return ttm\n",
    "    "
   ]
  },
  {
   "cell_type": "code",
   "execution_count": 11,
   "metadata": {},
   "outputs": [
    {
     "name": "stdout",
     "output_type": "stream",
     "text": [
      "As of 2020-12-24, the option chain with an expiration on 2021-12-16 will have a time to maturity of 0.98 year\n"
     ]
    }
   ],
   "source": [
    "T = Time_to_maturity(expiration)\n",
    "\n",
    "print(f'As of {str(datetime.now())[:10]}, the option chain with an expiration on {expiration}',end=\" \")\n",
    "print(f'will have a time to maturity of {round(T,2)} year')"
   ]
  },
  {
   "cell_type": "markdown",
   "metadata": {},
   "source": [
    "Now, it is time to build the algorithm that will estimate the implied volatility for an option chain given the expiration date. \n",
    "\n",
    "The first step is to retrive the variables needed in the Black-Scholes formulat to calculate the call price. The <code>implied_vol</code> will call the previous defined functions for this step. This variables are:\n",
    "\n",
    "- Spot price: Scalar number with the latest price of the underlying value. \n",
    "- Strike price: Numpy array of shape (n,) where n is the number of strike price available in the option chain\n",
    "- Call premium: Numpy array of shape (n,) \n",
    "- Risk premium: Scalar number with the T-bill that is most representative given the time to maturity\n",
    "- Time to maturity: Scalar number representing the time from today to the expiration date measured in years\n",
    "\n",
    "The goal is to calculate, for each strike price, the implied volatility that makes the difference between the calculated call premium and the actual market premium closest to zero. Note that to optimize the computational cost, the algorithm uses linear algebra when using the Black-Scholes formulas.\n",
    "\n",
    "Based on this, the next step is to generate an array of potential implied volatilites. This array is randomly generated following a normal distribution and will have a shape of *j* elements; for each $j^{th}$ element, there is going to be a call premium calculated based on the Black-Scholes formula. \n",
    "\n",
    "Then, if the difference between the previous call premium calculated and the call premium retrieve from the <code>call_data</code> is positive, the algorithm saves the difference in a local variable called <code>spread_pos</code>; on the other hand, if the difference is negative, the algorithm saves it into <code>spread_neg</code>. At the same time, the algorithm selects the implied volatility that generated the positive or negative spread and saves it in the corresponing variable, <code>sigma_pos</code> or <code>sigma_neg</code>.\n",
    "\n",
    "The minimum positive spread and the maximum negative spread will be compared in absolute value to determine the minimum value. This value will be the calculated premium that is closest to the market price, therefore, the implied volatility used in that minimum value will be the optimum implied volatility for that strike price.\n",
    "\n",
    "Finally, this process is repeated for each strike price to obtain an array of implied volatilities for each strike price."
   ]
  },
  {
   "cell_type": "code",
   "execution_count": 12,
   "metadata": {},
   "outputs": [],
   "source": [
    "def implied_vol(ticker, expiration, ttm, iterations = 25000):\n",
    "    \n",
    "    '''\n",
    "    Optimization function that estimates the implied volatility of an option chain. \n",
    "    \n",
    "    Arguments:                  \n",
    "    ticker -- String that represents the ticker symbol of the underlying asset. Refer to Yahoo Finance website to \n",
    "              find the symbol\n",
    "              \n",
    "    expiration -- String date in format 'YYYY-MM-DD'. Refer to Yahoo Finance to check list of available expirations \n",
    "                  for the underlying asset  \n",
    "                  \n",
    "    ttm -- Time to maturity in string format. The available options are:\n",
    "           ['1 MO', '2 MO', '3 MO', '6 MO', '1 YR', '2 YR', '3 YR', '5 YR', '7 YR', '10 YR', '20 YR', '30 YR']\n",
    "           \n",
    "    iterations -- Number of times the algorithm has to run. The greater the number of iterations, the more accurate\n",
    "                  result. Note that there is a trade off between computational cost and accuracy. recommended at least \n",
    "                  25,000 iterations. It might take a couple of minutes.\n",
    "                  \n",
    "    Returns:\n",
    "    imply_vol -- Implied volatility that makes the difference between the market call price and the call price \n",
    "                 calculated using the Black-Scholes Model closest to zero. Numpy array of shape equal to number of \n",
    "                 strike price available for the option.\n",
    "                 \n",
    "    difference -- The closest to zero spread between the market call price and the call price calculated using the \n",
    "                  Black-Scholes Model. Numpy array of shape equal to number of strike price available for the option.\n",
    "                  \n",
    "    cache -- cache of values needed to calculate the call price with the Black-Scholes formula\n",
    "                  \n",
    "    '''\n",
    "    # Retriving the current spot price\n",
    "    S = Spot(ticker)\n",
    "    S = np.array(S)\n",
    "    \n",
    "    # Retriving the array of strike price and market call price\n",
    "    data = call_data(ticker,expiration)\n",
    "    K, call_premium = list(zip(*data)) #unpacking the results of call_data function\n",
    "    K = np.array(K)\n",
    "    call_premium = np.array(call_premium)\n",
    "      \n",
    "    # Retriving the closest risk-free rate corresponding to the maturity of the option\n",
    "    r = Risk_free(ttm)\n",
    "    \n",
    "    # Calculating the time to maturity of the option\n",
    "    T = Time_to_maturity(expiration)\n",
    "    print('Data downloaded successfully')\n",
    "    # Creating a sample of random numbers representing the implied volatility distribution\n",
    "    # The sample follows a normal distribution\n",
    "    sigma_ran = np.random.randn(iterations)\n",
    "    \n",
    "    # Empty lists that will contain the minimun difference and the corresponding implied volatility\n",
    "    imply_vol = []\n",
    "    difference = []\n",
    "    \n",
    "    print('Starting to iterate')\n",
    "    print('Please wait ...')\n",
    "    # Loop through each strike price\n",
    "    for n in range(0,len(K)):\n",
    "        \n",
    "        # Empty lists that will contain the positive spreads, the negative spreads, and their implied volatility\n",
    "        spread_pos = []\n",
    "        sigma_pos = []\n",
    "        spread_neg = []\n",
    "        sigma_neg = []\n",
    "        \n",
    "        # Loop through each value in the sample list of potential implied volatility\n",
    "        for j in range(0,len(sigma_ran)):\n",
    "            \n",
    "            # Calculating the call price for each implied volatility given a specific strike price\n",
    "            d1 = (np.log(np.divide(S,K[n]))+(r+((np.power(sigma_ran[j],2)/2))*T))/(sigma_ran[j]*np.sqrt(T))\n",
    "            N_d1 = st.norm.cdf(d1)\n",
    "\n",
    "            d2 = np.subtract(d1,sigma_ran[j]*np.sqrt(T))\n",
    "            N_d2 = st.norm.cdf(d2)\n",
    "\n",
    "            C = np.subtract(np.multiply(S,N_d1),np.multiply(K[n],np.multiply(np.exp(-r*T),N_d2)))\n",
    "            \n",
    "            # Calculating the spread between the previous calculation and the market call price\n",
    "            spread = np.subtract(C, call_premium[n])\n",
    "            \n",
    "            # Separating the positive spreads with its volatility from the negative spreads with its volatility\n",
    "            if spread >=0:\n",
    "                spread_pos.append(spread)\n",
    "                sigma_pos.append(sigma_ran[j])\n",
    "            else:\n",
    "                spread_neg.append(spread)\n",
    "                sigma_neg.append(sigma_ran[j])\n",
    "        \n",
    "        # Finding the minimum positive spread and the index where it's located\n",
    "        min_dif = np.min(spread_pos)\n",
    "        index_min_dif = np.argmin(spread_pos)\n",
    "        \n",
    "        # Finding the maximum negative spread and the index where it's located\n",
    "        max_dif = np.max(spread_neg)\n",
    "        index_max_dif = np.argmax(spread_neg)\n",
    "        \n",
    "        # Comparing the maximum negative spread with the minimum positive spread and selecting the one with lowest\n",
    "        # absolute value and identifying the corresponding implied volatility\n",
    "        if abs(min_dif) < abs(max_dif):\n",
    "            sigma_optimun = sigma_pos[index_min_dif]\n",
    "            spr = min_dif\n",
    "        else:\n",
    "            sigma_optimun = sigma_neg[index_max_dif]\n",
    "            spr = max_dif\n",
    "        \n",
    "        # Saving the implied volatility that makes the spread closest to zeroimply_vol, difference, cache = implied_vol('^GSPC','2021-12-16','1 YR',iterations=100000)\n",
    "\n",
    "        imply_vol.append(sigma_optimun)\n",
    "        difference.append(spr)\n",
    "       \n",
    "    # Values required to calculate the call price using Black-Scholes formula\n",
    "    cache = (S,K,call_premium,r,T)\n",
    "     \n",
    "    return imply_vol, difference, cache"
   ]
  },
  {
   "cell_type": "markdown",
   "metadata": {},
   "source": [
    "Calculating the implied volatilities for the S&P500 example used before. The number of iterations is 100,000 meaning that the implied volatility distribution will have 100,000 values. The algorithm saves in cache all variables used in the Black-Scholes model for each optimum implied volatility."
   ]
  },
  {
   "cell_type": "code",
   "execution_count": 14,
   "metadata": {
    "scrolled": false
   },
   "outputs": [
    {
     "name": "stdout",
     "output_type": "stream",
     "text": [
      "Data downloaded successfully\n",
      "Starting to iterate\n",
      "Please wait ...\n",
      "1345.613482952118\n"
     ]
    }
   ],
   "source": [
    "imply_vol, difference, cache = implied_vol('^GSPC','2021-12-16','1 YR',iterations=100000)"
   ]
  },
  {
   "cell_type": "markdown",
   "metadata": {},
   "source": []
  },
  {
   "cell_type": "code",
   "execution_count": 15,
   "metadata": {},
   "outputs": [
    {
     "name": "stdout",
     "output_type": "stream",
     "text": [
      "[0.172896467790924, 0.16444378426478856, 0.13881574459277696, 0.12743570300843987, 0.07088409719935165, 0.07088409719935165, 0.11009633373193864, 0.11360915801572406, 0.10945765941218236, 0.10545122959854461, 0.10359428393329582, 0.10123723171970171, 0.08976700331437515, 0.08849436358947832, 0.08377668947796381, 0.07609034467123554, 0.066127419885787, 0.03980706181270426, 0.062273937128303807, 0.05915022835615249, 0.057019625067267134, 0.05447648829516067, 0.05447648829516067, 0.050496363444218276, 0.17025460397063194, -0.0385742229618126, 0.03980706181270426, 0.0463515795523729, 0.04327706360907455, 0.04241876038528087, 0.04128852914423211, 0.04074079698454174, 0.03980706181270426, 0.037337592289397106, 0.18257421353905676, -0.032033419970837355, 0.23331448225504958, 0.033601784131491105, 0.03250931491122013, 0.14868642977061075, 0.029986392543803832, 0.2022354589770026, 0.20382167420163513, 0.19803098977673064, 0.22457490813177441, 0.2205265653837782, 0.21553555446666767, 0.19008541146134902, 0.18429256797976412, 0.16142385584934277, 0.15250186285049627]\n"
     ]
    }
   ],
   "source": [
    "print(imply_vol)"
   ]
  },
  {
   "cell_type": "code",
   "execution_count": 16,
   "metadata": {},
   "outputs": [
    {
     "name": "stdout",
     "output_type": "stream",
     "text": [
      "[46.68741842487134, 45.52713158319011, 520.7689861894078, 363.0762710581473, 183.62355592688664, 182.82598421646662, 42.36569737478521, 751.8781256643649, 951.0605539539447, 501.8054105331046, 702.6278388226842, 998.1502671122639, 659.6848368497426, 411.8072651393222, 441.47455000806144, 64.96426316638076, 748.6212611934388, 336.5036894830189, 141.88854606217842, 81.4334026413378, 519.2782592204971, 296.323115799657, 517.4555440892367, 153.84040066839611, -0.0004272827586646599, -575.4, 275.77768553713565, 233.33011382671532, 59.8825421162951, 158.52497040587468, 144.04739869545438, 463.6698269850341, 43.59225527461422, 222.1146835641939, 0.0006424223415706365, -371.06, 0.008470903212241865, 63.84439672251267, 2.626825012092354, -0.008391727513185288, 149.7941098808319, -0.006078474393689248, -0.020078181844496612, -0.0048415195291227064, 0.010224859949971687, -0.018439065639995533, 0.00011976265614066506, -0.007599270512514522, -0.00819527223023897, 0.0009456529529359159, -0.030740554891735883]\n"
     ]
    }
   ],
   "source": [
    "print(difference)"
   ]
  },
  {
   "cell_type": "code",
   "execution_count": 17,
   "metadata": {},
   "outputs": [],
   "source": [
    "S,K,call_premium,r,T = cache"
   ]
  },
  {
   "cell_type": "markdown",
   "metadata": {},
   "source": [
    "All things constant, as the strike price changes, the implied volatility will "
   ]
  },
  {
   "cell_type": "code",
   "execution_count": 18,
   "metadata": {},
   "outputs": [
    {
     "data": {
      "text/plain": [
       "[<matplotlib.lines.Line2D at 0x24b17b7b8c8>]"
      ]
     },
     "execution_count": 18,
     "metadata": {},
     "output_type": "execute_result"
    },
    {
     "data": {
      "image/png": "[encoded data removed]",
      "text/plain": [
       "<Figure size 720x432 with 1 Axes>"
      ]
     },
     "metadata": {
      "needs_background": "light"
     },
     "output_type": "display_data"
    }
   ],
   "source": [
    "# Define plot space\n",
    "fig, ax = plt.subplots(figsize=(10, 6))\n",
    "\n",
    "# Define x and y axes\n",
    "ax.plot(K.tolist(), \n",
    "        imply_vol)\n"
   ]
  },
  {
   "cell_type": "markdown",
   "metadata": {},
   "source": [
    "__References:__<p>&nbsp;</p> \n",
    "\n",
    "- Tim Worall (2008). The Black-Scholes Formula, FIN-40008 Financial Instruments http://www.timworrall.com/fin-40008/bscholes.pdf"
   ]
  }
 ],
 "metadata": {
  "kernelspec": {
   "display_name": "Python 3",
   "language": "python",
   "name": "python3"
  },
  "language_info": {
   "codemirror_mode": {
    "name": "ipython",
    "version": 3
   },
   "file_extension": ".py",
   "mimetype": "text/x-python",
   "name": "python",
   "nbconvert_exporter": "python",
   "pygments_lexer": "ipython3",
   "version": "3.7.6"
  }
 },
 "nbformat": 4,
 "nbformat_minor": 4
}
