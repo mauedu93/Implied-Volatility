{
 "cells": [
  {
   "cell_type": "code",
   "execution_count": 18,
   "metadata": {},
   "outputs": [],
   "source": [
    "import yfinance as yf\n",
    "from datetime import datetime\n",
    "import quandl\n",
    "import stockquotes\n",
    "import numpy as np\n",
    "import scipy.stats as st \n",
    "import pandas as pd \n",
    "import matplotlib.pyplot as plt\n",
    "\n",
    "%matplotlib inline"
   ]
  },
  {
   "cell_type": "code",
   "execution_count": 24,
   "metadata": {},
   "outputs": [],
   "source": [
    "def Spot(ticker):\n",
    "    '''\n",
    "    Takes a ticker symbol and returns the last price of the asset\n",
    "    \n",
    "    Arguments:\n",
    "    ticker -- String that represents the ticker symbol of the underlying asset. Refer to Yahoo Finance website to find the \n",
    "              symbol\n",
    "              \n",
    "    Returns:\n",
    "    S -- Spot price of the asset\n",
    "    '''\n",
    "    \n",
    "    security = stockquotes.Stock(ticker)\n",
    "    S = security.current_price\n",
    "\n",
    "    return S    "
   ]
  },
  {
   "cell_type": "code",
   "execution_count": 25,
   "metadata": {},
   "outputs": [
    {
     "name": "stdout",
     "output_type": "stream",
     "text": [
      "S&P500 last price was $3663.46, thus we will look for strike price in the range of $3363 - $3963\n"
     ]
    }
   ],
   "source": [
    "S = Spot(\"^GSPC\")\n",
    "print(f'S&P500 last price was ${S}, thus we will look for strike price in the range of ${round(S-300)} - ${round(S+300)}')"
   ]
  },
  {
   "cell_type": "code",
   "execution_count": 20,
   "metadata": {},
   "outputs": [],
   "source": [
    "def call_data(ticker,expiration):\n",
    "    '''\n",
    "    Extracts the strike price and call premium of an option given the ticker symbol of the underlying asset and \n",
    "    the expiration date. Returns a list of strike price and call premium.\n",
    "    \n",
    "    Arguments:\n",
    "    ticker -- String that represents the ticker symbol of the underlying asset. Refer to Yahoo Finance website to find the \n",
    "              symbol\n",
    "    expiration -- String date in format 'YYYY-MM-DD'. Refer to Yahoo Finance to check list of available expirations for \n",
    "                  the underlying asset\n",
    "                  \n",
    "    Returns:\n",
    "    data -- list containig pairs of strike price and call premiums available for the underlying in the expiration selected\n",
    "    '''\n",
    "    \n",
    "    security = yf.Ticker(ticker)\n",
    "    \n",
    "    if expiration not in security.options:                       #Assertion to verify that expiration exists\n",
    "        print('Option expiration not available, please verify')\n",
    "        return\n",
    "        \n",
    "    options = security.option_chain(expiration)\n",
    "    calls = options.calls\n",
    "    strike_price = calls['strike']\n",
    "    call_premium = calls['lastPrice']\n",
    "    \n",
    "    data = list(zip(strike_price, call_premium))\n",
    "    \n",
    "    return data"
   ]
  },
  {
   "cell_type": "code",
   "execution_count": 14,
   "metadata": {},
   "outputs": [
    {
     "data": {
      "text/plain": [
       "[(900.0, 2755.29),\n",
       " (1000.0, 2656.54),\n",
       " (1225.0, 1956.5),\n",
       " (1300.0, 2039.26),\n",
       " (1375.0, 2143.78),\n",
       " (1400.0, 2119.6),\n",
       " (1500.0, 2160.15),\n",
       " (1525.0, 1425.66),\n",
       " (1550.0, 1201.5),\n",
       " (1600.0, 1600.8),\n",
       " (1625.0, 1375.0),\n",
       " (1650.0, 1054.5),\n",
       " (1800.0, 1243.1),\n",
       " (1825.0, 1466.0),\n",
       " (1900.0, 1361.4),\n",
       " (2000.0, 1638.0),\n",
       " (2175.0, 779.5),\n",
       " (2200.0, 1166.64),\n",
       " (2250.0, 1311.3),\n",
       " (2300.0, 1321.8),\n",
       " (2350.0, 834.0),\n",
       " (2400.0, 1007.0),\n",
       " (2425.0, 760.89),\n",
       " (2475.0, 1074.55),\n",
       " (2500.0, 1205.23),\n",
       " (2525.0, 575.4),\n",
       " (2550.0, 877.68),\n",
       " (2575.0, 895.15),\n",
       " (2600.0, 1043.62),\n",
       " (2625.0, 920.0),\n",
       " (2650.0, 909.5),\n",
       " (2675.0, 564.9),\n",
       " (2700.0, 960.0),\n",
       " (2725.0, 756.5),\n",
       " (2750.0, 966.06),\n",
       " (2775.0, 371.06),\n",
       " (2800.0, 945.42),\n",
       " (2825.0, 814.86),\n",
       " (2850.0, 851.1),\n",
       " (2900.0, 813.82),\n",
       " (2925.0, 629.0),\n",
       " (2950.0, 797.0),\n",
       " (3000.0, 756.39),\n",
       " (3100.0, 670.9),\n",
       " (3200.0, 622.93),\n",
       " (3300.0, 550.0),\n",
       " (3400.0, 480.0),\n",
       " (3500.0, 386.35),\n",
       " (3600.0, 322.96),\n",
       " (3900.0, 158.66),\n",
       " (4000.0, 115.0)]"
      ]
     },
     "execution_count": 14,
     "metadata": {},
     "output_type": "execute_result"
    }
   ],
   "source": [
    "call_data('^GSPC','2021-12-16')"
   ]
  },
  {
   "cell_type": "code",
   "execution_count": 5,
   "metadata": {},
   "outputs": [],
   "source": [
    "def Risk_free(ttm):\n",
    "    '''\n",
    "    Extracts the most recent US treasury rate given the time to maturity.\n",
    "    \n",
    "    Arguments:\n",
    "    ttm -- Time to maturity in string format. The available options are:\n",
    "    ['1 MO', '2 MO', '3 MO', '6 MO', '1 YR', '2 YR', '3 YR', '5 YR', '7 YR', '10 YR', '20 YR', '30 YR']\n",
    "    \n",
    "    Returns:\n",
    "    rf -- Most recent risk free rate for the time to maturity selected\n",
    "    '''\n",
    "    yield_curve = quandl.get('USTREASURY/YIELD', authtoken='JMxryiBcRV26o9r5q7uv')\n",
    "    rf = yield_curve[ttm][-1]\n",
    "    \n",
    "    return rf    "
   ]
  },
  {
   "cell_type": "code",
   "execution_count": 6,
   "metadata": {},
   "outputs": [
    {
     "data": {
      "text/plain": [
       "0.1"
      ]
     },
     "execution_count": 6,
     "metadata": {},
     "output_type": "execute_result"
    }
   ],
   "source": [
    "Risk_free('1 YR')"
   ]
  },
  {
   "cell_type": "code",
   "execution_count": 7,
   "metadata": {},
   "outputs": [],
   "source": [
    "def Time_to_maturity(expiration):\n",
    "    '''\n",
    "    Calculates the time to maturity in years from today to the option expiration\n",
    "    \n",
    "    Arguments:\n",
    "    expiration -- String date in format 'YYYY-MM-DD'. Refer to Yahoo Finance to check list of available expirations for \n",
    "                  the underlying asset\n",
    "                  \n",
    "    Returns:\n",
    "    ttm -- Time to maturity in year in float format\n",
    "    '''\n",
    "    \n",
    "    today = datetime.now()\n",
    "    expiration_d = datetime.strptime(expiration,'%Y-%m-%d')\n",
    "    datetime_delta = (expiration_d - today).days\n",
    "    ttm = datetime_delta/365\n",
    "    \n",
    "    return ttm\n",
    "    "
   ]
  },
  {
   "cell_type": "code",
   "execution_count": 8,
   "metadata": {},
   "outputs": [
    {
     "data": {
      "text/plain": [
       "1.010958904109589"
      ]
     },
     "execution_count": 8,
     "metadata": {},
     "output_type": "execute_result"
    }
   ],
   "source": [
    "Time_to_maturity('2021-12-16')"
   ]
  },
  {
   "cell_type": "code",
   "execution_count": 82,
   "metadata": {},
   "outputs": [],
   "source": [
    "def Norm_d1(ticker, expiration, ttm, sigma = 0.1):\n",
    "    \n",
    "    S = Spot(ticker)\n",
    "    \n",
    "    data = call_data(ticker,expiration)\n",
    "    \n",
    "    K, call_premium = list(zip(*data))\n",
    "    \n",
    "    S = np.array(S)\n",
    "    K = np.array(K)\n",
    "    \n",
    "    r = Risk_free(ttm)\n",
    "    \n",
    "    T = Time_to_maturity(expiration)\n",
    "    \n",
    "    \n",
    "    d1 = (np.log(np.divide(S,K))+(r+((np.power(sigma,2)/2))*T))/(sigma*np.sqrt(T))\n",
    "    N_d1 = st.norm.cdf(d1)\n",
    "    \n",
    "    cache = (N_d1, T, r, S, K, call_premium)\n",
    "    \n",
    "    return d1, cache"
   ]
  },
  {
   "cell_type": "code",
   "execution_count": 53,
   "metadata": {},
   "outputs": [
    {
     "data": {
      "text/plain": [
       "(array([15.00623179, 13.95835279, 11.93997382, 11.34896917, 10.79112287,\n",
       "        10.61191709,  9.92573802,  9.76134333,  9.59962186,  9.28386036,\n",
       "         9.12966112,  8.97781616,  8.1124313 ,  7.97524772,  7.57469755,\n",
       "         7.0645523 ,  6.23029627,  6.11663044,  5.89312324,  5.67452869,\n",
       "         5.46063546,  5.25124559,  5.14818092,  4.94520139,  4.84524425,\n",
       "         4.74628172,  4.64829421,  4.55126269,  4.45516869,  4.35999426,\n",
       "         4.26572198,  4.17233489,  4.07981653,  3.98815089,  3.89732239,\n",
       "         3.80731587,  3.71811661,  3.62971023,  3.54208278,  3.36911056,\n",
       "         3.28373963,  3.19909528,  3.03193753,  2.70582137,  2.39005987,\n",
       "         2.08401567,  1.7871085 ,  1.49880855,  1.21863082,  0.42255392,\n",
       "         0.17075182]),\n",
       " (array([1.        , 1.        , 1.        , 1.        , 1.        ,\n",
       "         1.        , 1.        , 1.        , 1.        , 1.        ,\n",
       "         1.        , 1.        , 1.        , 1.        , 1.        ,\n",
       "         1.        , 1.        , 1.        , 1.        , 0.99999999,\n",
       "         0.99999998, 0.99999992, 0.99999987, 0.99999962, 0.99999937,\n",
       "         0.99999896, 0.99999833, 0.99999733, 0.99999581, 0.9999935 ,\n",
       "         0.99999004, 0.99998493, 0.99997746, 0.9999667 , 0.99995137,\n",
       "         0.99992976, 0.99989964, 0.99985813, 0.99980151, 0.99962294,\n",
       "         0.9994878 , 0.9993107 , 0.99878505, 0.99659322, 0.99157719,\n",
       "         0.98142063, 0.96304002, 0.93303835, 0.88850783, 0.66368962,\n",
       "         0.56779054]),\n",
       "  1.010958904109589,\n",
       "  0.1,\n",
       "  array(3663.46),\n",
       "  array([ 900., 1000., 1225., 1300., 1375., 1400., 1500., 1525., 1550.,\n",
       "         1600., 1625., 1650., 1800., 1825., 1900., 2000., 2175., 2200.,\n",
       "         2250., 2300., 2350., 2400., 2425., 2475., 2500., 2525., 2550.,\n",
       "         2575., 2600., 2625., 2650., 2675., 2700., 2725., 2750., 2775.,\n",
       "         2800., 2825., 2850., 2900., 2925., 2950., 3000., 3100., 3200.,\n",
       "         3300., 3400., 3500., 3600., 3900., 4000.])))"
      ]
     },
     "execution_count": 53,
     "metadata": {},
     "output_type": "execute_result"
    }
   ],
   "source": [
    "Norm_d1('^GSPC','2021-12-16','1 YR')"
   ]
  },
  {
   "cell_type": "code",
   "execution_count": 84,
   "metadata": {},
   "outputs": [],
   "source": [
    "def Norm_d2(ticker, expiration, ttm, sigma = 0.1):\n",
    "    \n",
    "    d1, cache = Norm_d1(ticker, expiration, ttm, sigma)\n",
    "    \n",
    "    N_d1, T, r, S, K, call_premium = cache\n",
    "    \n",
    "    d2 = np.subtract(d1,sigma*np.sqrt(T))\n",
    "    N_d2 = st.norm.cdf(d2)\n",
    "    \n",
    "    cache = (N_d1, S, K, r, T, call_premium)\n",
    "    \n",
    "    return N_d2, cache"
   ]
  },
  {
   "cell_type": "code",
   "execution_count": 57,
   "metadata": {},
   "outputs": [
    {
     "data": {
      "text/plain": [
       "(array([1.        , 1.        , 1.        , 1.        , 1.        ,\n",
       "        1.        , 1.        , 1.        , 1.        , 1.        ,\n",
       "        1.        , 1.        , 1.        , 1.        , 1.        ,\n",
       "        1.        , 1.        , 1.        , 1.        , 0.99999999,\n",
       "        0.99999996, 0.99999987, 0.99999978, 0.99999937, 0.99999896,\n",
       "        0.99999831, 0.99999729, 0.99999572, 0.99999334, 0.99998975,\n",
       "        0.99998444, 0.99997667, 0.99996544, 0.99994938, 0.9999267 ,\n",
       "        0.99989504, 0.99985131, 0.99979156, 0.99971079, 0.99945953,\n",
       "        0.9992717 , 0.99902765, 0.99831276, 0.99540997, 0.98897523,\n",
       "        0.97634248, 0.9541562 , 0.91898281, 0.86823452, 0.62627648,\n",
       "        0.5279849 ]),\n",
       " (array([1.        , 1.        , 1.        , 1.        , 1.        ,\n",
       "         1.        , 1.        , 1.        , 1.        , 1.        ,\n",
       "         1.        , 1.        , 1.        , 1.        , 1.        ,\n",
       "         1.        , 1.        , 1.        , 1.        , 0.99999999,\n",
       "         0.99999998, 0.99999992, 0.99999987, 0.99999962, 0.99999937,\n",
       "         0.99999896, 0.99999833, 0.99999733, 0.99999581, 0.9999935 ,\n",
       "         0.99999004, 0.99998493, 0.99997746, 0.9999667 , 0.99995137,\n",
       "         0.99992976, 0.99989964, 0.99985813, 0.99980151, 0.99962294,\n",
       "         0.9994878 , 0.9993107 , 0.99878505, 0.99659322, 0.99157719,\n",
       "         0.98142063, 0.96304002, 0.93303835, 0.88850783, 0.66368962,\n",
       "         0.56779054]),\n",
       "  array(3663.46),\n",
       "  array([ 900., 1000., 1225., 1300., 1375., 1400., 1500., 1525., 1550.,\n",
       "         1600., 1625., 1650., 1800., 1825., 1900., 2000., 2175., 2200.,\n",
       "         2250., 2300., 2350., 2400., 2425., 2475., 2500., 2525., 2550.,\n",
       "         2575., 2600., 2625., 2650., 2675., 2700., 2725., 2750., 2775.,\n",
       "         2800., 2825., 2850., 2900., 2925., 2950., 3000., 3100., 3200.,\n",
       "         3300., 3400., 3500., 3600., 3900., 4000.]),\n",
       "  0.1,\n",
       "  1.010958904109589))"
      ]
     },
     "execution_count": 57,
     "metadata": {},
     "output_type": "execute_result"
    }
   ],
   "source": [
    "Norm_d2('^GSPC','2021-12-16','1 YR')"
   ]
  },
  {
   "cell_type": "code",
   "execution_count": 87,
   "metadata": {},
   "outputs": [],
   "source": [
    "def Call_price(ticker, expiration, ttm, sigma = 0.1):\n",
    "    \n",
    "    N_d2, cache = Norm_d2(ticker, expiration, ttm, sigma)\n",
    "    \n",
    "    N_d1, S, K, r, T, call_premium = cache\n",
    "    \n",
    "    C = np.subtract(np.multiply(S,N_d1),np.multiply(K,np.multiply(np.exp(-r*T),N_d2)))\n",
    "    \n",
    "    call_premium = np.array(call_premium)\n",
    "    \n",
    "    return C, call_premium"
   ]
  },
  {
   "cell_type": "code",
   "execution_count": null,
   "metadata": {},
   "outputs": [],
   "source": [
    "from scipy.optimize import minimize"
   ]
  },
  {
   "cell_type": "code",
   "execution_count": 115,
   "metadata": {},
   "outputs": [],
   "source": [
    "def difference(ticker, expiration, ttm, sigma = 0.1):\n",
    "    \n",
    "    B_S, call_premium = Call_price(ticker, expiration, ttm, sigma)\n",
    "    \n",
    "    difference = np.subtract(B_S, call_premium)\n",
    "    \n",
    "    return difference"
   ]
  },
  {
   "cell_type": "code",
   "execution_count": null,
   "metadata": {},
   "outputs": [],
   "source": []
  }
 ],
 "metadata": {
  "kernelspec": {
   "display_name": "Python 3",
   "language": "python",
   "name": "python3"
  },
  "language_info": {
   "codemirror_mode": {
    "name": "ipython",
    "version": 3
   },
   "file_extension": ".py",
   "mimetype": "text/x-python",
   "name": "python",
   "nbconvert_exporter": "python",
   "pygments_lexer": "ipython3",
   "version": "3.7.6"
  }
 },
 "nbformat": 4,
 "nbformat_minor": 4
}
