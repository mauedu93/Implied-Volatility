{
 "cells": [
  {
   "cell_type": "markdown",
   "metadata": {},
   "source": [
    "# Implied Volatility"
   ]
  },
  {
   "cell_type": "markdown",
   "metadata": {},
   "source": [
    "The implied volatility is a measure of market risk and helps to determine changes in the supply and demand of a security; however, the implied volatility does not provide the direction of the change. The implied volatility can be calculated from option prices using the Black-Scholes formula. This metric gives a forward-looking perspective to the analyst. When the market is bearish, the volatility tends to increase; on the other hand, when investors expect prices to rise, the implied volatility tends to fall.\n",
    "\n",
    "This notebook will provide an algorithm to calculate the implied volatility for a given security using the call option chain of a security. The algorithm first retrives the variables needed to calculate the call price with the Black-Scholes model assuming there is no dividend payment. Then, the algorithm estimates the spread between the calculated call price and the actual market price. Finaly, the algorithm finds the implied volatility that makes the square differences closest to zero.\n",
    "\n",
    "Importing all necessary libraries first."
   ]
  },
  {
   "cell_type": "code",
   "execution_count": 1,
   "metadata": {},
   "outputs": [],
   "source": [
    "import yfinance as yf\n",
    "from datetime import datetime\n",
    "import quandl\n",
    "import stockquotes\n",
    "import numpy as np\n",
    "import scipy.stats as st \n",
    "import pandas as pd \n",
    "import matplotlib.pyplot as plt\n",
    "import math\n",
    "import os\n",
    "\n",
    "%matplotlib inline"
   ]
  },
  {
   "cell_type": "markdown",
   "metadata": {},
   "source": [
    "This notebook analyses the implied volatility using the SPDR S&P500 ETF as a proxy of the market. The volatility is forward-looking to one month ahead. "
   ]
  },
  {
   "cell_type": "code",
   "execution_count": 2,
   "metadata": {},
   "outputs": [],
   "source": [
    "#Defining the security ticker to analyze, the expiration date of the option, and risk free time to maturity\n",
    "ticker = 'SPY'\n",
    "expiration = '2021-02-04'\n",
    "ttm = '1 MO'"
   ]
  },
  {
   "cell_type": "code",
   "execution_count": 3,
   "metadata": {},
   "outputs": [],
   "source": [
    "#Dictionaries to customize the font of labels and titles of graphs\n",
    "label_dict = {'fontsize': 14,\n",
    "            'fontweight' : 5,\n",
    "            'verticalalignment': 'baseline',\n",
    "            'horizontalalignment': 'center'\n",
    "             }\n",
    "title_dict = {'fontsize': 20,\n",
    "           'fontweight' : 5,\n",
    "           'verticalalignment': 'baseline',\n",
    "           'horizontalalignment': 'center'\n",
    "             }"
   ]
  },
  {
   "cell_type": "markdown",
   "metadata": {},
   "source": [
    "### Option pricing"
   ]
  },
  {
   "cell_type": "markdown",
   "metadata": {},
   "source": [
    "An option is a financial instrument that derives its value from an underlying asset. There are two types of option, calls and puts. A call option gives the holder the right to buy the underlying asset at a predetermined price, called strike price, on the expiration date of the call. A put option gives the holder the right to sell the underlying asset at the strike price on the expiration date."
   ]
  },
  {
   "cell_type": "markdown",
   "metadata": {},
   "source": [
    "In a call option, if the strike price is less than the spot price, the buyer of the option will have a positive return. Whereas, on a put option, the long side will benefit if the strike price is higher than the spot price. An option is in-the-money if the option provides a positive value, the option is out-of-the-money when it doesn't have intrinsic value; meaning that if the option is exercised, there is not going to be a profit. An option is at-the-money when the strike price is equal to the spot price of the underlying asset."
   ]
  },
  {
   "cell_type": "markdown",
   "metadata": {},
   "source": [
    "The price of the option is the premium that the long position must pay to bear the opportunity to buy or sell the underlying asset. The formula to calculate the call price for an European option that does not pay dividends is given by:\n",
    "\n",
    "\\begin{equation*}\n",
    "C = S_t N \\left(d1 \\right) - K e^{-rt} N \\left(d2 \\right)\n",
    "\\end{equation*}"
   ]
  },
  {
   "cell_type": "markdown",
   "metadata": {},
   "source": [
    "__Where:__\n",
    "\n",
    "\\begin{equation*}\n",
    "d1 = \\frac{ \\ln{ \\frac{S_t}{K} + \\left(r + \\frac{\\sigma_u^2}{2} \\right) t} }{\\sigma_s \\sqrt{t}}\n",
    "\\end{equation*}\n",
    "\n",
    "and:\n",
    "\n",
    "\\begin{equation*}\n",
    "d2 = d1 -  \\sigma_s \\sqrt{t}\n",
    "\\end{equation*}"
   ]
  },
  {
   "cell_type": "markdown",
   "metadata": {},
   "source": [
    "__Where:__\n",
    "\n",
    "\\begin{alignat*}{1}\n",
    "&C \\quad & = \\quad & \\text{Call option price} \\\\\n",
    "&S \\quad & = \\quad & \\text{Current stock (or other underlying) price} \\\\\n",
    "&K \\quad & = \\quad & \\text{Strike price} \\\\\n",
    "&r \\quad & = \\quad & \\text{Risk-free interest rate} \\\\\n",
    "&t \\quad & = \\quad & \\text{time to maturity} \\\\\n",
    "&\\sigma \\quad & = \\quad & \\text{Implied volatility} \\\\\n",
    "&N \\quad & = \\quad & \\text{A normal distribution}\n",
    "\\end{alignat*}"
   ]
  },
  {
   "cell_type": "markdown",
   "metadata": {},
   "source": [
    "The target variable in the formula is sigma or the implied volatility.  "
   ]
  },
  {
   "cell_type": "markdown",
   "metadata": {},
   "source": [
    "Before coding the algorithm to calculate the implied volatility, there are some helpful functions that must be defined. The first function is <code>Spot()</code> that retrives the current stock price given the ticker symbol. This function uses the module <code>stockquotes</code> that collects stock price data from Yahoo Finance."
   ]
  },
  {
   "cell_type": "code",
   "execution_count": 4,
   "metadata": {},
   "outputs": [],
   "source": [
    "def Spot(ticker):\n",
    "    '''\n",
    "    Takes a ticker symbol and returns the last price of the asset.\n",
    "    \n",
    "    Arguments:\n",
    "    ticker -- String that represents the ticker symbol of the underlying asset. Refer to Yahoo Finance website to find \n",
    "              the symbol\n",
    "              \n",
    "    Returns:\n",
    "    S -- Spot price of the asset\n",
    "    '''\n",
    "    \n",
    "    security = stockquotes.Stock(ticker)\n",
    "    S = security.current_price\n",
    "\n",
    "    return S    "
   ]
  },
  {
   "cell_type": "markdown",
   "metadata": {},
   "source": [
    "The SPDR S&P500 distributes dividends quarterly, the next distribution is expected to be until March 2021. This is in line with the assumption in the Black-Scholes formula of no dividend payments. \n",
    "\n",
    "Retriving the spot price of the SPDR S&P500 using the function define above:"
   ]
  },
  {
   "cell_type": "code",
   "execution_count": 5,
   "metadata": {},
   "outputs": [
    {
     "name": "stdout",
     "output_type": "stream",
     "text": [
      "The last price of the SPDR S&P500 was $372.03, thus preferred strike prices are in the range of $342 - $402\n"
     ]
    }
   ],
   "source": [
    "S = Spot(ticker)\n",
    "print(f'The last price of the SPDR S&P500 was ${S}, thus preferred strike prices are in the range of',end=\" \") \n",
    "print(f'${round(S-30)} - ${round(S+30)}')"
   ]
  },
  {
   "cell_type": "markdown",
   "metadata": {},
   "source": [
    "The next step would be to retrieve the strike price and the call premiun. The <code>call_data()</code> function gets these two pieces of information using the <code>yfinance</code> library. The function requires to specify the ticker symbol and the expiration date; then it returns a tuple with the strike price and call premium available for the expiration selected. \n",
    "\n",
    "The timeframe of the implied volatility analysis determines the most appropriate expiration date; for example, an analyst interested to investigate the forward-looking volatility in one year, should use options with an expiration of one year from now. In this notebook, the expiration of the option is on Feb 04, 2021; thus, the implied volatility is of approximate one month from now."
   ]
  },
  {
   "cell_type": "code",
   "execution_count": 6,
   "metadata": {},
   "outputs": [],
   "source": [
    "def call_data(ticker,expiration):\n",
    "    '''\n",
    "    Extracts the strike price and call premium of an option given the ticker symbol of the underlying asset and \n",
    "    the expiration date. Returns a list of strike price and call premium.\n",
    "    \n",
    "    Arguments:\n",
    "    ticker -- String that represents the ticker symbol of the underlying asset. Refer to Yahoo Finance website to find \n",
    "              the symbol\n",
    "              \n",
    "    expiration -- String date in format 'YYYY-MM-DD'. Refer to Yahoo Finance to check list of available expirations \n",
    "                  for the underlying asset\n",
    "                  \n",
    "    Returns:\n",
    "    data -- list containig pairs of strike price and call premiums available for the underlying in the expiration \n",
    "            selected\n",
    "    '''\n",
    "    \n",
    "    security = yf.Ticker(ticker)\n",
    "    \n",
    "    if expiration not in security.options:                       #Assertion to verify that expiration exists\n",
    "        print('Option expiration not available, please verify')\n",
    "        return\n",
    "        \n",
    "    options = security.option_chain(expiration)\n",
    "    calls = options.calls\n",
    "    strike_price = calls['strike']\n",
    "    call_premium = calls['lastPrice']\n",
    "    \n",
    "    data = list(zip(strike_price, call_premium))\n",
    "    data = np.array(data)\n",
    "\n",
    "    \n",
    "    return data"
   ]
  },
  {
   "cell_type": "code",
   "execution_count": 7,
   "metadata": {},
   "outputs": [
    {
     "name": "stdout",
     "output_type": "stream",
     "text": [
      "For expiration on 2021-02-04 there are 24 strike price available \n",
      "\n",
      "The call with strike price of $342.5 has a call premium of $32.37\n",
      "The call with strike price of $352.5 has a call premium of $23.98\n",
      "The call with strike price of $382.5 has a call premium of $3.39\n",
      "The call with strike price of $410.0 has a call premium of $0.22\n"
     ]
    }
   ],
   "source": [
    "data = call_data(ticker,expiration)\n",
    "print(f'For expiration on {expiration} there are {len(data)} strike price available','\\n')\n",
    "print(f'The call with strike price of ${data[0][0]} has a call premium of ${data[0][1]}')\n",
    "print(f'The call with strike price of ${data[2][0]} has a call premium of ${data[2][1]}')\n",
    "print(f'The call with strike price of ${data[10][0]} has a call premium of ${data[10][1]}')\n",
    "print(f'The call with strike price of ${data[20][0]} has a call premium of ${data[20][1]}')\n"
   ]
  },
  {
   "cell_type": "markdown",
   "metadata": {},
   "source": [
    "Plotting the call premium against each strike price:"
   ]
  },
  {
   "cell_type": "code",
   "execution_count": 8,
   "metadata": {
    "scrolled": false
   },
   "outputs": [
    {
     "data": {
      "image/png": "[encoded data removed]",
      "text/plain": [
       "<Figure size 720x432 with 1 Axes>"
      ]
     },
     "metadata": {
      "needs_background": "light"
     },
     "output_type": "display_data"
    }
   ],
   "source": [
    "K, call_premium = list(zip(*data)) #unpacking the results of call_data function\n",
    "K = np.array(K)\n",
    "call_premium = np.array(call_premium)\n",
    "\n",
    "# Define plot space\n",
    "fig, ax = plt.subplots(figsize=(10, 6))\n",
    "\n",
    "# Define x and y axes\n",
    "ax.plot(K.tolist(), call_premium)\n",
    "\n",
    "# Hide the right and top spines\n",
    "ax.spines['right'].set_visible(False)\n",
    "ax.spines['top'].set_visible(False)\n",
    "    \n",
    "plt.title('SPDR S&P500 - Call Price', fontdict=title_dict, pad=20)\n",
    "plt.xlabel('Strike price ($)',fontdict=label_dict,labelpad=20)\n",
    "plt.ylabel('Call premium ($)',fontdict=label_dict, labelpad=10)\n",
    "\n",
    "plt.show()\n"
   ]
  },
  {
   "cell_type": "markdown",
   "metadata": {},
   "source": [
    "As noticed in the graph, the greater the strike price, the lower the call premium that the investor has to pay which is in line with the relationship stablished in the Black-Scholes formula from above."
   ]
  },
  {
   "cell_type": "markdown",
   "metadata": {},
   "source": [
    "The next variable to deteremine is the risk free rate. This is the return on a treasury bond that matches the timeframe of the implied volatility. In this example, the expiration of the option chain is one month therefore the most accurate representation of the risk free rate is a 1 month US Treasury bill. \n",
    "\n",
    "The function <code>Risk_free</code> takes a predefined time to maturity and using <code>Quandl</code> module calls the table with historic yield curve; then, selects the latest rate that matches the specified maturity. \n",
    "\n",
    "__Note:__ to access Quandl API, the reader should use a personal API Key. This key can be obtained when signing up an account at Quandl website. "
   ]
  },
  {
   "cell_type": "code",
   "execution_count": 9,
   "metadata": {},
   "outputs": [],
   "source": [
    "def Risk_free(ttm):\n",
    "    '''\n",
    "    Extracts the most recent US treasury rate given the time to maturity.\n",
    "    \n",
    "    Arguments:\n",
    "    ttm -- Time to maturity in string format. The available options are:\n",
    "           ['1 MO', '2 MO', '3 MO', '6 MO', '1 YR', '2 YR', '3 YR', '5 YR', '7 YR', '10 YR', '20 YR', '30 YR']\n",
    "    \n",
    "    Returns:\n",
    "    rf -- Most recent risk free rate for the time to maturity selected\n",
    "    '''\n",
    "    API_KEY = os.environ.get('QUANDL_KEY')\n",
    "    yield_curve = quandl.get('USTREASURY/YIELD', authtoken=API_KEY)\n",
    "    rf = yield_curve[ttm][-1]/100\n",
    "    \n",
    "    return rf    "
   ]
  },
  {
   "cell_type": "code",
   "execution_count": 10,
   "metadata": {},
   "outputs": [
    {
     "name": "stdout",
     "output_type": "stream",
     "text": [
      "The risk free rate for 1 MO to maturity is 0.06%\n"
     ]
    }
   ],
   "source": [
    "r = Risk_free(ttm)\n",
    "\n",
    "print(f'The risk free rate for {ttm} to maturity is {r*100}%')"
   ]
  },
  {
   "cell_type": "markdown",
   "metadata": {},
   "source": [
    "The last element needed to complet the formula is the time to maturity. This is the difference, measured in years, between the expiration of the option and the current date. The function <code>Time_to_maturity</code> will make this calculation."
   ]
  },
  {
   "cell_type": "code",
   "execution_count": 11,
   "metadata": {},
   "outputs": [],
   "source": [
    "def Time_to_maturity(expiration):\n",
    "    '''\n",
    "    Calculates the time to maturity in years from today to the option expiration.\n",
    "    \n",
    "    Arguments:\n",
    "    expiration -- String date in format 'YYYY-MM-DD'. Refer to Yahoo Finance to check list of available expirations \n",
    "                  for the underlying asset \n",
    "                  \n",
    "    Returns:\n",
    "    ttm -- Time to maturity in year in float format\n",
    "    '''\n",
    "    \n",
    "    today = datetime.now()\n",
    "    expiration_d = datetime.strptime(expiration,'%Y-%m-%d')\n",
    "    datetime_delta = (expiration_d - today).days\n",
    "    ttm = datetime_delta/365\n",
    "    \n",
    "    return ttm\n",
    "    "
   ]
  },
  {
   "cell_type": "code",
   "execution_count": 12,
   "metadata": {},
   "outputs": [
    {
     "name": "stdout",
     "output_type": "stream",
     "text": [
      "As of 2020-12-30, the option chain with an expiration on 2021-02-04 will have a time to maturity of 0.0959 year\n"
     ]
    }
   ],
   "source": [
    "T = Time_to_maturity(expiration)\n",
    "\n",
    "print(f'As of {str(datetime.now())[:10]}, the option chain with an expiration on {expiration}',end=\" \")\n",
    "print(f'will have a time to maturity of {round(T,4)} year')"
   ]
  },
  {
   "cell_type": "markdown",
   "metadata": {},
   "source": [
    "### Calculating the Implied Volatility"
   ]
  },
  {
   "cell_type": "markdown",
   "metadata": {},
   "source": [
    "Now, it is time to build the algorithm that will estimate the implied volatility for an option chain given the expiration date. \n",
    "\n",
    "The first step is to retrive the variables needed in the Black-Scholes formula to calculate the call price. The <code>implied_vol</code> will call the previous defined functions for this step. This variables are:\n",
    "\n",
    "- __Spot price:__ Scalar number with the latest price of the underlying value. \n",
    "- __Strike price:__ Numpy array of shape (n,) where n is the number of strike price available in the option chain\n",
    "- __Call premium:__ Numpy array of shape (n,) \n",
    "- __Risk premium:__ Scalar number with the T-bill that is most representative given the time to maturity\n",
    "- __Time to maturity:__ Scalar number representing the time from today to the expiration date measured in years\n",
    "\n",
    "The goal is to calculate, for each strike price, the implied volatility that makes the difference between the calculated call premium and the actual market premium closest to zero. Note that to optimize the computational cost, the algorithm uses linear algebra when using the Black-Scholes formulas.\n",
    "\n",
    "Based on this, the next step is to generate an array of potential implied volatilites. This array is randomly generated following a normal distribution and will have a shape of *j* elements where *j* is the number of iterations the algorithm will execute.\n",
    "\n",
    "For each *j* element, there is going to be a call premium calculated based on the Black-Scholes formula. Then, the function calculates the square difference between the calculated call price and the observed market premium. At the end of the $j^{th}$ iteration, the algorithm selects the smallest difference with its corresponding implied volatility and calculated call price. These are saved as the optimum values for the given strike price.\n",
    "\n",
    "Finally, this process is repeated for each strike price to obtain an array of implied volatilities for each strike price and the parameters from the Black-Scholes model are saved in cache.\n",
    "\n",
    "The logic behind this algorithm is that with a high number of random sampling, the optimum implied volatility can be calculated with high accuracy. It is important to metion that the greater the sample, the higher the computational cost; thus there is a trade off between accuracy and computational cost. For the following expample, with 100,000 iterations, the algorithm took about 20 minutes to come up with 24 implied volatilities. "
   ]
  },
  {
   "cell_type": "code",
   "execution_count": 13,
   "metadata": {},
   "outputs": [],
   "source": [
    "def implied_vol(ticker, expiration, ttm, iterations = 25000):\n",
    "    \n",
    "    '''\n",
    "    Optimization function that estimates the implied volatility of an option chain. \n",
    "    \n",
    "    Arguments:                  \n",
    "    ticker -- String that represents the ticker symbol of the underlying asset. Refer to Yahoo Finance website to \n",
    "              find the symbol\n",
    "              \n",
    "    expiration -- String date in format 'YYYY-MM-DD'. Refer to Yahoo Finance to check list of available expirations \n",
    "                  for the underlying asset  \n",
    "                  \n",
    "    ttm -- Time to maturity in string format. The available options are:\n",
    "           ['1 MO', '2 MO', '3 MO', '6 MO', '1 YR', '2 YR', '3 YR', '5 YR', '7 YR', '10 YR', '20 YR', '30 YR']\n",
    "           \n",
    "    iterations -- Number of times the algorithm has to run. The greater the number of iterations, the more accurate\n",
    "                  result. Note that there is a trade off between computational cost and accuracy. recommended at least \n",
    "                  25,000 iterations. It might take a couple of minutes.\n",
    "                  \n",
    "    Returns:\n",
    "    imply_vol -- Implied volatility that makes the difference between the market call price and the call price \n",
    "                 calculated using the Black-Scholes Model closest to zero. Numpy array of shape equal to number of \n",
    "                 strike price available for the option.\n",
    "                 \n",
    "    difference -- The closest to zero spread between the market call price and the call price calculated using the \n",
    "                  Black-Scholes Model. Numpy array of shape equal to number of strike price available for the option.\n",
    "                  \n",
    "    cache -- cache of values needed to calculate the call price with the Black-Scholes formula\n",
    "                  \n",
    "    '''\n",
    "    # Retriving the current spot price\n",
    "    S = Spot(ticker)\n",
    "    S = np.array(S)\n",
    "    \n",
    "    # Retriving the array of strike price and market call price\n",
    "    data = call_data(ticker,expiration)\n",
    "    K, call_premium = list(zip(*data)) #unpacking the results of call_data function\n",
    "    K = np.array(K)\n",
    "    call_premium = np.array(call_premium)\n",
    "      \n",
    "    # Retriving the closest risk-free rate corresponding to the maturity of the option\n",
    "    r = Risk_free(ttm)\n",
    "    \n",
    "    # Calculating the time to maturity of the option\n",
    "    T = Time_to_maturity(expiration)\n",
    "    print('Data downloaded successfully')\n",
    "    # Creating a sample of random numbers representing the implied volatility distribution\n",
    "    # The sample follows a normal distribution\n",
    "    sigma_ran = np.random.randn(iterations)\n",
    "    \n",
    "    # Empty lists that will contain the minimun difference and the corresponding implied volatility\n",
    "    imply_vol = []\n",
    "    difference = []\n",
    "    C = []\n",
    "    \n",
    "    print('Starting to iterate')\n",
    "    print('Please wait ...')\n",
    "    # Loop through each strike price\n",
    "    for n in range(0,len(K)):\n",
    "        \n",
    "        # Empty lists that will contain the positive spreads, the negative spreads, and their implied volatility\n",
    "        spread_list = []\n",
    "        sigma_list = []\n",
    "        C_list = []\n",
    "    \n",
    "        # Loop through each value in the sample list of potential implied volatility\n",
    "        for j in range(0,len(sigma_ran)):\n",
    "            \n",
    "            # Calculating the call price for each implied volatility given a specific strike price\n",
    "            d1 = (np.log(np.divide(S,K[n]))+(r+((np.power(sigma_ran[j],2)/2))*T))/(sigma_ran[j]*np.sqrt(T))\n",
    "            N_d1 = st.norm.cdf(d1)\n",
    "\n",
    "            d2 = np.subtract(d1,sigma_ran[j]*np.sqrt(T))\n",
    "            N_d2 = st.norm.cdf(d2)\n",
    "\n",
    "            Call_premium_calc = np.subtract(np.multiply(S,N_d1),np.multiply(K[n],np.multiply(np.exp(-r*T),N_d2)))\n",
    "            \n",
    "            # Calculating the spread between the previous calculation and the market call price\n",
    "            spread = np.subtract(Call_premium_calc, call_premium[n])\n",
    "            \n",
    "            # Squaring the spread to remove negative sign and saving the spread, sigma, and call price in a list\n",
    "            spread_list.append(spread**2)\n",
    "            sigma_list.append(sigma_ran[j])\n",
    "            C_list.append(Call_premium_calc)\n",
    "\n",
    "        # Finding the minimum spread and the index where it's located\n",
    "        min_dif = np.min(spread_list)\n",
    "        index_min_dif = np.argmin(spread_list)\n",
    "        \n",
    "        # Selecting the sigma and call price corresponding to the minimum spread found\n",
    "        sigma_optimun = sigma_list[index_min_dif]\n",
    "        spr = min_dif\n",
    "        C_opt = C_list[index_min_dif]\n",
    "    \n",
    "        # Saving the implied volatility and call price that makes the spread the lowest\n",
    "        C.append(C_opt)\n",
    "        imply_vol.append(sigma_optimun)\n",
    "        difference.append(spr)\n",
    "\n",
    "    # Values required to calculate the call price using Black-Scholes formula\n",
    "    print('Completed!')\n",
    "    cache = (S,K,C,call_premium,r,T)\n",
    "     \n",
    "    return imply_vol, difference, cache"
   ]
  },
  {
   "cell_type": "markdown",
   "metadata": {},
   "source": [
    "Calculating the implied volatilities for the SPDR S&P500 example used before. The algorithm saves in cache all variables used in the Black-Scholes model for each optimum implied volatility."
   ]
  },
  {
   "cell_type": "code",
   "execution_count": 14,
   "metadata": {
    "scrolled": true
   },
   "outputs": [
    {
     "name": "stdout",
     "output_type": "stream",
     "text": [
      "Data downloaded successfully\n",
      "Starting to iterate\n",
      "Please wait ...\n",
      "Completed!\n"
     ]
    }
   ],
   "source": [
    "imply_vol, difference, cache = implied_vol(ticker,expiration,ttm,iterations=100000)"
   ]
  },
  {
   "cell_type": "markdown",
   "metadata": {},
   "source": [
    "Taking a quick look to the results, the difference between the calculated call price and the market call premium are considerably low which means that the implied volatilities are accurate enough."
   ]
  },
  {
   "cell_type": "code",
   "execution_count": 16,
   "metadata": {
    "scrolled": false
   },
   "outputs": [
    {
     "name": "stdout",
     "output_type": "stream",
     "text": [
      "The following analysis is based on:\n",
      "\n",
      "- A risk free rate of 0.06%\n",
      "- Time to maturity of the option 0.0958904109589041 years\n",
      "- Current market price of the SPDR S&P500 $372.03\n",
      "\n",
      "\n",
      "For a strike price of $342.5:\n",
      "\t The implied volatility is 0.2804%\n",
      "\t The calculated option price is $32.37\n",
      "\t The market option premium is $32.37\n",
      "\t With a spread of $0.000299\n",
      " \n",
      "For a strike price of $350.0:\n",
      "\t The implied volatility is 0.2624%\n",
      "\t The calculated option price is $25.88\n",
      "\t The market option premium is $25.88\n",
      "\t With a spread of $0.00012\n",
      " \n",
      "For a strike price of $352.5:\n",
      "\t The implied volatility is 0.2615%\n",
      "\t The calculated option price is $23.98\n",
      "\t The market option premium is $23.98\n",
      "\t With a spread of $0.000198\n",
      " \n",
      "For a strike price of $365.0:\n",
      "\t The implied volatility is 0.2092%\n",
      "\t The calculated option price is $13.46\n",
      "\t The market option premium is $13.46\n",
      "\t With a spread of $3.3e-05\n",
      " \n",
      "For a strike price of $367.5:\n",
      "\t The implied volatility is 0.2136%\n",
      "\t The calculated option price is $12.2\n",
      "\t The market option premium is $12.2\n",
      "\t With a spread of $0.000217\n",
      " \n",
      "For a strike price of $370.0:\n",
      "\t The implied volatility is 0.1955%\n",
      "\t The calculated option price is $10.02\n",
      "\t The market option premium is $10.02\n",
      "\t With a spread of $0.000839\n",
      " \n",
      "For a strike price of $372.5:\n",
      "\t The implied volatility is 0.1884%\n",
      "\t The calculated option price is $8.44\n",
      "\t The market option premium is $8.44\n",
      "\t With a spread of $0.000411\n",
      " \n",
      "For a strike price of $375.0:\n",
      "\t The implied volatility is 0.178%\n",
      "\t The calculated option price is $6.82\n",
      "\t The market option premium is $6.82\n",
      "\t With a spread of $0.000439\n",
      " \n",
      "For a strike price of $377.5:\n",
      "\t The implied volatility is 0.1818%\n",
      "\t The calculated option price is $5.97\n",
      "\t The market option premium is $5.97\n",
      "\t With a spread of $4.5e-05\n",
      " \n",
      "For a strike price of $380.0:\n",
      "\t The implied volatility is 0.1684%\n",
      "\t The calculated option price is $4.48\n",
      "\t The market option premium is $4.48\n",
      "\t With a spread of $0.000343\n",
      " \n",
      "For a strike price of $382.5:\n",
      "\t The implied volatility is 0.1606%\n",
      "\t The calculated option price is $3.39\n",
      "\t The market option premium is $3.39\n",
      "\t With a spread of $9.1e-05\n",
      " \n",
      "For a strike price of $385.0:\n",
      "\t The implied volatility is 0.1558%\n",
      "\t The calculated option price is $2.57\n",
      "\t The market option premium is $2.57\n",
      "\t With a spread of $0.00077\n",
      " \n",
      "For a strike price of $387.5:\n",
      "\t The implied volatility is 0.1537%\n",
      "\t The calculated option price is $1.97\n",
      "\t The market option premium is $1.97\n",
      "\t With a spread of $0.000147\n",
      " \n",
      "For a strike price of $390.0:\n",
      "\t The implied volatility is 0.152%\n",
      "\t The calculated option price is $1.49\n",
      "\t The market option premium is $1.49\n",
      "\t With a spread of $0.000237\n",
      " \n",
      "For a strike price of $392.5:\n",
      "\t The implied volatility is 0.1517%\n",
      "\t The calculated option price is $1.14\n",
      "\t The market option premium is $1.14\n",
      "\t With a spread of $7.7e-05\n",
      " \n",
      "For a strike price of $395.0:\n",
      "\t The implied volatility is 0.1514%\n",
      "\t The calculated option price is $0.86\n",
      "\t The market option premium is $0.86\n",
      "\t With a spread of $7.9e-05\n",
      " \n",
      "For a strike price of $397.5:\n",
      "\t The implied volatility is 0.1517%\n",
      "\t The calculated option price is $0.65\n",
      "\t The market option premium is $0.65\n",
      "\t With a spread of $8.8e-05\n",
      " \n",
      "For a strike price of $400.0:\n",
      "\t The implied volatility is 0.1509%\n",
      "\t The calculated option price is $0.47\n",
      "\t The market option premium is $0.47\n",
      "\t With a spread of $4.3e-05\n",
      " \n",
      "For a strike price of $402.5:\n",
      "\t The implied volatility is 0.1571%\n",
      "\t The calculated option price is $0.42\n",
      "\t The market option premium is $0.42\n",
      "\t With a spread of $0.000249\n",
      " \n",
      "For a strike price of $405.0:\n",
      "\t The implied volatility is 0.1581%\n",
      "\t The calculated option price is $0.32\n",
      "\t The market option premium is $0.32\n",
      "\t With a spread of $1.2e-05\n",
      " \n",
      "For a strike price of $410.0:\n",
      "\t The implied volatility is 0.165%\n",
      "\t The calculated option price is $0.22\n",
      "\t The market option premium is $0.22\n",
      "\t With a spread of $2.4e-05\n",
      " \n",
      "For a strike price of $415.0:\n",
      "\t The implied volatility is 0.1712%\n",
      "\t The calculated option price is $0.15\n",
      "\t The market option premium is $0.15\n",
      "\t With a spread of $0.000151\n",
      " \n",
      "For a strike price of $430.0:\n",
      "\t The implied volatility is 0.1886%\n",
      "\t The calculated option price is $0.05\n",
      "\t The market option premium is $0.05\n",
      "\t With a spread of $4.1e-05\n",
      " \n",
      "For a strike price of $440.0:\n",
      "\t The implied volatility is 0.2031%\n",
      "\t The calculated option price is $0.03\n",
      "\t The market option premium is $0.03\n",
      "\t With a spread of $3e-05\n",
      " \n"
     ]
    }
   ],
   "source": [
    "S,K,C,call_premium,r,T = cache\n",
    "\n",
    "print(f'The following analysis is based on:')\n",
    "print('')\n",
    "print(f'- A risk free rate of {r*100}%')\n",
    "print(f'- Time to maturity of the option {T} years')\n",
    "print(f'- Current market price of the SPDR S&P500 ${S}')\n",
    "print('\\n')\n",
    "for i in range(len(K)):\n",
    "    print(f'For a strike price of ${K[i]}:')\n",
    "    print('\\t',f'The implied volatility is {round(imply_vol[i],4)}%')\n",
    "    print('\\t',f'The calculated option price is ${round(C[i],2)}')\n",
    "    print('\\t',f'The market option premium is ${round(call_premium[i],2)}')\n",
    "    print('\\t',f'With a spread of ${round(difference[i]**0.5,6)}')\n",
    "    print(' ')"
   ]
  },
  {
   "cell_type": "markdown",
   "metadata": {},
   "source": [
    "As can be seen, the implied volatility is high when the option is out of the money; on the other hand, when the strike price is closest to the underlying price, the implied volatility is low. Graphically, the relationship between strike price and implied volatility has a \"U\" shape. "
   ]
  },
  {
   "cell_type": "markdown",
   "metadata": {},
   "source": [
    "<img src=\"/images/volatility.jpeg\" style=\"width:500px;height:400px;\">\n",
    "<caption><center>** Source: Quantinsti - Quantra **</center></caption><br>"
   ]
  },
  {
   "cell_type": "markdown",
   "metadata": {},
   "source": [
    "When plotting the results obtained from the optimization algorithm, the figure has a shape that resembles the chart above. There is an important thing to notice in the SPDR S&P500 graph; the closest strike to the current spot price is \\\\$372.5 (the red-dotted line); in theory, this should match with the lowest volatility however the lowest volatility is somewhere between \\\\$390 and $400. This might be because the volatility is skewed which implies that sentiments from investors are moving the volatility higher in lower strike price. "
   ]
  },
  {
   "cell_type": "code",
   "execution_count": 18,
   "metadata": {},
   "outputs": [
    {
     "data": {
      "image/png": "[encoded data removed]",
      "text/plain": [
       "<Figure size 720x432 with 1 Axes>"
      ]
     },
     "metadata": {
      "needs_background": "light"
     },
     "output_type": "display_data"
    }
   ],
   "source": [
    "# Define plot space\n",
    "fig, ax = plt.subplots(figsize=(10, 6))\n",
    "\n",
    "# Define x and y axes\n",
    "ax.plot(K.tolist(),imply_vol)\n",
    "\n",
    "# Hide the right and top spines\n",
    "ax.spines['right'].set_visible(False)\n",
    "ax.spines['top'].set_visible(False)\n",
    "\n",
    "plt.axvline(x=S, c='r', ls='--')\n",
    "\n",
    "plt.title('SPDR S&P500 - Implied Volatility', fontdict=title_dict, pad=20)\n",
    "plt.xlabel('Strike price ($)',fontdict=label_dict,labelpad=20)\n",
    "plt.ylabel('Implied Volatility (%)',fontdict=label_dict, labelpad=10)\n",
    "\n",
    "plt.show()"
   ]
  },
  {
   "cell_type": "markdown",
   "metadata": {},
   "source": [
    "Finally, the assumed market volatility will be 0.1884% which corresponds to the strike price of $372.5. This implied volatility is an annualized measure based on the expectation of changes in one month. The standard deviation of the market returns can be estimated as follows:"
   ]
  },
  {
   "cell_type": "code",
   "execution_count": 23,
   "metadata": {},
   "outputs": [
    {
     "name": "stdout",
     "output_type": "stream",
     "text": [
      "The standard deviation on the market returns is 5.86%\n"
     ]
    }
   ],
   "source": [
    "print(f'The standard deviation on the market returns is {round(imply_vol[i]/np.sqrt(12)*100,2)}%')"
   ]
  },
  {
   "cell_type": "markdown",
   "metadata": {},
   "source": [
    "This implies that if S&P500 follows a normal distribution there is a 68.2% probability that the price will move 5.86%, up or down, during the next month."
   ]
  },
  {
   "cell_type": "markdown",
   "metadata": {},
   "source": [
    "__Conclusion:__ \n",
    "\n",
    "Using the Black-Scholes model and the Monte Carlo simulation is posible to estimate the implied volatility of an option. An alternative optimization method to the Monte Carlo simulation is using the Newton's method, this could make the algortihm more efficient.The implied volatility calculated is a forward-looking tool that helps to understand market sentiments of potential movements in price during a specific period of time. Although the direction of the movement is unknown, the analyst can determine periods of high or low volatility and prepare the strategy accordingly."
   ]
  },
  {
   "cell_type": "markdown",
   "metadata": {},
   "source": [
    "__References:__\n",
    "- Tim Worall (2008). The Black-Scholes Formula, FIN-40008 Financial Instruments http://www.timworrall.com/fin-40008/bscholes.pdf\n",
    "- Tirthajyoti Sarkar (2020). Monte Carlo integration in Python. https://www.kdnuggets.com/2020/12/monte-carlo-integration-python.html\n",
    "- volatility Smile https://quantra.quantinsti.com/glossary/Volatility-Smile "
   ]
  },
  {
   "cell_type": "markdown",
   "metadata": {},
   "source": [
    "__Disclaimer:__\n",
    "\n",
    "The content of this notebook is intended to be used and must be used for informational purposes only. It is very important to do your own analysis before making any investment based on your own personal circumstances. You should take independent financial advice from a professional in connection with, or independently research and verify, any information that you find on this notebook and wish to rely upon, whether for the purposes of making an investment decision or otherwise.\n",
    "\n",
    "Past performance is not a guarantee of future return, nor is it necessarily indicative of future performance. Keep in mind investing involves risk. The value of your investment will fluctuate over time and you may gain or lose money."
   ]
  }
 ],
 "metadata": {
  "kernelspec": {
   "display_name": "Python 3",
   "language": "python",
   "name": "python3"
  },
  "language_info": {
   "codemirror_mode": {
    "name": "ipython",
    "version": 3
   },
   "file_extension": ".py",
   "mimetype": "text/x-python",
   "name": "python",
   "nbconvert_exporter": "python",
   "pygments_lexer": "ipython3",
   "version": "3.7.6"
  }
 },
 "nbformat": 4,
 "nbformat_minor": 4
}
