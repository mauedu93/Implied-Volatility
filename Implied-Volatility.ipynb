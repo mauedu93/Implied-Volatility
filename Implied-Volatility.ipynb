{
 "cells": [
  {
   "cell_type": "markdown",
   "metadata": {},
   "source": [
    "# Black Scholes Model"
   ]
  },
  {
   "cell_type": "markdown",
   "metadata": {},
   "source": [
    "The Black-Scholes Model was developed by professor Fisher Black, Myron Scholes, and Robert Merton. The model is used to value option contracts. The model makes the following assumptions: \n",
    "- Lognormal distribution for the stock price\n",
    "- There are no transaction costs or taxes\n",
    "- There is no cash flow from the underlying asset during the time to maturity of the option\n",
    "- There are no arbitrage opportunities\n",
    "- Investors can borrow or lend at the risk-free rate \n",
    "- The risk-free rate is constant\n",
    "- The model is based on European-style options\n"
   ]
  },
  {
   "cell_type": "markdown",
   "metadata": {},
   "source": [
    "The key concept from the mathematical model is that the option and the stock price depend on the same underlying source of uncertainty. This uncertainty could be eliminated by constructing a portfolio with the stock and the option. This portfolio should be instantaneously riskless and earn the risk-free rate. The portfolio will require continuous rebalancing."
   ]
  },
  {
   "cell_type": "markdown",
   "metadata": {},
   "source": [
    "The mathematical formula to calculate the call price of a European option is:"
   ]
  },
  {
   "cell_type": "markdown",
   "metadata": {},
   "source": [
    "\\begin{equation*}\n",
    "C = S_t N \\left(d1 \\right) - K e^{-rt} N \\left(d2 \\right)\n",
    "\\end{equation*}"
   ]
  },
  {
   "cell_type": "markdown",
   "metadata": {},
   "source": [
    "__Where:__\n",
    "\n",
    "\\begin{equation*}\n",
    "d1 = \\frac{ \\ln{ \\frac{S_t}{K} + \\left(r + \\frac{\\sigma_u^2}{2} \\right) t} }{\\sigma_s \\sqrt{t}}\n",
    "\\end{equation*}\n",
    "\n",
    "and:\n",
    "\n",
    "\\begin{equation*}\n",
    "d2 = d1 -  \\sigma_s \\sqrt{t}\n",
    "\\end{equation*}\n"
   ]
  },
  {
   "cell_type": "markdown",
   "metadata": {},
   "source": [
    "__Where:__\n",
    "\n",
    "\\begin{alignat*}{1}\n",
    "&C \\quad & = \\quad & \\text{Call option price} \\\\\n",
    "&S \\quad & = \\quad & \\text{Current stock (or other underlying) price} \\\\\n",
    "&K \\quad & = \\quad & \\text{Strike price} \\\\\n",
    "&r \\quad & = \\quad & \\text{Risk-free interest rate} \\\\\n",
    "&t \\quad & = \\quad & \\text{time to maturity} \\\\\n",
    "&N \\quad & = \\quad & \\text{A normal distribution}\n",
    "\\end{alignat*}"
   ]
  },
  {
   "cell_type": "markdown",
   "metadata": {},
   "source": [
    "In this notebook, I will develop a process to calculate the call price of any option given all the parameters required in the Black-Scholes model. To do that, I will use Python, specifically Yfinance and Quandl, libraries to obtain the required data."
   ]
  },
  {
   "cell_type": "markdown",
   "metadata": {},
   "source": [
    "First, let's import the necessary libraries to make the analysis.\n",
    "\n",
    "__Note:__ Some libraries might not be pre-installed so the reader will need to uncomment the line code to install them. "
   ]
  },
  {
   "cell_type": "code",
   "execution_count": 1,
   "metadata": {},
   "outputs": [],
   "source": [
    "#pip install stockquotes\n",
    "#pip install Quandl\n",
    "\n",
    "import math\n",
    "import scipy.stats as st\n",
    "import yfinance as yf\n",
    "from datetime import datetime\n",
    "from datetime import timedelta\n",
    "import stockquotes\n",
    "import quandl\n",
    "import numpy as np\n",
    "import matplotlib.pyplot as plt\n",
    "import pandas as pd\n",
    "from BlackScholesMerton import BlackScholesModel\n",
    "import os\n",
    "\n",
    "%matplotlib inline"
   ]
  },
  {
   "cell_type": "markdown",
   "metadata": {},
   "source": [
    "I will use the Quandl library to obtain information about the risk-free rate. To use Quandl, you will need to set up an account and get an API key. The code to call Quandl API is <code>quandl.ApiConfig.api_key = 'YOUR KEY GOES HERE'</code>"
   ]
  },
  {
   "cell_type": "code",
   "execution_count": 2,
   "metadata": {},
   "outputs": [],
   "source": [
    "quandl.ApiConfig.api_key = os.environ.get('QUANDL_KEY')"
   ]
  },
  {
   "cell_type": "markdown",
   "metadata": {},
   "source": [
    "From the YFinance library, I will get the historical information of the S&P500."
   ]
  },
  {
   "cell_type": "code",
   "execution_count": 3,
   "metadata": {},
   "outputs": [],
   "source": [
    "GSPC = yf.Ticker('^GSPC')"
   ]
  },
  {
   "cell_type": "markdown",
   "metadata": {},
   "source": [
    "This library also allows getting the expiration dates for the options."
   ]
  },
  {
   "cell_type": "code",
   "execution_count": 4,
   "metadata": {},
   "outputs": [
    {
     "data": {
      "text/plain": [
       "('2020-12-17', '2021-12-16')"
      ]
     },
     "execution_count": 4,
     "metadata": {},
     "output_type": "execute_result"
    }
   ],
   "source": [
    "expirations = GSPC.options\n",
    "expirations"
   ]
  },
  {
   "cell_type": "markdown",
   "metadata": {},
   "source": [
    "Based on the expirations, I can get the option chain with the information required to calculate the option price using the Black-Scholes model. Let's have a look at the information available for the option chain on the S&P 500 with expiration on December 17, 2020."
   ]
  },
  {
   "cell_type": "code",
   "execution_count": 5,
   "metadata": {},
   "outputs": [
    {
     "data": {
      "text/plain": [
       "Options(calls=        contractSymbol       lastTradeDate  strike  lastPrice     bid     ask  \\\n",
       "0   SPX201218C00100000 2020-07-21 19:09:41   100.0    3145.00     0.0     0.0   \n",
       "1   SPX201218C00200000 2020-06-18 16:31:43   200.0    2878.00  2996.0  2999.2   \n",
       "2   SPX201218C00300000 2020-07-09 20:55:27   300.0    2738.00  2932.1  2936.1   \n",
       "3   SPX201218C00400000 2020-07-09 20:55:30   400.0    2638.40  2832.4  2836.4   \n",
       "4   SPX201218C00500000 2020-07-09 20:55:30   500.0    1790.50  2732.6  2736.0   \n",
       "..                 ...                 ...     ...        ...     ...     ...   \n",
       "89  SPX201218C03800000 2020-07-22 13:46:19  3800.0      14.57     0.0     0.0   \n",
       "90  SPX201218C03900000 2020-07-20 15:31:56  3900.0       8.86     0.0     0.0   \n",
       "91  SPX201218C04000000 2020-07-22 19:12:49  4000.0       5.75     0.0     0.0   \n",
       "92  SPX201218C04100000 2020-07-22 14:03:35  4100.0       3.76     0.0     0.0   \n",
       "93  SPX201218C04200000 2020-07-22 19:12:49  4200.0       2.35     0.0     0.0   \n",
       "\n",
       "    change  percentChange  volume  openInterest  impliedVolatility  \\\n",
       "0      0.0            0.0       1             0           0.000010   \n",
       "1      0.0            0.0      73          3137           0.000010   \n",
       "2      0.0            0.0       8            86           0.000010   \n",
       "3      0.0            0.0       6            16           0.000010   \n",
       "4      0.0            0.0       0            59           0.000010   \n",
       "..     ...            ...     ...           ...                ...   \n",
       "89     0.0            0.0       2             0           0.031260   \n",
       "90     0.0            0.0     286             0           0.062509   \n",
       "91     0.0            0.0      27             0           0.062509   \n",
       "92     0.0            0.0       3             0           0.062509   \n",
       "93     0.0            0.0      18             0           0.062509   \n",
       "\n",
       "    inTheMoney contractSize currency  \n",
       "0         True      REGULAR      USD  \n",
       "1         True      REGULAR      USD  \n",
       "2         True      REGULAR      USD  \n",
       "3         True      REGULAR      USD  \n",
       "4         True      REGULAR      USD  \n",
       "..         ...          ...      ...  \n",
       "89       False      REGULAR      USD  \n",
       "90       False      REGULAR      USD  \n",
       "91       False      REGULAR      USD  \n",
       "92       False      REGULAR      USD  \n",
       "93       False      REGULAR      USD  \n",
       "\n",
       "[94 rows x 14 columns], puts=         contractSymbol       lastTradeDate  strike  lastPrice    bid    ask  \\\n",
       "0    SPX201218P00100000 2020-07-21 15:30:36   100.0       0.08    0.0    0.0   \n",
       "1    SPX201218P00200000 2020-07-21 19:54:33   200.0       0.10    0.0    0.0   \n",
       "2    SPX201218P00300000 2020-07-13 20:01:43   300.0       0.30    0.0    0.0   \n",
       "3    SPX201218P00400000 2020-07-22 16:18:06   400.0       0.30    0.0    0.0   \n",
       "4    SPX201218P00500000 2020-07-21 14:10:20   500.0       0.45    0.0    0.0   \n",
       "..                  ...                 ...     ...        ...    ...    ...   \n",
       "107  SPX201218P03800000 2020-06-24 13:36:35  3800.0     716.74    0.0    0.0   \n",
       "108  SPX201218P03900000 2020-07-09 16:05:10  3900.0     786.07    0.0    0.0   \n",
       "109  SPX201218P04000000 2020-07-14 15:15:23  4000.0     860.98    0.0    0.0   \n",
       "110  SPX201218P04100000 2020-07-09 20:56:15  4100.0    1160.07  863.9  867.3   \n",
       "111  SPX201218P04200000 2020-07-09 20:56:15  4200.0    1381.95  962.8  966.2   \n",
       "\n",
       "     change  percentChange  volume  openInterest  impliedVolatility  \\\n",
       "0       0.0            0.0     302             0           0.500005   \n",
       "1       0.0            0.0     121             0           0.500005   \n",
       "2       0.0            0.0      66             0           0.500005   \n",
       "3       0.0            0.0       2             0           0.500005   \n",
       "4       0.0            0.0       2             0           0.500005   \n",
       "..      ...            ...     ...           ...                ...   \n",
       "107     0.0            0.0       1             0           0.000010   \n",
       "108     0.0            0.0       2             0           0.000010   \n",
       "109     0.0            0.0       1             0           0.000010   \n",
       "110     0.0            0.0       1           513           0.303687   \n",
       "111     0.0            0.0     500           514           0.322837   \n",
       "\n",
       "     inTheMoney contractSize currency  \n",
       "0         False      REGULAR      USD  \n",
       "1         False      REGULAR      USD  \n",
       "2         False      REGULAR      USD  \n",
       "3         False      REGULAR      USD  \n",
       "4         False      REGULAR      USD  \n",
       "..          ...          ...      ...  \n",
       "107        True      REGULAR      USD  \n",
       "108        True      REGULAR      USD  \n",
       "109        True      REGULAR      USD  \n",
       "110        True      REGULAR      USD  \n",
       "111        True      REGULAR      USD  \n",
       "\n",
       "[112 rows x 14 columns])"
      ]
     },
     "execution_count": 5,
     "metadata": {},
     "output_type": "execute_result"
    }
   ],
   "source": [
    "GSPC_opts = GSPC.option_chain(expirations[0])\n",
    "GSPC_opts"
   ]
  },
  {
   "cell_type": "markdown",
   "metadata": {},
   "source": [
    "This analysis will focus only on calculating the call price; however, once a put price formula is defined the reader can easily run the code with all the variables already defined in this notebook. Let's have a look at the DataFrame generated from YFinance."
   ]
  },
  {
   "cell_type": "code",
   "execution_count": 6,
   "metadata": {},
   "outputs": [
    {
     "data": {
      "text/html": [
       "<div>\n",
       "<style scoped>\n",
       "    .dataframe tbody tr th:only-of-type {\n",
       "        vertical-align: middle;\n",
       "    }\n",
       "\n",
       "    .dataframe tbody tr th {\n",
       "        vertical-align: top;\n",
       "    }\n",
       "\n",
       "    .dataframe thead th {\n",
       "        text-align: right;\n",
       "    }\n",
       "</style>\n",
       "<table border=\"1\" class=\"dataframe\">\n",
       "  <thead>\n",
       "    <tr style=\"text-align: right;\">\n",
       "      <th></th>\n",
       "      <th>contractSymbol</th>\n",
       "      <th>lastTradeDate</th>\n",
       "      <th>strike</th>\n",
       "      <th>lastPrice</th>\n",
       "      <th>bid</th>\n",
       "      <th>ask</th>\n",
       "      <th>change</th>\n",
       "      <th>percentChange</th>\n",
       "      <th>volume</th>\n",
       "      <th>openInterest</th>\n",
       "      <th>impliedVolatility</th>\n",
       "      <th>inTheMoney</th>\n",
       "      <th>contractSize</th>\n",
       "      <th>currency</th>\n",
       "    </tr>\n",
       "  </thead>\n",
       "  <tbody>\n",
       "    <tr>\n",
       "      <th>0</th>\n",
       "      <td>SPX201218C00100000</td>\n",
       "      <td>2020-07-21 19:09:41</td>\n",
       "      <td>100.0</td>\n",
       "      <td>3145.00</td>\n",
       "      <td>0.0</td>\n",
       "      <td>0.0</td>\n",
       "      <td>0.0</td>\n",
       "      <td>0.0</td>\n",
       "      <td>1</td>\n",
       "      <td>0</td>\n",
       "      <td>0.000010</td>\n",
       "      <td>True</td>\n",
       "      <td>REGULAR</td>\n",
       "      <td>USD</td>\n",
       "    </tr>\n",
       "    <tr>\n",
       "      <th>1</th>\n",
       "      <td>SPX201218C00200000</td>\n",
       "      <td>2020-06-18 16:31:43</td>\n",
       "      <td>200.0</td>\n",
       "      <td>2878.00</td>\n",
       "      <td>2996.0</td>\n",
       "      <td>2999.2</td>\n",
       "      <td>0.0</td>\n",
       "      <td>0.0</td>\n",
       "      <td>73</td>\n",
       "      <td>3137</td>\n",
       "      <td>0.000010</td>\n",
       "      <td>True</td>\n",
       "      <td>REGULAR</td>\n",
       "      <td>USD</td>\n",
       "    </tr>\n",
       "    <tr>\n",
       "      <th>2</th>\n",
       "      <td>SPX201218C00300000</td>\n",
       "      <td>2020-07-09 20:55:27</td>\n",
       "      <td>300.0</td>\n",
       "      <td>2738.00</td>\n",
       "      <td>2932.1</td>\n",
       "      <td>2936.1</td>\n",
       "      <td>0.0</td>\n",
       "      <td>0.0</td>\n",
       "      <td>8</td>\n",
       "      <td>86</td>\n",
       "      <td>0.000010</td>\n",
       "      <td>True</td>\n",
       "      <td>REGULAR</td>\n",
       "      <td>USD</td>\n",
       "    </tr>\n",
       "    <tr>\n",
       "      <th>3</th>\n",
       "      <td>SPX201218C00400000</td>\n",
       "      <td>2020-07-09 20:55:30</td>\n",
       "      <td>400.0</td>\n",
       "      <td>2638.40</td>\n",
       "      <td>2832.4</td>\n",
       "      <td>2836.4</td>\n",
       "      <td>0.0</td>\n",
       "      <td>0.0</td>\n",
       "      <td>6</td>\n",
       "      <td>16</td>\n",
       "      <td>0.000010</td>\n",
       "      <td>True</td>\n",
       "      <td>REGULAR</td>\n",
       "      <td>USD</td>\n",
       "    </tr>\n",
       "    <tr>\n",
       "      <th>4</th>\n",
       "      <td>SPX201218C00500000</td>\n",
       "      <td>2020-07-09 20:55:30</td>\n",
       "      <td>500.0</td>\n",
       "      <td>1790.50</td>\n",
       "      <td>2732.6</td>\n",
       "      <td>2736.0</td>\n",
       "      <td>0.0</td>\n",
       "      <td>0.0</td>\n",
       "      <td>0</td>\n",
       "      <td>59</td>\n",
       "      <td>0.000010</td>\n",
       "      <td>True</td>\n",
       "      <td>REGULAR</td>\n",
       "      <td>USD</td>\n",
       "    </tr>\n",
       "    <tr>\n",
       "      <th>...</th>\n",
       "      <td>...</td>\n",
       "      <td>...</td>\n",
       "      <td>...</td>\n",
       "      <td>...</td>\n",
       "      <td>...</td>\n",
       "      <td>...</td>\n",
       "      <td>...</td>\n",
       "      <td>...</td>\n",
       "      <td>...</td>\n",
       "      <td>...</td>\n",
       "      <td>...</td>\n",
       "      <td>...</td>\n",
       "      <td>...</td>\n",
       "      <td>...</td>\n",
       "    </tr>\n",
       "    <tr>\n",
       "      <th>89</th>\n",
       "      <td>SPX201218C03800000</td>\n",
       "      <td>2020-07-22 13:46:19</td>\n",
       "      <td>3800.0</td>\n",
       "      <td>14.57</td>\n",
       "      <td>0.0</td>\n",
       "      <td>0.0</td>\n",
       "      <td>0.0</td>\n",
       "      <td>0.0</td>\n",
       "      <td>2</td>\n",
       "      <td>0</td>\n",
       "      <td>0.031260</td>\n",
       "      <td>False</td>\n",
       "      <td>REGULAR</td>\n",
       "      <td>USD</td>\n",
       "    </tr>\n",
       "    <tr>\n",
       "      <th>90</th>\n",
       "      <td>SPX201218C03900000</td>\n",
       "      <td>2020-07-20 15:31:56</td>\n",
       "      <td>3900.0</td>\n",
       "      <td>8.86</td>\n",
       "      <td>0.0</td>\n",
       "      <td>0.0</td>\n",
       "      <td>0.0</td>\n",
       "      <td>0.0</td>\n",
       "      <td>286</td>\n",
       "      <td>0</td>\n",
       "      <td>0.062509</td>\n",
       "      <td>False</td>\n",
       "      <td>REGULAR</td>\n",
       "      <td>USD</td>\n",
       "    </tr>\n",
       "    <tr>\n",
       "      <th>91</th>\n",
       "      <td>SPX201218C04000000</td>\n",
       "      <td>2020-07-22 19:12:49</td>\n",
       "      <td>4000.0</td>\n",
       "      <td>5.75</td>\n",
       "      <td>0.0</td>\n",
       "      <td>0.0</td>\n",
       "      <td>0.0</td>\n",
       "      <td>0.0</td>\n",
       "      <td>27</td>\n",
       "      <td>0</td>\n",
       "      <td>0.062509</td>\n",
       "      <td>False</td>\n",
       "      <td>REGULAR</td>\n",
       "      <td>USD</td>\n",
       "    </tr>\n",
       "    <tr>\n",
       "      <th>92</th>\n",
       "      <td>SPX201218C04100000</td>\n",
       "      <td>2020-07-22 14:03:35</td>\n",
       "      <td>4100.0</td>\n",
       "      <td>3.76</td>\n",
       "      <td>0.0</td>\n",
       "      <td>0.0</td>\n",
       "      <td>0.0</td>\n",
       "      <td>0.0</td>\n",
       "      <td>3</td>\n",
       "      <td>0</td>\n",
       "      <td>0.062509</td>\n",
       "      <td>False</td>\n",
       "      <td>REGULAR</td>\n",
       "      <td>USD</td>\n",
       "    </tr>\n",
       "    <tr>\n",
       "      <th>93</th>\n",
       "      <td>SPX201218C04200000</td>\n",
       "      <td>2020-07-22 19:12:49</td>\n",
       "      <td>4200.0</td>\n",
       "      <td>2.35</td>\n",
       "      <td>0.0</td>\n",
       "      <td>0.0</td>\n",
       "      <td>0.0</td>\n",
       "      <td>0.0</td>\n",
       "      <td>18</td>\n",
       "      <td>0</td>\n",
       "      <td>0.062509</td>\n",
       "      <td>False</td>\n",
       "      <td>REGULAR</td>\n",
       "      <td>USD</td>\n",
       "    </tr>\n",
       "  </tbody>\n",
       "</table>\n",
       "<p>94 rows × 14 columns</p>\n",
       "</div>"
      ],
      "text/plain": [
       "        contractSymbol       lastTradeDate  strike  lastPrice     bid     ask  \\\n",
       "0   SPX201218C00100000 2020-07-21 19:09:41   100.0    3145.00     0.0     0.0   \n",
       "1   SPX201218C00200000 2020-06-18 16:31:43   200.0    2878.00  2996.0  2999.2   \n",
       "2   SPX201218C00300000 2020-07-09 20:55:27   300.0    2738.00  2932.1  2936.1   \n",
       "3   SPX201218C00400000 2020-07-09 20:55:30   400.0    2638.40  2832.4  2836.4   \n",
       "4   SPX201218C00500000 2020-07-09 20:55:30   500.0    1790.50  2732.6  2736.0   \n",
       "..                 ...                 ...     ...        ...     ...     ...   \n",
       "89  SPX201218C03800000 2020-07-22 13:46:19  3800.0      14.57     0.0     0.0   \n",
       "90  SPX201218C03900000 2020-07-20 15:31:56  3900.0       8.86     0.0     0.0   \n",
       "91  SPX201218C04000000 2020-07-22 19:12:49  4000.0       5.75     0.0     0.0   \n",
       "92  SPX201218C04100000 2020-07-22 14:03:35  4100.0       3.76     0.0     0.0   \n",
       "93  SPX201218C04200000 2020-07-22 19:12:49  4200.0       2.35     0.0     0.0   \n",
       "\n",
       "    change  percentChange  volume  openInterest  impliedVolatility  \\\n",
       "0      0.0            0.0       1             0           0.000010   \n",
       "1      0.0            0.0      73          3137           0.000010   \n",
       "2      0.0            0.0       8            86           0.000010   \n",
       "3      0.0            0.0       6            16           0.000010   \n",
       "4      0.0            0.0       0            59           0.000010   \n",
       "..     ...            ...     ...           ...                ...   \n",
       "89     0.0            0.0       2             0           0.031260   \n",
       "90     0.0            0.0     286             0           0.062509   \n",
       "91     0.0            0.0      27             0           0.062509   \n",
       "92     0.0            0.0       3             0           0.062509   \n",
       "93     0.0            0.0      18             0           0.062509   \n",
       "\n",
       "    inTheMoney contractSize currency  \n",
       "0         True      REGULAR      USD  \n",
       "1         True      REGULAR      USD  \n",
       "2         True      REGULAR      USD  \n",
       "3         True      REGULAR      USD  \n",
       "4         True      REGULAR      USD  \n",
       "..         ...          ...      ...  \n",
       "89       False      REGULAR      USD  \n",
       "90       False      REGULAR      USD  \n",
       "91       False      REGULAR      USD  \n",
       "92       False      REGULAR      USD  \n",
       "93       False      REGULAR      USD  \n",
       "\n",
       "[94 rows x 14 columns]"
      ]
     },
     "execution_count": 6,
     "metadata": {},
     "output_type": "execute_result"
    }
   ],
   "source": [
    "GSPC_calls = GSPC_opts.calls\n",
    "GSPC_calls"
   ]
  },
  {
   "cell_type": "markdown",
   "metadata": {},
   "source": [
    "From this dataFrame, I need the information related to the strike price and the implied volatility.\n",
    "\n",
    "We can save the strike price in a dictionary where the keys will be the different expiration dates and the values will be an array with all the strike prices available on the specific expiration date. "
   ]
  },
  {
   "cell_type": "code",
   "execution_count": 7,
   "metadata": {},
   "outputs": [],
   "source": [
    "K = {name: pd.DataFrame()for name in expirations}\n",
    "\n",
    "for i, a in enumerate(expirations):\n",
    "    GSPC_opts = GSPC.option_chain(expirations[i])\n",
    "    GSPC_calls = GSPC_opts.calls\n",
    "    K[a] = GSPC_calls['strike']"
   ]
  },
  {
   "cell_type": "markdown",
   "metadata": {},
   "source": [
    "Similarly, I can get a dictionary with information related to the implied volatility. Once again, the keys of the dictionary will be the different expiration dates and the values of the dictionary will be an array with the implied volatility corresponding to a determined strike price."
   ]
  },
  {
   "cell_type": "code",
   "execution_count": 8,
   "metadata": {},
   "outputs": [],
   "source": [
    "sigma = {name: pd.DataFrame() for name in expirations}\n",
    "\n",
    "for i, a in enumerate(expirations):\n",
    "    GSPC_opts = GSPC.option_chain(expirations[i])\n",
    "    GSPC_calls = GSPC_opts.calls\n",
    "    sigma[a] = GSPC_calls['impliedVolatility']"
   ]
  },
  {
   "cell_type": "markdown",
   "metadata": {},
   "source": [
    "With the same logic used before, I can get the time to maturity for each expiration date. I will define a dictionary where the keys are the different expiration dates available, and the values of the dictionary are the difference between the current date and the expiration date. However, in this case, values are not an array of data, instead, the values are a scalar."
   ]
  },
  {
   "cell_type": "code",
   "execution_count": 9,
   "metadata": {},
   "outputs": [],
   "source": [
    "t = {name: pd.DataFrame() for name in expirations}\n",
    "\n",
    "for i, a in enumerate(expirations):\n",
    "    expiration_date = datetime.strptime(expirations[i],\"%Y-%m-%d\") \n",
    "    today = datetime.now()\n",
    "    t[a] = (expiration_date - today).days/365"
   ]
  },
  {
   "cell_type": "markdown",
   "metadata": {},
   "source": [
    "Using the Quandl library, I can get access to the daily Treasury Yield Curve and saved it in a variable called <code>yield_curve</code>. To get the yield curve, I used the get module as follows: <code>quandl.get(\"USTREASURY/YIELD\", authtoken=\"YOUR TOKEN GOES HERE\")</code>"
   ]
  },
  {
   "cell_type": "code",
   "execution_count": 11,
   "metadata": {},
   "outputs": [
    {
     "data": {
      "text/html": [
       "<div>\n",
       "<style scoped>\n",
       "    .dataframe tbody tr th:only-of-type {\n",
       "        vertical-align: middle;\n",
       "    }\n",
       "\n",
       "    .dataframe tbody tr th {\n",
       "        vertical-align: top;\n",
       "    }\n",
       "\n",
       "    .dataframe thead th {\n",
       "        text-align: right;\n",
       "    }\n",
       "</style>\n",
       "<table border=\"1\" class=\"dataframe\">\n",
       "  <thead>\n",
       "    <tr style=\"text-align: right;\">\n",
       "      <th></th>\n",
       "      <th>1 MO</th>\n",
       "      <th>2 MO</th>\n",
       "      <th>3 MO</th>\n",
       "      <th>6 MO</th>\n",
       "      <th>1 YR</th>\n",
       "      <th>2 YR</th>\n",
       "      <th>3 YR</th>\n",
       "      <th>5 YR</th>\n",
       "      <th>7 YR</th>\n",
       "      <th>10 YR</th>\n",
       "      <th>20 YR</th>\n",
       "      <th>30 YR</th>\n",
       "    </tr>\n",
       "    <tr>\n",
       "      <th>Date</th>\n",
       "      <th></th>\n",
       "      <th></th>\n",
       "      <th></th>\n",
       "      <th></th>\n",
       "      <th></th>\n",
       "      <th></th>\n",
       "      <th></th>\n",
       "      <th></th>\n",
       "      <th></th>\n",
       "      <th></th>\n",
       "      <th></th>\n",
       "      <th></th>\n",
       "    </tr>\n",
       "  </thead>\n",
       "  <tbody>\n",
       "    <tr>\n",
       "      <th>1990-01-02</th>\n",
       "      <td>NaN</td>\n",
       "      <td>NaN</td>\n",
       "      <td>7.83</td>\n",
       "      <td>7.89</td>\n",
       "      <td>7.81</td>\n",
       "      <td>7.87</td>\n",
       "      <td>7.90</td>\n",
       "      <td>7.87</td>\n",
       "      <td>7.98</td>\n",
       "      <td>7.94</td>\n",
       "      <td>NaN</td>\n",
       "      <td>8.00</td>\n",
       "    </tr>\n",
       "    <tr>\n",
       "      <th>1990-01-03</th>\n",
       "      <td>NaN</td>\n",
       "      <td>NaN</td>\n",
       "      <td>7.89</td>\n",
       "      <td>7.94</td>\n",
       "      <td>7.85</td>\n",
       "      <td>7.94</td>\n",
       "      <td>7.96</td>\n",
       "      <td>7.92</td>\n",
       "      <td>8.04</td>\n",
       "      <td>7.99</td>\n",
       "      <td>NaN</td>\n",
       "      <td>8.04</td>\n",
       "    </tr>\n",
       "    <tr>\n",
       "      <th>1990-01-04</th>\n",
       "      <td>NaN</td>\n",
       "      <td>NaN</td>\n",
       "      <td>7.84</td>\n",
       "      <td>7.90</td>\n",
       "      <td>7.82</td>\n",
       "      <td>7.92</td>\n",
       "      <td>7.93</td>\n",
       "      <td>7.91</td>\n",
       "      <td>8.02</td>\n",
       "      <td>7.98</td>\n",
       "      <td>NaN</td>\n",
       "      <td>8.04</td>\n",
       "    </tr>\n",
       "    <tr>\n",
       "      <th>1990-01-05</th>\n",
       "      <td>NaN</td>\n",
       "      <td>NaN</td>\n",
       "      <td>7.79</td>\n",
       "      <td>7.85</td>\n",
       "      <td>7.79</td>\n",
       "      <td>7.90</td>\n",
       "      <td>7.94</td>\n",
       "      <td>7.92</td>\n",
       "      <td>8.03</td>\n",
       "      <td>7.99</td>\n",
       "      <td>NaN</td>\n",
       "      <td>8.06</td>\n",
       "    </tr>\n",
       "    <tr>\n",
       "      <th>1990-01-08</th>\n",
       "      <td>NaN</td>\n",
       "      <td>NaN</td>\n",
       "      <td>7.79</td>\n",
       "      <td>7.88</td>\n",
       "      <td>7.81</td>\n",
       "      <td>7.90</td>\n",
       "      <td>7.95</td>\n",
       "      <td>7.92</td>\n",
       "      <td>8.05</td>\n",
       "      <td>8.02</td>\n",
       "      <td>NaN</td>\n",
       "      <td>8.09</td>\n",
       "    </tr>\n",
       "    <tr>\n",
       "      <th>...</th>\n",
       "      <td>...</td>\n",
       "      <td>...</td>\n",
       "      <td>...</td>\n",
       "      <td>...</td>\n",
       "      <td>...</td>\n",
       "      <td>...</td>\n",
       "      <td>...</td>\n",
       "      <td>...</td>\n",
       "      <td>...</td>\n",
       "      <td>...</td>\n",
       "      <td>...</td>\n",
       "      <td>...</td>\n",
       "    </tr>\n",
       "    <tr>\n",
       "      <th>2020-07-16</th>\n",
       "      <td>0.12</td>\n",
       "      <td>0.11</td>\n",
       "      <td>0.11</td>\n",
       "      <td>0.13</td>\n",
       "      <td>0.14</td>\n",
       "      <td>0.16</td>\n",
       "      <td>0.17</td>\n",
       "      <td>0.28</td>\n",
       "      <td>0.46</td>\n",
       "      <td>0.62</td>\n",
       "      <td>1.09</td>\n",
       "      <td>1.31</td>\n",
       "    </tr>\n",
       "    <tr>\n",
       "      <th>2020-07-17</th>\n",
       "      <td>0.11</td>\n",
       "      <td>0.11</td>\n",
       "      <td>0.11</td>\n",
       "      <td>0.13</td>\n",
       "      <td>0.14</td>\n",
       "      <td>0.14</td>\n",
       "      <td>0.18</td>\n",
       "      <td>0.29</td>\n",
       "      <td>0.47</td>\n",
       "      <td>0.64</td>\n",
       "      <td>1.11</td>\n",
       "      <td>1.33</td>\n",
       "    </tr>\n",
       "    <tr>\n",
       "      <th>2020-07-20</th>\n",
       "      <td>0.11</td>\n",
       "      <td>0.12</td>\n",
       "      <td>0.13</td>\n",
       "      <td>0.14</td>\n",
       "      <td>0.14</td>\n",
       "      <td>0.16</td>\n",
       "      <td>0.18</td>\n",
       "      <td>0.29</td>\n",
       "      <td>0.47</td>\n",
       "      <td>0.62</td>\n",
       "      <td>1.10</td>\n",
       "      <td>1.32</td>\n",
       "    </tr>\n",
       "    <tr>\n",
       "      <th>2020-07-21</th>\n",
       "      <td>0.09</td>\n",
       "      <td>0.11</td>\n",
       "      <td>0.13</td>\n",
       "      <td>0.13</td>\n",
       "      <td>0.15</td>\n",
       "      <td>0.14</td>\n",
       "      <td>0.17</td>\n",
       "      <td>0.27</td>\n",
       "      <td>0.45</td>\n",
       "      <td>0.61</td>\n",
       "      <td>1.09</td>\n",
       "      <td>1.31</td>\n",
       "    </tr>\n",
       "    <tr>\n",
       "      <th>2020-07-22</th>\n",
       "      <td>0.09</td>\n",
       "      <td>0.12</td>\n",
       "      <td>0.13</td>\n",
       "      <td>0.14</td>\n",
       "      <td>0.14</td>\n",
       "      <td>0.14</td>\n",
       "      <td>0.17</td>\n",
       "      <td>0.27</td>\n",
       "      <td>0.45</td>\n",
       "      <td>0.60</td>\n",
       "      <td>1.08</td>\n",
       "      <td>1.29</td>\n",
       "    </tr>\n",
       "  </tbody>\n",
       "</table>\n",
       "<p>7645 rows × 12 columns</p>\n",
       "</div>"
      ],
      "text/plain": [
       "            1 MO  2 MO  3 MO  6 MO  1 YR  2 YR  3 YR  5 YR  7 YR  10 YR  \\\n",
       "Date                                                                      \n",
       "1990-01-02   NaN   NaN  7.83  7.89  7.81  7.87  7.90  7.87  7.98   7.94   \n",
       "1990-01-03   NaN   NaN  7.89  7.94  7.85  7.94  7.96  7.92  8.04   7.99   \n",
       "1990-01-04   NaN   NaN  7.84  7.90  7.82  7.92  7.93  7.91  8.02   7.98   \n",
       "1990-01-05   NaN   NaN  7.79  7.85  7.79  7.90  7.94  7.92  8.03   7.99   \n",
       "1990-01-08   NaN   NaN  7.79  7.88  7.81  7.90  7.95  7.92  8.05   8.02   \n",
       "...          ...   ...   ...   ...   ...   ...   ...   ...   ...    ...   \n",
       "2020-07-16  0.12  0.11  0.11  0.13  0.14  0.16  0.17  0.28  0.46   0.62   \n",
       "2020-07-17  0.11  0.11  0.11  0.13  0.14  0.14  0.18  0.29  0.47   0.64   \n",
       "2020-07-20  0.11  0.12  0.13  0.14  0.14  0.16  0.18  0.29  0.47   0.62   \n",
       "2020-07-21  0.09  0.11  0.13  0.13  0.15  0.14  0.17  0.27  0.45   0.61   \n",
       "2020-07-22  0.09  0.12  0.13  0.14  0.14  0.14  0.17  0.27  0.45   0.60   \n",
       "\n",
       "            20 YR  30 YR  \n",
       "Date                      \n",
       "1990-01-02    NaN   8.00  \n",
       "1990-01-03    NaN   8.04  \n",
       "1990-01-04    NaN   8.04  \n",
       "1990-01-05    NaN   8.06  \n",
       "1990-01-08    NaN   8.09  \n",
       "...           ...    ...  \n",
       "2020-07-16   1.09   1.31  \n",
       "2020-07-17   1.11   1.33  \n",
       "2020-07-20   1.10   1.32  \n",
       "2020-07-21   1.09   1.31  \n",
       "2020-07-22   1.08   1.29  \n",
       "\n",
       "[7645 rows x 12 columns]"
      ]
     },
     "execution_count": 11,
     "metadata": {},
     "output_type": "execute_result"
    }
   ],
   "source": [
    "yield_curve = quandl.get(\"USTREASURY/YIELD\", authtoken = os.environ.get('QUANDL_KEY'))\n",
    "yield_curve"
   ]
  },
  {
   "cell_type": "markdown",
   "metadata": {},
   "source": [
    "Now, I will define a function that allows me to calculate the time to maturity of the option based on the expiration date. The next step will be to match this time to maturity with the most appropriate treasury yield.\n",
    "\n",
    "To achieve this matching task, I will define a function that browses through the list of available treasury maturities and matches the time to maturity of the option with the corresponding yield of the closest greater treasury maturity."
   ]
  },
  {
   "cell_type": "code",
   "execution_count": 12,
   "metadata": {},
   "outputs": [],
   "source": [
    "def TTM(exp_date,today):\n",
    "    time_to_maturity = (exp_date - today).days\n",
    "    return time_to_maturity\n",
    "\n",
    "def rf(exp_date,today):\n",
    "    num_days = [30,60,90,180,365,730,1095,1825,2555,3650,7300,10950]\n",
    "    rf_ttm = list(yield_curve.columns)\n",
    "    risk_free_L = []\n",
    "    if round(TTM(exp_date,today)) < 0:\n",
    "        return \"Expire date must be greater than today\"\n",
    "    elif round(TTM(exp_date,today)) > num_days[-1]: \n",
    "        return yield_curve[rf_ttm[-1]][-1]/100\n",
    "    else:\n",
    "        for b, f in zip(num_days, rf_ttm):\n",
    "                if round(TTM(expiration_date,today)) < b:\n",
    "                    risk_free_L.append(yield_curve[f][-1]/100)\n",
    "        return risk_free_L[0]"
   ]
  },
  {
   "cell_type": "markdown",
   "metadata": {},
   "source": [
    "With this last function defined, I can create a dictionary with the different risk-free rates relevant for each expiration. Again, the keys of the dictionary will be the expirations of the option and the values will be a scalar with the corresponding risk-free rate."
   ]
  },
  {
   "cell_type": "code",
   "execution_count": 13,
   "metadata": {},
   "outputs": [],
   "source": [
    "rf_rate = {name: pd.DataFrame() for name in expirations}\n",
    "\n",
    "for i, a in enumerate(expirations):\n",
    "    expiration_date = datetime.strptime(expirations[i],\"%Y-%m-%d\") \n",
    "    today = datetime.now()\n",
    "    rf_rate[a] = rf(expiration_date,today)"
   ]
  },
  {
   "cell_type": "markdown",
   "metadata": {},
   "source": [
    "The last variable needed to calculate the price of the call option is the current price of the security. This can be obtained from the stockquotes library through the <code>Stock</code> module."
   ]
  },
  {
   "cell_type": "code",
   "execution_count": 14,
   "metadata": {},
   "outputs": [],
   "source": [
    "SP500 = stockquotes.Stock(\"^GSPC\")\n",
    "S = SP500.current_price"
   ]
  },
  {
   "cell_type": "markdown",
   "metadata": {},
   "source": [
    "Now, let's develop the Black-Scholes model. I will define the model with 3 different functions; the advantage of this is that these functions could potentially  be used to create a Black-Scholes Class in Python for future development projects.\n",
    "\n",
    "The first function will calculate the expected value of the stock if the option is exercised using risk-adjusted probabilities. This is the equivalent of the term $\\begin{equation*}N \\left(d1 \\right)\\end{equation*}$. The function will return a tuple containing $\\begin{equation*}d1 \\end{equation*}$ and $\\begin{equation*}N \\left(d1 \\right)\\end{equation*}$."
   ]
  },
  {
   "cell_type": "code",
   "execution_count": 15,
   "metadata": {},
   "outputs": [],
   "source": [
    "def Norm_d1(S, K, r, t, sigma):\n",
    "    d1 = (np.log(S/K)+(r+((np.power(sigma,2)/2))*t))/(sigma*math.sqrt(t))\n",
    "    N_d1 = st.norm.cdf(d1)\n",
    "    return (d1, N_d1)"
   ]
  },
  {
   "cell_type": "markdown",
   "metadata": {},
   "source": [
    "The next function that I will define is the probability of the function to be exercised based on risk-adjusted probabilities. This is equivalent to the term $\\begin{equation*}N \\left(d2 \\right)\\end{equation*}$."
   ]
  },
  {
   "cell_type": "code",
   "execution_count": 16,
   "metadata": {},
   "outputs": [],
   "source": [
    "def Norm_d2(d1, sigma, t):\n",
    "    d2 = d1 - sigma*math.sqrt(t)\n",
    "    N_d2 = st.norm.cdf(d2)\n",
    "    return N_d2"
   ]
  },
  {
   "cell_type": "markdown",
   "metadata": {},
   "source": [
    "Lastly, I will define the function that will calculate the call price taking an input all the variables required in the model and using the previous two functions."
   ]
  },
  {
   "cell_type": "code",
   "execution_count": 17,
   "metadata": {},
   "outputs": [],
   "source": [
    "def Call_price(S, K, r, t, sigma):\n",
    "    d1, N_d1 = Norm_d1(S, K, r, t, sigma)\n",
    "    N_d2 = Norm_d2(d1, sigma, t)\n",
    "    C = S*N_d1-K*math.exp(-r*t)*N_d2\n",
    "    return C"
   ]
  },
  {
   "cell_type": "markdown",
   "metadata": {},
   "source": [
    "With the call price function define, I can create a dictionary that saves the array of call prices for different expiration dates. "
   ]
  },
  {
   "cell_type": "code",
   "execution_count": 18,
   "metadata": {},
   "outputs": [],
   "source": [
    "C = {name: pd.DataFrame() for name in expirations}\n",
    "\n",
    "for i, a in enumerate(expirations):\n",
    "    C[a] = Call_price(S, K[a], rf_rate[a], t[a], sigma[a])"
   ]
  },
  {
   "cell_type": "markdown",
   "metadata": {},
   "source": [
    "Let's visualize the results. The following graph will compare, for the two expirations available, the call price for different strike prices calculated using the Black-Scholes model and the actual price taken from the YFinance library. "
   ]
  },
  {
   "cell_type": "code",
   "execution_count": 19,
   "metadata": {},
   "outputs": [],
   "source": [
    "def callP_plot(n_rows, n_col, figure_size, expir_dates, subtitle=None):\n",
    "    \n",
    "    if not isinstance(figure_size, (list,tuple)):\n",
    "        print(\"Figure size has to be Tuple or List with the width and the height\")\n",
    "        return\n",
    "\n",
    "    fig,axs = plt.subplots(n_rows,n_col,figsize=figure_size)\n",
    "\n",
    "    if subtitle == None:\n",
    "        name = GSPC.info['shortName']\n",
    "        fig.suptitle(f'{name} Call Value vs. Strike Price',fontsize=18,fontweight='bold')\n",
    "    else:\n",
    "        fig.suptitle(subtitle,fontsize=18,fontweight='bold')\n",
    "    i, j = 0, 0\n",
    "    for n in (0,len(expir_dates)-1):\n",
    "        \n",
    "        if n_rows == 1:\n",
    "            ax = axs[j]\n",
    "        elif n_col == 1:\n",
    "            ax = axs[i]\n",
    "        else:\n",
    "            ax = axs[i,j]\n",
    "\n",
    "        ax.plot(K[expir_dates[n]], \n",
    "                    C[expir_dates[n]],\n",
    "                    'tab:red',\n",
    "                    linewidth=4.0,\n",
    "                    label='BSM model') #Plots the first expiration based on BSM model\n",
    "        ax.plot(K[expir_dates[n]], \n",
    "                    GSPC.option_chain(expir_dates[n]).calls['lastPrice'],\n",
    "                    'tab:cyan',\n",
    "                    linewidth=1.0, \n",
    "                    label='Market price') #Plots the first expiration based on actual market price\n",
    "        ax.legend(labelspacing=2,borderpad=1.25,fontsize=10) #Set legend \n",
    "        ax.set_xlim(xmin=0.0) #To start the graph on (0,0)\n",
    "        ax.set_ylim(ymin=0.0)\n",
    "        ax.set_xlabel(\"Strike Price\",fontsize=14) #Set X-axis label\n",
    "        ax.set_ylabel(\"Call Price\",fontsize=14) #Set Y-axis label\n",
    "        ax.set_title(f\"Expiration: {datetime.strptime(expir_dates[n],'%Y-%m-%d').strftime('%b %d, %Y')}\",\n",
    "                         fontsize=14) #Subtitle on the first figure\n",
    "        ax.spines['right'].set_visible(False) #Remove right border on the first subplot\n",
    "        ax.spines['top'].set_visible(False)  #Remove top border on the first subplot\n",
    "        \n",
    "        if i + 1 > n_rows - 1:\n",
    "            j = j + 1\n",
    "            i = 0\n",
    "        else:\n",
    "            i += 1\n",
    "    plt.show()\n",
    "\n",
    "    plt.close()    "
   ]
  },
  {
   "cell_type": "code",
   "execution_count": 20,
   "metadata": {
    "scrolled": false
   },
   "outputs": [
    {
     "data": {
      "image/png": "[encoded data removed]",
      "text/plain": [
       "<Figure size 1440x504 with 2 Axes>"
      ]
     },
     "metadata": {
      "needs_background": "light"
     },
     "output_type": "display_data"
    }
   ],
   "source": [
    "callP_plot(1,2,(20,7),expir_dates = expirations)"
   ]
  },
  {
   "cell_type": "markdown",
   "metadata": {},
   "source": [
    "The difference between the Black-Scholes model and the actual price could be explained by lack of liquidity, especially in options with low strike price, and/or differences in the implied volatility. "
   ]
  },
  {
   "cell_type": "markdown",
   "metadata": {},
   "source": [
    "__References:__<p>&nbsp;</p> \n",
    "- Investopedia (2020). Black Scholes Model https://www.investopedia.com/terms/b/blackscholes.asp\n",
    "- John C. Hull (2016). Fundamentals of Futures and Options Markets, 9th Ed, Ch 13"
   ]
  },
  {
   "cell_type": "markdown",
   "metadata": {},
   "source": [
    "# Implied Volatility"
   ]
  },
  {
   "cell_type": "code",
   "execution_count": 21,
   "metadata": {},
   "outputs": [],
   "source": [
    "expiration_date = datetime.strptime(expirations[1],\"%Y-%m-%d\") \n",
    "td = datetime.now()"
   ]
  },
  {
   "cell_type": "code",
   "execution_count": 22,
   "metadata": {},
   "outputs": [],
   "source": [
    "GSPC_opts = GSPC.option_chain(expirations[0])\n",
    "\n",
    "GSPC_calls = GSPC_opts.calls\n",
    "\n",
    "expiration_date = datetime.strptime(expirations[1],\"%Y-%m-%d\")\n",
    "td = datetime.now()\n",
    "strike = GSPC_calls['strike'][1]\n",
    "\n",
    "SP500 = stockquotes.Stock(\"^GSPC\")\n",
    "stock_price = SP500.current_price\n",
    "\n",
    "implied_vol = GSPC_calls['impliedVolatility'][1]"
   ]
  },
  {
   "cell_type": "code",
   "execution_count": 23,
   "metadata": {},
   "outputs": [
    {
     "data": {
      "text/plain": [
       "datetime.datetime(2021, 12, 16, 0, 0)"
      ]
     },
     "execution_count": 23,
     "metadata": {},
     "output_type": "execute_result"
    }
   ],
   "source": [
    "expiration_date"
   ]
  },
  {
   "cell_type": "code",
   "execution_count": 24,
   "metadata": {},
   "outputs": [
    {
     "name": "stdout",
     "output_type": "stream",
     "text": [
      "0.0014000000000000002\n"
     ]
    }
   ],
   "source": [
    "BSM = BlackScholesModel(expiration_date, td,stock_price,strike, implied_vol)\n",
    "\n",
    "print(BSM.risk_free())"
   ]
  },
  {
   "cell_type": "code",
   "execution_count": 25,
   "metadata": {},
   "outputs": [
    {
     "data": {
      "text/plain": [
       "{'2020-12-17': 0.0014000000000000002, '2021-12-16': 0.0014000000000000002}"
      ]
     },
     "execution_count": 25,
     "metadata": {},
     "output_type": "execute_result"
    }
   ],
   "source": [
    "rf_rate"
   ]
  },
  {
   "cell_type": "code",
   "execution_count": 26,
   "metadata": {
    "scrolled": true
   },
   "outputs": [
    {
     "name": "stdout",
     "output_type": "stream",
     "text": [
      "1.4\n"
     ]
    }
   ],
   "source": [
    "print(BSM.maturity())"
   ]
  },
  {
   "cell_type": "code",
   "execution_count": 27,
   "metadata": {},
   "outputs": [
    {
     "data": {
      "text/plain": [
       "{'2020-12-17': 0.40273972602739727, '2021-12-16': 1.4}"
      ]
     },
     "execution_count": 27,
     "metadata": {},
     "output_type": "execute_result"
    }
   ],
   "source": [
    "t"
   ]
  },
  {
   "cell_type": "code",
   "execution_count": 28,
   "metadata": {},
   "outputs": [
    {
     "name": "stdout",
     "output_type": "stream",
     "text": [
      "(236429.12925835434, 1.0)\n"
     ]
    }
   ],
   "source": [
    "print(BSM.norm_d1())"
   ]
  },
  {
   "cell_type": "code",
   "execution_count": 29,
   "metadata": {},
   "outputs": [
    {
     "name": "stdout",
     "output_type": "stream",
     "text": [
      "1.0\n"
     ]
    }
   ],
   "source": [
    "print(BSM.norm_d2())"
   ]
  },
  {
   "cell_type": "code",
   "execution_count": 30,
   "metadata": {},
   "outputs": [
    {
     "name": "stdout",
     "output_type": "stream",
     "text": [
      "3076.4116160908616\n"
     ]
    }
   ],
   "source": [
    "print(BSM.call_price())"
   ]
  },
  {
   "cell_type": "code",
   "execution_count": 31,
   "metadata": {},
   "outputs": [
    {
     "data": {
      "text/plain": [
       "0     2.377782e+03\n",
       "1     2.277978e+03\n",
       "2     2.053419e+03\n",
       "3     1.978566e+03\n",
       "4     1.903712e+03\n",
       "5     1.878761e+03\n",
       "6     1.778957e+03\n",
       "7     1.754006e+03\n",
       "8     1.729055e+03\n",
       "9     1.679153e+03\n",
       "10    1.654202e+03\n",
       "11    1.629251e+03\n",
       "12    1.479545e+03\n",
       "13    1.454593e+03\n",
       "14    1.379740e+03\n",
       "15    1.279936e+03\n",
       "16    1.132919e+03\n",
       "17    1.080328e+03\n",
       "18    1.030426e+03\n",
       "19    9.805236e+02\n",
       "20    9.306215e+02\n",
       "21    9.372554e+02\n",
       "22    8.557683e+02\n",
       "23    8.058662e+02\n",
       "24    7.809152e+02\n",
       "25    8.364484e+02\n",
       "26    8.160305e+02\n",
       "27    7.967038e+02\n",
       "28    6.811110e+02\n",
       "29    7.577543e+02\n",
       "30    6.312089e+02\n",
       "31    6.062579e+02\n",
       "32    5.813068e+02\n",
       "33    5.563558e+02\n",
       "34    6.631174e+02\n",
       "35    6.439912e+02\n",
       "36    4.815026e+02\n",
       "37    6.129908e+02\n",
       "38    4.316005e+02\n",
       "39    3.816984e+02\n",
       "40    3.567474e+02\n",
       "41    3.317963e+02\n",
       "42    2.818942e+02\n",
       "43    1.820900e+02\n",
       "44    8.228586e+01\n",
       "45    5.672758e-07\n",
       "46    5.077291e-04\n",
       "47    8.288148e-12\n",
       "48    3.505361e-06\n",
       "49    4.113016e-05\n",
       "50    1.057900e-06\n",
       "Name: strike, dtype: float64"
      ]
     },
     "execution_count": 31,
     "metadata": {},
     "output_type": "execute_result"
    }
   ],
   "source": [
    "C['2021-12-16']"
   ]
  },
  {
   "cell_type": "code",
   "execution_count": 32,
   "metadata": {},
   "outputs": [
    {
     "ename": "IndexError",
     "evalue": "invalid index to scalar variable.",
     "output_type": "error",
     "traceback": [
      "\u001b[1;31m---------------------------------------------------------------------------\u001b[0m",
      "\u001b[1;31mIndexError\u001b[0m                                Traceback (most recent call last)",
      "\u001b[1;32m<ipython-input-32-560eb7bae1f6>\u001b[0m in \u001b[0;36m<module>\u001b[1;34m\u001b[0m\n\u001b[1;32m----> 1\u001b[1;33m \u001b[0mBSM\u001b[0m\u001b[1;33m.\u001b[0m\u001b[0mcallp_plot\u001b[0m\u001b[1;33m(\u001b[0m\u001b[1;36m1\u001b[0m\u001b[1;33m,\u001b[0m\u001b[1;36m1\u001b[0m\u001b[1;33m,\u001b[0m\u001b[1;33m(\u001b[0m\u001b[1;36m20\u001b[0m\u001b[1;33m,\u001b[0m\u001b[1;36m7\u001b[0m\u001b[1;33m)\u001b[0m\u001b[1;33m)\u001b[0m\u001b[1;33m\u001b[0m\u001b[1;33m\u001b[0m\u001b[0m\n\u001b[0m",
      "\u001b[1;32m~\\Documents\\GitHub\\Implied-Volatility\\BlackScholesMerton.py\u001b[0m in \u001b[0;36mcallp_plot\u001b[1;34m(self, n_rows, n_col, figure_size, subtitle)\u001b[0m\n\u001b[0;32m     75\u001b[0m         \u001b[1;32mif\u001b[0m \u001b[0misinstance\u001b[0m\u001b[1;33m(\u001b[0m\u001b[0mself\u001b[0m\u001b[1;33m.\u001b[0m\u001b[0mexp_date\u001b[0m\u001b[1;33m,\u001b[0m \u001b[0mdatetime\u001b[0m\u001b[1;33m.\u001b[0m\u001b[0mdatetime\u001b[0m\u001b[1;33m)\u001b[0m\u001b[1;33m:\u001b[0m\u001b[1;33m\u001b[0m\u001b[1;33m\u001b[0m\u001b[0m\n\u001b[0;32m     76\u001b[0m \u001b[1;33m\u001b[0m\u001b[0m\n\u001b[1;32m---> 77\u001b[1;33m             axs.plot(self.strike[self.exp_date],\n\u001b[0m\u001b[0;32m     78\u001b[0m                      \u001b[0mself\u001b[0m\u001b[1;33m.\u001b[0m\u001b[0mcall_price\u001b[0m\u001b[1;33m(\u001b[0m\u001b[1;33m)\u001b[0m\u001b[1;33m[\u001b[0m\u001b[0mself\u001b[0m\u001b[1;33m.\u001b[0m\u001b[0mexp_date\u001b[0m\u001b[1;33m]\u001b[0m\u001b[1;33m,\u001b[0m\u001b[1;33m\u001b[0m\u001b[1;33m\u001b[0m\u001b[0m\n\u001b[0;32m     79\u001b[0m                      \u001b[1;34m'tab:red'\u001b[0m\u001b[1;33m,\u001b[0m\u001b[1;33m\u001b[0m\u001b[1;33m\u001b[0m\u001b[0m\n",
      "\u001b[1;31mIndexError\u001b[0m: invalid index to scalar variable."
     ]
    },
    {
     "data": {
      "image/png": "[encoded data removed]",
      "text/plain": [
       "<Figure size 1440x504 with 1 Axes>"
      ]
     },
     "metadata": {
      "needs_background": "light"
     },
     "output_type": "display_data"
    }
   ],
   "source": [
    "BSM.callp_plot(1,1,(20,7))"
   ]
  },
  {
   "cell_type": "code",
   "execution_count": null,
   "metadata": {},
   "outputs": [],
   "source": []
  }
 ],
 "metadata": {
  "kernelspec": {
   "display_name": "Python 3",
   "language": "python",
   "name": "python3"
  },
  "language_info": {
   "codemirror_mode": {
    "name": "ipython",
    "version": 3
   },
   "file_extension": ".py",
   "mimetype": "text/x-python",
   "name": "python",
   "nbconvert_exporter": "python",
   "pygments_lexer": "ipython3",
   "version": "3.7.6"
  }
 },
 "nbformat": 4,
 "nbformat_minor": 4
}
