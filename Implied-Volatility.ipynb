{
 "cells": [
  {
   "cell_type": "code",
   "execution_count": 2,
   "metadata": {},
   "outputs": [],
   "source": [
    "import yfinance as yf\n",
    "from datetime import datetime\n",
    "import quandl\n",
    "import stockquotes\n",
    "import numpy as np\n",
    "import pandas as pd \n",
    "import matplotlib.pyplot as plt\n",
    "\n",
    "%matplotlib inline"
   ]
  },
  {
   "cell_type": "code",
   "execution_count": 5,
   "metadata": {},
   "outputs": [
    {
     "name": "stdout",
     "output_type": "stream",
     "text": [
      "S&P500 last price was $3668.1, thus we will look for strike price in the range of $3368 - $3968\n"
     ]
    }
   ],
   "source": [
    "SP500 = stockquotes.Stock(\"^GSPC\")\n",
    "S = SP500.current_price\n",
    "print(f'S&P500 last price was ${S}, thus we will look for strike price in the range of ${round(S-300)} - ${round(S+300)}')"
   ]
  },
  {
   "cell_type": "code",
   "execution_count": 51,
   "metadata": {},
   "outputs": [],
   "source": [
    "def call_data(ticker,expiration):\n",
    "    '''\n",
    "    Extracts the strike price and call premium of an option given the ticker symbol of the underlying asset and \n",
    "    the expiration date. Returns a list of strike price and call premium.\n",
    "    \n",
    "    Arguments:\n",
    "    ticker -- String that represents the ticker symbol of the underlying asset. Refer to Yahoo Finance website to find the \n",
    "              symbol\n",
    "    expiration -- String date in format 'YYYY-MM-DD'. Refer to Yahoo Finance to check list of available expirations for \n",
    "                  the underlying asset\n",
    "                  \n",
    "    Returns:\n",
    "    data -- list containig pairs of strike price and call premiums available for the underlying in the expiration selected\n",
    "    '''\n",
    "    \n",
    "    security = yf.Ticker(ticker)\n",
    "    \n",
    "    if expiration not in security.options:                       #Assertion to verify that expiration exists\n",
    "        print('Option expiration not available, please verify')\n",
    "        return\n",
    "        \n",
    "    options = security.option_chain(expiration)\n",
    "    calls = options.calls\n",
    "    strike_price = calls['strike']\n",
    "    call_price = calls['lastPrice']\n",
    "    \n",
    "    data = list(zip(strike_price, call_price))\n",
    "    \n",
    "    return data"
   ]
  },
  {
   "cell_type": "code",
   "execution_count": 52,
   "metadata": {},
   "outputs": [
    {
     "data": {
      "text/plain": [
       "[(900.0, 2755.29),\n",
       " (1000.0, 2656.54),\n",
       " (1225.0, 1956.5),\n",
       " (1300.0, 2039.26),\n",
       " (1375.0, 2143.78),\n",
       " (1400.0, 2119.6),\n",
       " (1500.0, 2160.15),\n",
       " (1525.0, 1425.66),\n",
       " (1550.0, 1201.5),\n",
       " (1600.0, 1600.8),\n",
       " (1625.0, 1375.0),\n",
       " (1650.0, 1054.5),\n",
       " (1800.0, 1243.1),\n",
       " (1825.0, 1466.0),\n",
       " (1900.0, 1361.4),\n",
       " (2000.0, 1643.6),\n",
       " (2175.0, 779.5),\n",
       " (2200.0, 1166.64),\n",
       " (2250.0, 1311.3),\n",
       " (2300.0, 1321.8),\n",
       " (2350.0, 834.0),\n",
       " (2400.0, 1007.0),\n",
       " (2425.0, 760.89),\n",
       " (2475.0, 1074.55),\n",
       " (2500.0, 1205.23),\n",
       " (2525.0, 575.4),\n",
       " (2550.0, 877.68),\n",
       " (2575.0, 895.15),\n",
       " (2600.0, 1043.62),\n",
       " (2625.0, 920.0),\n",
       " (2650.0, 909.5),\n",
       " (2675.0, 564.9),\n",
       " (2700.0, 960.0),\n",
       " (2725.0, 756.5),\n",
       " (2750.0, 966.06),\n",
       " (2775.0, 371.06),\n",
       " (2800.0, 945.42),\n",
       " (2825.0, 814.86),\n",
       " (2850.0, 851.1),\n",
       " (2900.0, 813.82),\n",
       " (2925.0, 629.0),\n",
       " (2950.0, 797.0),\n",
       " (3000.0, 758.0),\n",
       " (3100.0, 670.9),\n",
       " (3200.0, 622.93),\n",
       " (3300.0, 550.0),\n",
       " (3400.0, 480.0),\n",
       " (3500.0, 406.26),\n",
       " (3600.0, 329.1),\n",
       " (3900.0, 159.0),\n",
       " (4000.0, 118.0)]"
      ]
     },
     "execution_count": 52,
     "metadata": {},
     "output_type": "execute_result"
    }
   ],
   "source": [
    "call_data('^GSPC','2021-12-16')"
   ]
  },
  {
   "cell_type": "code",
   "execution_count": 49,
   "metadata": {},
   "outputs": [],
   "source": [
    "def Risk_free(ttm):\n",
    "    '''\n",
    "    Extracts the most recent US treasury rate given the time to maturity.\n",
    "    \n",
    "    Arguments:\n",
    "    ttm -- Time to maturity in string format. The available options are:\n",
    "    ['1 MO', '2 MO', '3 MO', '6 MO', '1 YR', '2 YR', '3 YR', '5 YR', '7 YR', '10 YR', '20 YR', '30 YR']\n",
    "    \n",
    "    Returns:\n",
    "    rf -- Most recent risk free rate for the time to maturity selected\n",
    "    '''\n",
    "    yield_curve = quandl.get('USTREASURY/YIELD', authtoken='JMxryiBcRV26o9r5q7uv')\n",
    "    rf = yield_curve[ttm][-1]\n",
    "    \n",
    "    return rf    "
   ]
  },
  {
   "cell_type": "code",
   "execution_count": 25,
   "metadata": {},
   "outputs": [
    {
     "data": {
      "text/plain": [
       "0.1"
      ]
     },
     "execution_count": 25,
     "metadata": {},
     "output_type": "execute_result"
    }
   ],
   "source": [
    "Risk_free('1 YR')"
   ]
  },
  {
   "cell_type": "code",
   "execution_count": 32,
   "metadata": {},
   "outputs": [],
   "source": [
    "def Time_to_maturity(expiration):\n",
    "    '''\n",
    "    Calculates the time to maturity in years from today to the option expiration\n",
    "    \n",
    "    Arguments:\n",
    "    expiration -- String date in format 'YYYY-MM-DD'. Refer to Yahoo Finance to check list of available expirations for \n",
    "                  the underlying asset\n",
    "                  \n",
    "    Returns:\n",
    "    ttm -- Time to maturity in year in float format\n",
    "    '''\n",
    "    \n",
    "    today = datetime.now()\n",
    "    expiration_d = datetime.strptime(expiration,'%Y-%m-%d')\n",
    "    datetime_delta = (expiration_d - today).days\n",
    "    ttm = datetime_delta/365\n",
    "    \n",
    "    return ttm\n",
    "    "
   ]
  },
  {
   "cell_type": "code",
   "execution_count": 33,
   "metadata": {},
   "outputs": [
    {
     "data": {
      "text/plain": [
       "1.010958904109589"
      ]
     },
     "execution_count": 33,
     "metadata": {},
     "output_type": "execute_result"
    }
   ],
   "source": [
    "Time_to_maturity('2021-12-16')"
   ]
  }
 ],
 "metadata": {
  "kernelspec": {
   "display_name": "Python 3",
   "language": "python",
   "name": "python3"
  },
  "language_info": {
   "codemirror_mode": {
    "name": "ipython",
    "version": 3
   },
   "file_extension": ".py",
   "mimetype": "text/x-python",
   "name": "python",
   "nbconvert_exporter": "python",
   "pygments_lexer": "ipython3",
   "version": "3.7.6"
  }
 },
 "nbformat": 4,
 "nbformat_minor": 4
}
