{
 "cells": [
  {
   "cell_type": "markdown",
   "metadata": {},
   "source": [
    "# Black Scholes Model"
   ]
  },
  {
   "cell_type": "markdown",
   "metadata": {},
   "source": [
    "The Black-Scholes Model was developed by professor Fisher Black, Myron Scholes, and Robert Merton. The model is used to value option contracts. The model makes the following assumptions: \n",
    "- Lognormal distribution for the stock price\n",
    "- There are no transaction costs or taxes\n",
    "- There is no cash flow from the underlying asset during the time to maturity of the option\n",
    "- There are no arbitrage opportunities\n",
    "- Investors can borrow or lend at the risk-free rate \n",
    "- The risk-free rate is constant\n",
    "- The model is based on European-style options\n"
   ]
  },
  {
   "cell_type": "markdown",
   "metadata": {},
   "source": [
    "The key concept from the mathematical model is that the option and the stock price depend on the same underlying source of uncertainty. This uncertainty could be eliminated by constructing a portfolio with the stock and the option. This portfolio should be instantaneously riskless and earn the risk-free rate. The portfolio will require continuous rebalancing."
   ]
  },
  {
   "cell_type": "markdown",
   "metadata": {},
   "source": [
    "The mathematical formula to calculate the call price of a European option is:"
   ]
  },
  {
   "cell_type": "markdown",
   "metadata": {},
   "source": [
    "\\begin{equation*}\n",
    "C = S_t N \\left(d1 \\right) - K e^{-rt} N \\left(d2 \\right)\n",
    "\\end{equation*}"
   ]
  },
  {
   "cell_type": "markdown",
   "metadata": {},
   "source": [
    "__Where:__\n",
    "\n",
    "\\begin{equation*}\n",
    "d1 = \\frac{ \\ln{ \\frac{S_t}{K} + \\left(r + \\frac{\\sigma_u^2}{2} \\right) t} }{\\sigma_s \\sqrt{t}}\n",
    "\\end{equation*}\n",
    "\n",
    "and:\n",
    "\n",
    "\\begin{equation*}\n",
    "d2 = d1 -  \\sigma_s \\sqrt{t}\n",
    "\\end{equation*}\n"
   ]
  },
  {
   "cell_type": "markdown",
   "metadata": {},
   "source": [
    "__Where:__\n",
    "\n",
    "\\begin{alignat*}{1}\n",
    "&C \\quad & = \\quad & \\text{Call option price} \\\\\n",
    "&S \\quad & = \\quad & \\text{Current stock (or other underlying) price} \\\\\n",
    "&K \\quad & = \\quad & \\text{Strike price} \\\\\n",
    "&r \\quad & = \\quad & \\text{Risk-free interest rate} \\\\\n",
    "&t \\quad & = \\quad & \\text{time to maturity} \\\\\n",
    "&N \\quad & = \\quad & \\text{A normal distribution}\n",
    "\\end{alignat*}"
   ]
  },
  {
   "cell_type": "markdown",
   "metadata": {},
   "source": [
    "In this notebook, I will develop a process to calculate the call price of any option given all the parameters required in the Black-Scholes model. To do that, I will use Python, specifically Yfinance and Quandl, libraries to obtain the required data."
   ]
  },
  {
   "cell_type": "markdown",
   "metadata": {},
   "source": [
    "First, let's import the necessary libraries to make the analysis.\n",
    "\n",
    "__Note:__ Some libraries might not be pre-installed so the reader will need to uncomment the line code to install them. "
   ]
  },
  {
   "cell_type": "code",
   "execution_count": 31,
   "metadata": {},
   "outputs": [],
   "source": [
    "#pip install stockquotes\n",
    "#pip install Quandl\n",
    "\n",
    "import math\n",
    "import scipy.stats as st\n",
    "import yfinance as yf\n",
    "from datetime import datetime\n",
    "from datetime import timedelta\n",
    "import stockquotes\n",
    "import quandl\n",
    "import numpy as np\n",
    "import matplotlib.pyplot as plt\n",
    "import pandas as pd\n",
    "from BlackScholesMerton import BlackScholesModel\n",
    "import os\n",
    "from scipy.optimize import minimize\n",
    "from joblib import Parallel, delayed\n",
    "\n",
    "%matplotlib inline"
   ]
  },
  {
   "cell_type": "markdown",
   "metadata": {},
   "source": [
    "I will use the Quandl library to obtain information about the risk-free rate. To use Quandl, you will need to set up an account and get an API key. The code to call Quandl API is <code>quandl.ApiConfig.api_key = 'YOUR KEY GOES HERE'</code>"
   ]
  },
  {
   "cell_type": "code",
   "execution_count": 32,
   "metadata": {},
   "outputs": [],
   "source": [
    "quandl.ApiConfig.api_key = os.environ.get('QUANDL_KEY')"
   ]
  },
  {
   "cell_type": "markdown",
   "metadata": {},
   "source": [
    "From the YFinance library, I will get the historical information of the S&P500."
   ]
  },
  {
   "cell_type": "markdown",
   "metadata": {},
   "source": [
    "This library also allows getting the expiration dates for the options."
   ]
  },
  {
   "cell_type": "markdown",
   "metadata": {},
   "source": [
    "Based on the expirations, I can get the option chain with the information required to calculate the option price using the Black-Scholes model. Let's have a look at the information available for the option chain on the S&P 500 with expiration on December 17, 2020."
   ]
  },
  {
   "cell_type": "markdown",
   "metadata": {},
   "source": [
    "This analysis will focus only on calculating the call price; however, once a put price formula is defined the reader can easily run the code with all the variables already defined in this notebook. Let's have a look at the DataFrame generated from YFinance."
   ]
  },
  {
   "cell_type": "markdown",
   "metadata": {},
   "source": [
    "From this dataFrame, I need the information related to the strike price and the implied volatility.\n",
    "\n",
    "We can save the strike price in a dictionary where the keys will be the different expiration dates and the values will be an array with all the strike prices available on the specific expiration date. "
   ]
  },
  {
   "cell_type": "markdown",
   "metadata": {},
   "source": [
    "Similarly, I can get a dictionary with information related to the implied volatility. Once again, the keys of the dictionary will be the different expiration dates and the values of the dictionary will be an array with the implied volatility corresponding to a determined strike price."
   ]
  },
  {
   "cell_type": "code",
   "execution_count": 33,
   "metadata": {},
   "outputs": [],
   "source": [
    "# sigma = {name: pd.DataFrame() for name in expirations}\n",
    "\n",
    "# for i, a in enumerate(expirations):\n",
    "#     GSPC_opts = GSPC.option_chain(expirations[i])\n",
    "#     GSPC_calls = GSPC_opts.calls\n",
    "#     sigma[a] = GSPC_calls['impliedVolatility']"
   ]
  },
  {
   "cell_type": "markdown",
   "metadata": {},
   "source": [
    "With the same logic used before, I can get the time to maturity for each expiration date. I will define a dictionary where the keys are the different expiration dates available, and the values of the dictionary are the difference between the current date and the expiration date. However, in this case, values are not an array of data, instead, the values are a scalar."
   ]
  },
  {
   "cell_type": "code",
   "execution_count": 34,
   "metadata": {},
   "outputs": [],
   "source": [
    "# t = {name: pd.DataFrame() for name in expirations}\n",
    "\n",
    "# for i, a in enumerate(expirations):\n",
    "#     expiration_date = datetime.strptime(expirations[i],\"%Y-%m-%d\") \n",
    "#     today = datetime.now()\n",
    "#     t[a] = (expiration_date - today).days/365"
   ]
  },
  {
   "cell_type": "markdown",
   "metadata": {},
   "source": [
    "Using the Quandl library, I can get access to the daily Treasury Yield Curve and saved it in a variable called <code>yield_curve</code>. To get the yield curve, I used the get module as follows: <code>quandl.get(\"USTREASURY/YIELD\", authtoken=\"YOUR TOKEN GOES HERE\")</code>"
   ]
  },
  {
   "cell_type": "code",
   "execution_count": 35,
   "metadata": {},
   "outputs": [],
   "source": [
    "# yield_curve = quandl.get(\"USTREASURY/YIELD\", authtoken = os.environ.get('QUANDL_KEY'))\n",
    "# yield_curve"
   ]
  },
  {
   "cell_type": "markdown",
   "metadata": {},
   "source": [
    "Now, I will define a function that allows me to calculate the time to maturity of the option based on the expiration date. The next step will be to match this time to maturity with the most appropriate treasury yield.\n",
    "\n",
    "To achieve this matching task, I will define a function that browses through the list of available treasury maturities and matches the time to maturity of the option with the corresponding yield of the closest greater treasury maturity."
   ]
  },
  {
   "cell_type": "code",
   "execution_count": 36,
   "metadata": {},
   "outputs": [],
   "source": [
    "# def TTM(exp_date,today):\n",
    "#     time_to_maturity = (exp_date - today).days\n",
    "#     return time_to_maturity\n",
    "\n",
    "# def rf(exp_date,today):\n",
    "#     num_days = [30,60,90,180,365,730,1095,1825,2555,3650,7300,10950]\n",
    "#     rf_ttm = list(yield_curve.columns)\n",
    "#     risk_free_L = []\n",
    "#     if round(TTM(exp_date,today)) < 0:\n",
    "#         return \"Expire date must be greater than today\"\n",
    "#     elif round(TTM(exp_date,today)) > num_days[-1]: \n",
    "#         return yield_curve[rf_ttm[-1]][-1]/100\n",
    "#     else:\n",
    "#         for b, f in zip(num_days, rf_ttm):\n",
    "#                 if round(TTM(expiration_date,today)) < b:\n",
    "#                     risk_free_L.append(yield_curve[f][-1]/100)\n",
    "#         return risk_free_L[0]"
   ]
  },
  {
   "cell_type": "markdown",
   "metadata": {},
   "source": [
    "With this last function defined, I can create a dictionary with the different risk-free rates relevant for each expiration. Again, the keys of the dictionary will be the expirations of the option and the values will be a scalar with the corresponding risk-free rate."
   ]
  },
  {
   "cell_type": "code",
   "execution_count": 37,
   "metadata": {},
   "outputs": [],
   "source": [
    "# rf_rate = {name: pd.DataFrame() for name in expirations}\n",
    "\n",
    "# for i, a in enumerate(expirations):\n",
    "#     expiration_date = datetime.strptime(expirations[i],\"%Y-%m-%d\") \n",
    "#     today = datetime.now()\n",
    "#     rf_rate[a] = rf(expiration_date,today)"
   ]
  },
  {
   "cell_type": "markdown",
   "metadata": {},
   "source": [
    "The last variable needed to calculate the price of the call option is the current price of the security. This can be obtained from the stockquotes library through the <code>Stock</code> module."
   ]
  },
  {
   "cell_type": "markdown",
   "metadata": {},
   "source": [
    "Now, let's develop the Black-Scholes model. I will define the model with 3 different functions; the advantage of this is that these functions could potentially  be used to create a Black-Scholes Class in Python for future development projects.\n",
    "\n",
    "The first function will calculate the expected value of the stock if the option is exercised using risk-adjusted probabilities. This is the equivalent of the term $\\begin{equation*}N \\left(d1 \\right)\\end{equation*}$. The function will return a tuple containing $\\begin{equation*}d1 \\end{equation*}$ and $\\begin{equation*}N \\left(d1 \\right)\\end{equation*}$."
   ]
  },
  {
   "cell_type": "code",
   "execution_count": 38,
   "metadata": {},
   "outputs": [],
   "source": [
    "# def Norm_d1(S, K, r, t, sigma):\n",
    "#     d1 = (np.log(S/K)+(r+((np.power(sigma,2)/2))*t))/(sigma*math.sqrt(t))\n",
    "#     N_d1 = st.norm.cdf(d1)\n",
    "#     return (d1, N_d1)"
   ]
  },
  {
   "cell_type": "markdown",
   "metadata": {},
   "source": [
    "The next function that I will define is the probability of the function to be exercised based on risk-adjusted probabilities. This is equivalent to the term $\\begin{equation*}N \\left(d2 \\right)\\end{equation*}$."
   ]
  },
  {
   "cell_type": "code",
   "execution_count": 39,
   "metadata": {},
   "outputs": [],
   "source": [
    "# def Norm_d2(d1, sigma, t):\n",
    "#     d2 = d1 - sigma*math.sqrt(t)\n",
    "#     N_d2 = st.norm.cdf(d2)\n",
    "#     return N_d2"
   ]
  },
  {
   "cell_type": "markdown",
   "metadata": {},
   "source": [
    "Lastly, I will define the function that will calculate the call price taking an input all the variables required in the model and using the previous two functions."
   ]
  },
  {
   "cell_type": "code",
   "execution_count": 40,
   "metadata": {},
   "outputs": [],
   "source": [
    "# def Call_price(S, K, r, t, sigma):\n",
    "#     d1, N_d1 = Norm_d1(S, K, r, t, sigma)\n",
    "#     N_d2 = Norm_d2(d1, sigma, t)\n",
    "#     C = S*N_d1-K*math.exp(-r*t)*N_d2\n",
    "#     return C"
   ]
  },
  {
   "cell_type": "markdown",
   "metadata": {},
   "source": [
    "With the call price function define, I can create a dictionary that saves the array of call prices for different expiration dates. "
   ]
  },
  {
   "cell_type": "markdown",
   "metadata": {},
   "source": [
    "Let's visualize the results. The following graph will compare, for the two expirations available, the call price for different strike prices calculated using the Black-Scholes model and the actual price taken from the YFinance library. "
   ]
  },
  {
   "cell_type": "markdown",
   "metadata": {},
   "source": [
    "The difference between the Black-Scholes model and the actual price could be explained by lack of liquidity, especially in options with low strike price, and/or differences in the implied volatility. "
   ]
  },
  {
   "cell_type": "markdown",
   "metadata": {},
   "source": [
    "__References:__<p>&nbsp;</p> \n",
    "- Investopedia (2020). Black Scholes Model https://www.investopedia.com/terms/b/blackscholes.asp\n",
    "- John C. Hull (2016). Fundamentals of Futures and Options Markets, 9th Ed, Ch 13"
   ]
  },
  {
   "cell_type": "markdown",
   "metadata": {},
   "source": [
    "# Implied Volatility"
   ]
  },
  {
   "cell_type": "code",
   "execution_count": 41,
   "metadata": {},
   "outputs": [],
   "source": [
    "GSPC = yf.Ticker('^GSPC')"
   ]
  },
  {
   "cell_type": "code",
   "execution_count": 42,
   "metadata": {},
   "outputs": [
    {
     "data": {
      "text/plain": [
       "('2020-12-17', '2021-12-16')"
      ]
     },
     "execution_count": 42,
     "metadata": {},
     "output_type": "execute_result"
    }
   ],
   "source": [
    "expirations = GSPC.options\n",
    "expirations"
   ]
  },
  {
   "cell_type": "code",
   "execution_count": 43,
   "metadata": {},
   "outputs": [
    {
     "data": {
      "text/plain": [
       "Options(calls=        contractSymbol       lastTradeDate  strike  lastPrice   bid   ask  \\\n",
       "0   SPX201218C00100000 2020-08-13 09:32:42   100.0    3252.50   0.0   0.0   \n",
       "1   SPX201218C00200000 2020-08-12 12:55:47   200.0    3139.50   0.0   0.0   \n",
       "2   SPX201218C00300000 2020-07-09 20:55:27   300.0    2738.00   0.0   0.0   \n",
       "3   SPX201218C00400000 2020-07-09 20:55:30   400.0    2638.40   0.0   0.0   \n",
       "4   SPX201218C00500000 2020-07-27 12:00:10   500.0    2707.70   0.0   0.0   \n",
       "..                 ...                 ...     ...        ...   ...   ...   \n",
       "89  SPX201218C03800000 2020-08-14 17:38:10  3800.0      20.74   0.0   0.0   \n",
       "90  SPX201218C03900000 2020-08-14 13:30:02  3900.0      11.77  10.7  11.1   \n",
       "91  SPX201218C04000000 2020-08-14 20:03:04  4000.0       6.15   5.9   6.3   \n",
       "92  SPX201218C04100000 2020-08-14 19:42:52  4100.0       3.39   3.3   3.6   \n",
       "93  SPX201218C04200000 2020-08-14 17:38:10  4200.0       2.10   1.8   2.0   \n",
       "\n",
       "      change  percentChange  volume  openInterest  impliedVolatility  \\\n",
       "0   0.000000       0.000000       2          3270           0.000010   \n",
       "1   0.000000       0.000000       1          3145           0.000010   \n",
       "2   0.000000       0.000000       8            86           0.000010   \n",
       "3   0.000000       0.000000       6            16           0.000010   \n",
       "4   0.000000       0.000000       1            58           0.000010   \n",
       "..       ...            ...     ...           ...                ...   \n",
       "89 -1.460001      -6.576581       4         13851           0.031260   \n",
       "90 -0.330000      -2.727272      23          7585           0.167657   \n",
       "91 -0.860000     -12.268190     303         12159           0.168542   \n",
       "92 -0.470000     -12.176161      44          2090           0.170327   \n",
       "93 -0.150000      -6.666671       4          2619           0.171731   \n",
       "\n",
       "    inTheMoney contractSize currency  \n",
       "0         True      REGULAR      USD  \n",
       "1         True      REGULAR      USD  \n",
       "2         True      REGULAR      USD  \n",
       "3         True      REGULAR      USD  \n",
       "4         True      REGULAR      USD  \n",
       "..         ...          ...      ...  \n",
       "89       False      REGULAR      USD  \n",
       "90       False      REGULAR      USD  \n",
       "91       False      REGULAR      USD  \n",
       "92       False      REGULAR      USD  \n",
       "93       False      REGULAR      USD  \n",
       "\n",
       "[94 rows x 14 columns], puts=         contractSymbol       lastTradeDate  strike  lastPrice     bid  \\\n",
       "0    SPX201218P00100000 2020-08-12 15:56:38   100.0       0.05    0.00   \n",
       "1    SPX201218P00200000 2020-08-11 13:30:03   200.0       0.05    0.00   \n",
       "2    SPX201218P00300000 2020-08-13 18:25:49   300.0       0.05    0.05   \n",
       "3    SPX201218P00400000 2020-08-12 13:30:03   400.0       0.10    0.05   \n",
       "4    SPX201218P00500000 2020-08-10 18:08:31   500.0       0.15    0.10   \n",
       "..                  ...                 ...     ...        ...     ...   \n",
       "107  SPX201218P03800000 2020-06-24 13:36:35  3800.0     716.74  616.60   \n",
       "108  SPX201218P03900000 2020-08-05 14:48:26  3900.0     600.00    0.00   \n",
       "109  SPX201218P04000000 2020-07-24 13:55:07  4000.0     812.94    0.00   \n",
       "110  SPX201218P04100000 2020-07-09 20:56:15  4100.0    1160.07    0.00   \n",
       "111  SPX201218P04200000 2020-07-09 20:56:15  4200.0    1381.95    0.00   \n",
       "\n",
       "        ask  change  percentChange  volume  openInterest  impliedVolatility  \\\n",
       "0      0.05     0.0            0.0       3         20631           1.687502   \n",
       "1      0.05     0.0            0.0     134          7036           1.343753   \n",
       "2      0.10     0.0            0.0      35          5645           1.232426   \n",
       "3      0.10     0.0            0.0     214          7137           1.083989   \n",
       "4      0.15     0.0            0.0     204          6822           1.007817   \n",
       "..      ...     ...            ...     ...           ...                ...   \n",
       "107  618.70     0.0            0.0       1            56           0.437429   \n",
       "108    0.00     0.0            0.0      10            93           0.000010   \n",
       "109    0.00     0.0            0.0       2            73           0.000010   \n",
       "110    0.00     0.0            0.0       1           513           0.000010   \n",
       "111    0.00     0.0            0.0     500           514           0.000010   \n",
       "\n",
       "     inTheMoney contractSize currency  \n",
       "0         False      REGULAR      USD  \n",
       "1         False      REGULAR      USD  \n",
       "2         False      REGULAR      USD  \n",
       "3         False      REGULAR      USD  \n",
       "4         False      REGULAR      USD  \n",
       "..          ...          ...      ...  \n",
       "107        True      REGULAR      USD  \n",
       "108        True      REGULAR      USD  \n",
       "109        True      REGULAR      USD  \n",
       "110        True      REGULAR      USD  \n",
       "111        True      REGULAR      USD  \n",
       "\n",
       "[112 rows x 14 columns])"
      ]
     },
     "execution_count": 43,
     "metadata": {},
     "output_type": "execute_result"
    }
   ],
   "source": [
    "GSPC_opts = GSPC.option_chain(expirations[0])\n",
    "GSPC_opts"
   ]
  },
  {
   "cell_type": "code",
   "execution_count": 44,
   "metadata": {},
   "outputs": [
    {
     "data": {
      "text/html": [
       "<div>\n",
       "<style scoped>\n",
       "    .dataframe tbody tr th:only-of-type {\n",
       "        vertical-align: middle;\n",
       "    }\n",
       "\n",
       "    .dataframe tbody tr th {\n",
       "        vertical-align: top;\n",
       "    }\n",
       "\n",
       "    .dataframe thead th {\n",
       "        text-align: right;\n",
       "    }\n",
       "</style>\n",
       "<table border=\"1\" class=\"dataframe\">\n",
       "  <thead>\n",
       "    <tr style=\"text-align: right;\">\n",
       "      <th></th>\n",
       "      <th>contractSymbol</th>\n",
       "      <th>lastTradeDate</th>\n",
       "      <th>strike</th>\n",
       "      <th>lastPrice</th>\n",
       "      <th>bid</th>\n",
       "      <th>ask</th>\n",
       "      <th>change</th>\n",
       "      <th>percentChange</th>\n",
       "      <th>volume</th>\n",
       "      <th>openInterest</th>\n",
       "      <th>impliedVolatility</th>\n",
       "      <th>inTheMoney</th>\n",
       "      <th>contractSize</th>\n",
       "      <th>currency</th>\n",
       "    </tr>\n",
       "  </thead>\n",
       "  <tbody>\n",
       "    <tr>\n",
       "      <th>0</th>\n",
       "      <td>SPX201218C00100000</td>\n",
       "      <td>2020-08-13 09:32:42</td>\n",
       "      <td>100.0</td>\n",
       "      <td>3252.50</td>\n",
       "      <td>0.0</td>\n",
       "      <td>0.0</td>\n",
       "      <td>0.000000</td>\n",
       "      <td>0.000000</td>\n",
       "      <td>2</td>\n",
       "      <td>3270</td>\n",
       "      <td>0.000010</td>\n",
       "      <td>True</td>\n",
       "      <td>REGULAR</td>\n",
       "      <td>USD</td>\n",
       "    </tr>\n",
       "    <tr>\n",
       "      <th>1</th>\n",
       "      <td>SPX201218C00200000</td>\n",
       "      <td>2020-08-12 12:55:47</td>\n",
       "      <td>200.0</td>\n",
       "      <td>3139.50</td>\n",
       "      <td>0.0</td>\n",
       "      <td>0.0</td>\n",
       "      <td>0.000000</td>\n",
       "      <td>0.000000</td>\n",
       "      <td>1</td>\n",
       "      <td>3145</td>\n",
       "      <td>0.000010</td>\n",
       "      <td>True</td>\n",
       "      <td>REGULAR</td>\n",
       "      <td>USD</td>\n",
       "    </tr>\n",
       "    <tr>\n",
       "      <th>2</th>\n",
       "      <td>SPX201218C00300000</td>\n",
       "      <td>2020-07-09 20:55:27</td>\n",
       "      <td>300.0</td>\n",
       "      <td>2738.00</td>\n",
       "      <td>0.0</td>\n",
       "      <td>0.0</td>\n",
       "      <td>0.000000</td>\n",
       "      <td>0.000000</td>\n",
       "      <td>8</td>\n",
       "      <td>86</td>\n",
       "      <td>0.000010</td>\n",
       "      <td>True</td>\n",
       "      <td>REGULAR</td>\n",
       "      <td>USD</td>\n",
       "    </tr>\n",
       "    <tr>\n",
       "      <th>3</th>\n",
       "      <td>SPX201218C00400000</td>\n",
       "      <td>2020-07-09 20:55:30</td>\n",
       "      <td>400.0</td>\n",
       "      <td>2638.40</td>\n",
       "      <td>0.0</td>\n",
       "      <td>0.0</td>\n",
       "      <td>0.000000</td>\n",
       "      <td>0.000000</td>\n",
       "      <td>6</td>\n",
       "      <td>16</td>\n",
       "      <td>0.000010</td>\n",
       "      <td>True</td>\n",
       "      <td>REGULAR</td>\n",
       "      <td>USD</td>\n",
       "    </tr>\n",
       "    <tr>\n",
       "      <th>4</th>\n",
       "      <td>SPX201218C00500000</td>\n",
       "      <td>2020-07-27 12:00:10</td>\n",
       "      <td>500.0</td>\n",
       "      <td>2707.70</td>\n",
       "      <td>0.0</td>\n",
       "      <td>0.0</td>\n",
       "      <td>0.000000</td>\n",
       "      <td>0.000000</td>\n",
       "      <td>1</td>\n",
       "      <td>58</td>\n",
       "      <td>0.000010</td>\n",
       "      <td>True</td>\n",
       "      <td>REGULAR</td>\n",
       "      <td>USD</td>\n",
       "    </tr>\n",
       "    <tr>\n",
       "      <th>...</th>\n",
       "      <td>...</td>\n",
       "      <td>...</td>\n",
       "      <td>...</td>\n",
       "      <td>...</td>\n",
       "      <td>...</td>\n",
       "      <td>...</td>\n",
       "      <td>...</td>\n",
       "      <td>...</td>\n",
       "      <td>...</td>\n",
       "      <td>...</td>\n",
       "      <td>...</td>\n",
       "      <td>...</td>\n",
       "      <td>...</td>\n",
       "      <td>...</td>\n",
       "    </tr>\n",
       "    <tr>\n",
       "      <th>89</th>\n",
       "      <td>SPX201218C03800000</td>\n",
       "      <td>2020-08-14 17:38:10</td>\n",
       "      <td>3800.0</td>\n",
       "      <td>20.74</td>\n",
       "      <td>0.0</td>\n",
       "      <td>0.0</td>\n",
       "      <td>-1.460001</td>\n",
       "      <td>-6.576581</td>\n",
       "      <td>4</td>\n",
       "      <td>13851</td>\n",
       "      <td>0.031260</td>\n",
       "      <td>False</td>\n",
       "      <td>REGULAR</td>\n",
       "      <td>USD</td>\n",
       "    </tr>\n",
       "    <tr>\n",
       "      <th>90</th>\n",
       "      <td>SPX201218C03900000</td>\n",
       "      <td>2020-08-14 13:30:02</td>\n",
       "      <td>3900.0</td>\n",
       "      <td>11.77</td>\n",
       "      <td>10.7</td>\n",
       "      <td>11.1</td>\n",
       "      <td>-0.330000</td>\n",
       "      <td>-2.727272</td>\n",
       "      <td>23</td>\n",
       "      <td>7585</td>\n",
       "      <td>0.167657</td>\n",
       "      <td>False</td>\n",
       "      <td>REGULAR</td>\n",
       "      <td>USD</td>\n",
       "    </tr>\n",
       "    <tr>\n",
       "      <th>91</th>\n",
       "      <td>SPX201218C04000000</td>\n",
       "      <td>2020-08-14 20:03:04</td>\n",
       "      <td>4000.0</td>\n",
       "      <td>6.15</td>\n",
       "      <td>5.9</td>\n",
       "      <td>6.3</td>\n",
       "      <td>-0.860000</td>\n",
       "      <td>-12.268190</td>\n",
       "      <td>303</td>\n",
       "      <td>12159</td>\n",
       "      <td>0.168542</td>\n",
       "      <td>False</td>\n",
       "      <td>REGULAR</td>\n",
       "      <td>USD</td>\n",
       "    </tr>\n",
       "    <tr>\n",
       "      <th>92</th>\n",
       "      <td>SPX201218C04100000</td>\n",
       "      <td>2020-08-14 19:42:52</td>\n",
       "      <td>4100.0</td>\n",
       "      <td>3.39</td>\n",
       "      <td>3.3</td>\n",
       "      <td>3.6</td>\n",
       "      <td>-0.470000</td>\n",
       "      <td>-12.176161</td>\n",
       "      <td>44</td>\n",
       "      <td>2090</td>\n",
       "      <td>0.170327</td>\n",
       "      <td>False</td>\n",
       "      <td>REGULAR</td>\n",
       "      <td>USD</td>\n",
       "    </tr>\n",
       "    <tr>\n",
       "      <th>93</th>\n",
       "      <td>SPX201218C04200000</td>\n",
       "      <td>2020-08-14 17:38:10</td>\n",
       "      <td>4200.0</td>\n",
       "      <td>2.10</td>\n",
       "      <td>1.8</td>\n",
       "      <td>2.0</td>\n",
       "      <td>-0.150000</td>\n",
       "      <td>-6.666671</td>\n",
       "      <td>4</td>\n",
       "      <td>2619</td>\n",
       "      <td>0.171731</td>\n",
       "      <td>False</td>\n",
       "      <td>REGULAR</td>\n",
       "      <td>USD</td>\n",
       "    </tr>\n",
       "  </tbody>\n",
       "</table>\n",
       "<p>94 rows × 14 columns</p>\n",
       "</div>"
      ],
      "text/plain": [
       "        contractSymbol       lastTradeDate  strike  lastPrice   bid   ask  \\\n",
       "0   SPX201218C00100000 2020-08-13 09:32:42   100.0    3252.50   0.0   0.0   \n",
       "1   SPX201218C00200000 2020-08-12 12:55:47   200.0    3139.50   0.0   0.0   \n",
       "2   SPX201218C00300000 2020-07-09 20:55:27   300.0    2738.00   0.0   0.0   \n",
       "3   SPX201218C00400000 2020-07-09 20:55:30   400.0    2638.40   0.0   0.0   \n",
       "4   SPX201218C00500000 2020-07-27 12:00:10   500.0    2707.70   0.0   0.0   \n",
       "..                 ...                 ...     ...        ...   ...   ...   \n",
       "89  SPX201218C03800000 2020-08-14 17:38:10  3800.0      20.74   0.0   0.0   \n",
       "90  SPX201218C03900000 2020-08-14 13:30:02  3900.0      11.77  10.7  11.1   \n",
       "91  SPX201218C04000000 2020-08-14 20:03:04  4000.0       6.15   5.9   6.3   \n",
       "92  SPX201218C04100000 2020-08-14 19:42:52  4100.0       3.39   3.3   3.6   \n",
       "93  SPX201218C04200000 2020-08-14 17:38:10  4200.0       2.10   1.8   2.0   \n",
       "\n",
       "      change  percentChange  volume  openInterest  impliedVolatility  \\\n",
       "0   0.000000       0.000000       2          3270           0.000010   \n",
       "1   0.000000       0.000000       1          3145           0.000010   \n",
       "2   0.000000       0.000000       8            86           0.000010   \n",
       "3   0.000000       0.000000       6            16           0.000010   \n",
       "4   0.000000       0.000000       1            58           0.000010   \n",
       "..       ...            ...     ...           ...                ...   \n",
       "89 -1.460001      -6.576581       4         13851           0.031260   \n",
       "90 -0.330000      -2.727272      23          7585           0.167657   \n",
       "91 -0.860000     -12.268190     303         12159           0.168542   \n",
       "92 -0.470000     -12.176161      44          2090           0.170327   \n",
       "93 -0.150000      -6.666671       4          2619           0.171731   \n",
       "\n",
       "    inTheMoney contractSize currency  \n",
       "0         True      REGULAR      USD  \n",
       "1         True      REGULAR      USD  \n",
       "2         True      REGULAR      USD  \n",
       "3         True      REGULAR      USD  \n",
       "4         True      REGULAR      USD  \n",
       "..         ...          ...      ...  \n",
       "89       False      REGULAR      USD  \n",
       "90       False      REGULAR      USD  \n",
       "91       False      REGULAR      USD  \n",
       "92       False      REGULAR      USD  \n",
       "93       False      REGULAR      USD  \n",
       "\n",
       "[94 rows x 14 columns]"
      ]
     },
     "execution_count": 44,
     "metadata": {},
     "output_type": "execute_result"
    }
   ],
   "source": [
    "GSPC_calls = GSPC_opts.calls\n",
    "GSPC_calls"
   ]
  },
  {
   "cell_type": "code",
   "execution_count": 45,
   "metadata": {},
   "outputs": [],
   "source": [
    "strike = {name:name for name in expirations}\n",
    "\n",
    "for i, a in enumerate(expirations):\n",
    "    GSPC_opts = GSPC.option_chain(expirations[i])\n",
    "    GSPC_calls = GSPC_opts.calls\n",
    "    strike[a] = GSPC_calls['strike']\n",
    "    "
   ]
  },
  {
   "cell_type": "code",
   "execution_count": 46,
   "metadata": {},
   "outputs": [],
   "source": [
    "today = datetime.now()"
   ]
  },
  {
   "cell_type": "code",
   "execution_count": 47,
   "metadata": {},
   "outputs": [],
   "source": [
    "SP500 = stockquotes.Stock(\"^GSPC\")\n",
    "stock_price = SP500.current_price"
   ]
  },
  {
   "cell_type": "code",
   "execution_count": 48,
   "metadata": {},
   "outputs": [],
   "source": [
    "call_premium = {name:name for name in expirations}\n",
    "\n",
    "for i, a in enumerate(expirations):\n",
    "    GSPC_opts = GSPC.option_chain(expirations[i])\n",
    "    GSPC_calls = GSPC_opts.calls\n",
    "    call_premium[a] = GSPC_calls['lastPrice']"
   ]
  },
  {
   "cell_type": "code",
   "execution_count": 49,
   "metadata": {},
   "outputs": [],
   "source": [
    "BSM = {name:name for name in expirations}\n",
    "\n",
    "for i, a in enumerate(expirations):\n",
    "    BSM[a] = BlackScholesModel(datetime.strptime(expirations[i],\"%Y-%m-%d\"),today,stock_price,strike[a], \\\n",
    "                               premium=call_premium[a])"
   ]
  },
  {
   "cell_type": "code",
   "execution_count": 50,
   "metadata": {},
   "outputs": [],
   "source": [
    "maturity = {name:name for name in expirations}\n",
    "\n",
    "for i, a in enumerate(expirations):\n",
    "    maturity[a] = BSM[a].maturity()"
   ]
  },
  {
   "cell_type": "code",
   "execution_count": 51,
   "metadata": {},
   "outputs": [
    {
     "data": {
      "text/plain": [
       "{'2020-12-17': 0.33972602739726027, '2021-12-16': 1.336986301369863}"
      ]
     },
     "execution_count": 51,
     "metadata": {},
     "output_type": "execute_result"
    }
   ],
   "source": [
    "maturity"
   ]
  },
  {
   "cell_type": "code",
   "execution_count": 52,
   "metadata": {},
   "outputs": [],
   "source": [
    "difference = {name:name for name in expirations}\n",
    "\n",
    "sigma = 0.4\n",
    "\n",
    "for i, a in enumerate(expirations):\n",
    "    difference[a] = BSM[a].difference(sigma)"
   ]
  },
  {
   "cell_type": "code",
   "execution_count": 53,
   "metadata": {},
   "outputs": [
    {
     "data": {
      "text/plain": [
       "27341.877214377677"
      ]
     },
     "execution_count": 53,
     "metadata": {},
     "output_type": "execute_result"
    }
   ],
   "source": [
    "difference['2020-12-17'][4]"
   ]
  },
  {
   "cell_type": "code",
   "execution_count": 54,
   "metadata": {},
   "outputs": [],
   "source": [
    "# implied_vol = {name: pd.DataFrame() for name in expirations}\n",
    "\n",
    "# x0 = [1]\n",
    "\n",
    "# for i, a in enumerate(expirations):\n",
    "#     implied_vol[a] = minimize(BSM[a].difference(1), x0)"
   ]
  },
  {
   "cell_type": "code",
   "execution_count": 55,
   "metadata": {},
   "outputs": [],
   "source": [
    "BSM = {name:name for name in expirations}\n",
    "\n",
    "for i, a in enumerate(expirations):\n",
    "    strikeP = {count:count for count in range(0,len(expirations))}\n",
    "    for j in range(0,len(strike[a])):\n",
    "        strikeP[j] = BlackScholesModel(datetime.strptime(expirations[i],\"%Y-%m-%d\"),today,stock_price,strike[a][j], \\\n",
    "                                   premium=call_premium[a][j])\n",
    "    BSM[a] = strikeP"
   ]
  },
  {
   "cell_type": "code",
   "execution_count": 56,
   "metadata": {},
   "outputs": [
    {
     "data": {
      "text/plain": [
       "{'2020-12-17': {0: <BlackScholesMerton.BlackScholesModel at 0x20c79404608>,\n",
       "  1: <BlackScholesMerton.BlackScholesModel at 0x20c79132ec8>,\n",
       "  2: <BlackScholesMerton.BlackScholesModel at 0x20c79132c48>,\n",
       "  3: <BlackScholesMerton.BlackScholesModel at 0x20c79132e48>,\n",
       "  4: <BlackScholesMerton.BlackScholesModel at 0x20c79132bc8>,\n",
       "  5: <BlackScholesMerton.BlackScholesModel at 0x20c79132b48>,\n",
       "  6: <BlackScholesMerton.BlackScholesModel at 0x20c79132ac8>,\n",
       "  7: <BlackScholesMerton.BlackScholesModel at 0x20c79132a48>,\n",
       "  8: <BlackScholesMerton.BlackScholesModel at 0x20c79132848>,\n",
       "  9: <BlackScholesMerton.BlackScholesModel at 0x20c791326c8>,\n",
       "  10: <BlackScholesMerton.BlackScholesModel at 0x20c79132988>,\n",
       "  11: <BlackScholesMerton.BlackScholesModel at 0x20c79132148>,\n",
       "  12: <BlackScholesMerton.BlackScholesModel at 0x20c791320c8>,\n",
       "  13: <BlackScholesMerton.BlackScholesModel at 0x20c79132048>,\n",
       "  14: <BlackScholesMerton.BlackScholesModel at 0x20c79132cc8>,\n",
       "  15: <BlackScholesMerton.BlackScholesModel at 0x20c79132d48>,\n",
       "  16: <BlackScholesMerton.BlackScholesModel at 0x20c792ed808>,\n",
       "  17: <BlackScholesMerton.BlackScholesModel at 0x20c792ed708>,\n",
       "  18: <BlackScholesMerton.BlackScholesModel at 0x20c792ed608>,\n",
       "  19: <BlackScholesMerton.BlackScholesModel at 0x20c792ed508>,\n",
       "  20: <BlackScholesMerton.BlackScholesModel at 0x20c792ed408>,\n",
       "  21: <BlackScholesMerton.BlackScholesModel at 0x20c792ed308>,\n",
       "  22: <BlackScholesMerton.BlackScholesModel at 0x20c792ed208>,\n",
       "  23: <BlackScholesMerton.BlackScholesModel at 0x20c792ed108>,\n",
       "  24: <BlackScholesMerton.BlackScholesModel at 0x20c792edcc8>,\n",
       "  25: <BlackScholesMerton.BlackScholesModel at 0x20c792edb88>,\n",
       "  26: <BlackScholesMerton.BlackScholesModel at 0x20c792edf48>,\n",
       "  27: <BlackScholesMerton.BlackScholesModel at 0x20c792edb48>,\n",
       "  28: <BlackScholesMerton.BlackScholesModel at 0x20c792edb08>,\n",
       "  29: <BlackScholesMerton.BlackScholesModel at 0x20c792eda48>,\n",
       "  30: <BlackScholesMerton.BlackScholesModel at 0x20c792ed188>,\n",
       "  31: <BlackScholesMerton.BlackScholesModel at 0x20c792edbc8>,\n",
       "  32: <BlackScholesMerton.BlackScholesModel at 0x20c792eda88>,\n",
       "  33: <BlackScholesMerton.BlackScholesModel at 0x20c792edc08>,\n",
       "  34: <BlackScholesMerton.BlackScholesModel at 0x20c792eddc8>,\n",
       "  35: <BlackScholesMerton.BlackScholesModel at 0x20c792ed148>,\n",
       "  36: <BlackScholesMerton.BlackScholesModel at 0x20c792ed248>,\n",
       "  37: <BlackScholesMerton.BlackScholesModel at 0x20c792ed2c8>,\n",
       "  38: <BlackScholesMerton.BlackScholesModel at 0x20c792ed3c8>,\n",
       "  39: <BlackScholesMerton.BlackScholesModel at 0x20c792ed948>,\n",
       "  40: <BlackScholesMerton.BlackScholesModel at 0x20c792ed7c8>,\n",
       "  41: <BlackScholesMerton.BlackScholesModel at 0x20c792ed8c8>,\n",
       "  42: <BlackScholesMerton.BlackScholesModel at 0x20c792ed9c8>,\n",
       "  43: <BlackScholesMerton.BlackScholesModel at 0x20c792eda08>,\n",
       "  44: <BlackScholesMerton.BlackScholesModel at 0x20c792ed848>,\n",
       "  45: <BlackScholesMerton.BlackScholesModel at 0x20c792ed748>,\n",
       "  46: <BlackScholesMerton.BlackScholesModel at 0x20c792ed648>,\n",
       "  47: <BlackScholesMerton.BlackScholesModel at 0x20c792ed548>,\n",
       "  48: <BlackScholesMerton.BlackScholesModel at 0x20c792ed448>,\n",
       "  49: <BlackScholesMerton.BlackScholesModel at 0x20c792ed348>,\n",
       "  50: <BlackScholesMerton.BlackScholesModel at 0x20c792ed088>,\n",
       "  51: <BlackScholesMerton.BlackScholesModel at 0x20c792ed1c8>,\n",
       "  52: <BlackScholesMerton.BlackScholesModel at 0x20c792edf08>,\n",
       "  53: <BlackScholesMerton.BlackScholesModel at 0x20c792edfc8>,\n",
       "  54: <BlackScholesMerton.BlackScholesModel at 0x20c792edd88>,\n",
       "  55: <BlackScholesMerton.BlackScholesModel at 0x20c792edac8>,\n",
       "  56: <BlackScholesMerton.BlackScholesModel at 0x20c792edd08>,\n",
       "  57: <BlackScholesMerton.BlackScholesModel at 0x20c792edc88>,\n",
       "  58: <BlackScholesMerton.BlackScholesModel at 0x20c792ede08>,\n",
       "  59: <BlackScholesMerton.BlackScholesModel at 0x20c792edc48>,\n",
       "  60: <BlackScholesMerton.BlackScholesModel at 0x20c792edd48>,\n",
       "  61: <BlackScholesMerton.BlackScholesModel at 0x20c792ede48>,\n",
       "  62: <BlackScholesMerton.BlackScholesModel at 0x20c792edec8>,\n",
       "  63: <BlackScholesMerton.BlackScholesModel at 0x20c792ed048>,\n",
       "  64: <BlackScholesMerton.BlackScholesModel at 0x20c792ed0c8>,\n",
       "  65: <BlackScholesMerton.BlackScholesModel at 0x20c792ed288>,\n",
       "  66: <BlackScholesMerton.BlackScholesModel at 0x20c792ed388>,\n",
       "  67: <BlackScholesMerton.BlackScholesModel at 0x20c792ed488>,\n",
       "  68: <BlackScholesMerton.BlackScholesModel at 0x20c792ed588>,\n",
       "  69: <BlackScholesMerton.BlackScholesModel at 0x20c792ed688>,\n",
       "  70: <BlackScholesMerton.BlackScholesModel at 0x20c792ed788>,\n",
       "  71: <BlackScholesMerton.BlackScholesModel at 0x20c792ed888>,\n",
       "  72: <BlackScholesMerton.BlackScholesModel at 0x20c792ed908>,\n",
       "  73: <BlackScholesMerton.BlackScholesModel at 0x20c792ed5c8>,\n",
       "  74: <BlackScholesMerton.BlackScholesModel at 0x20c792ed6c8>,\n",
       "  75: <BlackScholesMerton.BlackScholesModel at 0x20c78f46f08>,\n",
       "  76: <BlackScholesMerton.BlackScholesModel at 0x20c78f462c8>,\n",
       "  77: <BlackScholesMerton.BlackScholesModel at 0x20c78f46248>,\n",
       "  78: <BlackScholesMerton.BlackScholesModel at 0x20c78f46308>,\n",
       "  79: <BlackScholesMerton.BlackScholesModel at 0x20c78f46748>,\n",
       "  80: <BlackScholesMerton.BlackScholesModel at 0x20c78f46e08>,\n",
       "  81: <BlackScholesMerton.BlackScholesModel at 0x20c78f466c8>,\n",
       "  82: <BlackScholesMerton.BlackScholesModel at 0x20c78f46408>,\n",
       "  83: <BlackScholesMerton.BlackScholesModel at 0x20c78f46c08>,\n",
       "  84: <BlackScholesMerton.BlackScholesModel at 0x20c78f46d88>,\n",
       "  85: <BlackScholesMerton.BlackScholesModel at 0x20c78f46508>,\n",
       "  86: <BlackScholesMerton.BlackScholesModel at 0x20c78f46ec8>,\n",
       "  87: <BlackScholesMerton.BlackScholesModel at 0x20c78f46488>,\n",
       "  88: <BlackScholesMerton.BlackScholesModel at 0x20c78f46988>,\n",
       "  89: <BlackScholesMerton.BlackScholesModel at 0x20c78f46608>,\n",
       "  90: <BlackScholesMerton.BlackScholesModel at 0x20c78f46fc8>,\n",
       "  91: <BlackScholesMerton.BlackScholesModel at 0x20c78f46b88>,\n",
       "  92: <BlackScholesMerton.BlackScholesModel at 0x20c78f46908>,\n",
       "  93: <BlackScholesMerton.BlackScholesModel at 0x20c78f463c8>},\n",
       " '2021-12-16': {0: <BlackScholesMerton.BlackScholesModel at 0x20c78f46788>,\n",
       "  1: <BlackScholesMerton.BlackScholesModel at 0x20c78f46c88>,\n",
       "  2: <BlackScholesMerton.BlackScholesModel at 0x20c78f46cc8>,\n",
       "  3: <BlackScholesMerton.BlackScholesModel at 0x20c78f46108>,\n",
       "  4: <BlackScholesMerton.BlackScholesModel at 0x20c78f46688>,\n",
       "  5: <BlackScholesMerton.BlackScholesModel at 0x20c78f468c8>,\n",
       "  6: <BlackScholesMerton.BlackScholesModel at 0x20c78f46a48>,\n",
       "  7: <BlackScholesMerton.BlackScholesModel at 0x20c78f46848>,\n",
       "  8: <BlackScholesMerton.BlackScholesModel at 0x20c78f46d48>,\n",
       "  9: <BlackScholesMerton.BlackScholesModel at 0x20c78f46648>,\n",
       "  10: <BlackScholesMerton.BlackScholesModel at 0x20c78f46e48>,\n",
       "  11: <BlackScholesMerton.BlackScholesModel at 0x20c78f46808>,\n",
       "  12: <BlackScholesMerton.BlackScholesModel at 0x20c78f46188>,\n",
       "  13: <BlackScholesMerton.BlackScholesModel at 0x20c78f46948>,\n",
       "  14: <BlackScholesMerton.BlackScholesModel at 0x20c793fa8c8>,\n",
       "  15: <BlackScholesMerton.BlackScholesModel at 0x20c793fae48>,\n",
       "  16: <BlackScholesMerton.BlackScholesModel at 0x20c793fa608>,\n",
       "  17: <BlackScholesMerton.BlackScholesModel at 0x20c793fab88>,\n",
       "  18: <BlackScholesMerton.BlackScholesModel at 0x20c793fa988>,\n",
       "  19: <BlackScholesMerton.BlackScholesModel at 0x20c793faa48>,\n",
       "  20: <BlackScholesMerton.BlackScholesModel at 0x20c793fa9c8>,\n",
       "  21: <BlackScholesMerton.BlackScholesModel at 0x20c793fab48>,\n",
       "  22: <BlackScholesMerton.BlackScholesModel at 0x20c793faf08>,\n",
       "  23: <BlackScholesMerton.BlackScholesModel at 0x20c793faec8>,\n",
       "  24: <BlackScholesMerton.BlackScholesModel at 0x20c793fa5c8>,\n",
       "  25: <BlackScholesMerton.BlackScholesModel at 0x20c793fae88>,\n",
       "  26: <BlackScholesMerton.BlackScholesModel at 0x20c793fae08>,\n",
       "  27: <BlackScholesMerton.BlackScholesModel at 0x20c793fa948>,\n",
       "  28: <BlackScholesMerton.BlackScholesModel at 0x20c793fa648>,\n",
       "  29: <BlackScholesMerton.BlackScholesModel at 0x20c793fafc8>,\n",
       "  30: <BlackScholesMerton.BlackScholesModel at 0x20c793faf88>,\n",
       "  31: <BlackScholesMerton.BlackScholesModel at 0x20c793fa448>,\n",
       "  32: <BlackScholesMerton.BlackScholesModel at 0x20c793fabc8>,\n",
       "  33: <BlackScholesMerton.BlackScholesModel at 0x20c793fa788>,\n",
       "  34: <BlackScholesMerton.BlackScholesModel at 0x20c793fa748>,\n",
       "  35: <BlackScholesMerton.BlackScholesModel at 0x20c793fa548>,\n",
       "  36: <BlackScholesMerton.BlackScholesModel at 0x20c793fac88>,\n",
       "  37: <BlackScholesMerton.BlackScholesModel at 0x20c793facc8>,\n",
       "  38: <BlackScholesMerton.BlackScholesModel at 0x20c793faa08>,\n",
       "  39: <BlackScholesMerton.BlackScholesModel at 0x20c793fa408>,\n",
       "  40: <BlackScholesMerton.BlackScholesModel at 0x20c793fa488>,\n",
       "  41: <BlackScholesMerton.BlackScholesModel at 0x20c793fa848>,\n",
       "  42: <BlackScholesMerton.BlackScholesModel at 0x20c793fa7c8>,\n",
       "  43: <BlackScholesMerton.BlackScholesModel at 0x20c793fad88>,\n",
       "  44: <BlackScholesMerton.BlackScholesModel at 0x20c793fa888>,\n",
       "  45: <BlackScholesMerton.BlackScholesModel at 0x20c793fa588>,\n",
       "  46: <BlackScholesMerton.BlackScholesModel at 0x20c793fa4c8>,\n",
       "  47: <BlackScholesMerton.BlackScholesModel at 0x20c793fa688>,\n",
       "  48: <BlackScholesMerton.BlackScholesModel at 0x20c793fa508>,\n",
       "  49: <BlackScholesMerton.BlackScholesModel at 0x20c793fa808>,\n",
       "  50: <BlackScholesMerton.BlackScholesModel at 0x20c793fac08>}}"
      ]
     },
     "execution_count": 56,
     "metadata": {},
     "output_type": "execute_result"
    }
   ],
   "source": [
    "BSM"
   ]
  },
  {
   "cell_type": "code",
   "execution_count": 57,
   "metadata": {},
   "outputs": [],
   "source": [
    "def minimize_expiration(expiration_dict):\n",
    "    strikeP = {}\n",
    "    x0 = 1\n",
    "    for i, bs in expiration_dict.items():\n",
    "        strikeP[i] = minimize(bs.difference,x0)['x']\n",
    "    return strikeP"
   ]
  },
  {
   "cell_type": "code",
   "execution_count": 58,
   "metadata": {},
   "outputs": [],
   "source": [
    "# N_JOBS = -1\n",
    "# implied_vol_list = Parallel(n_jobs=N_JOBS, verbose=1)(delayed(minimize_expiration)(BSM[expiration]) for expiration in expirations)\n",
    "\n",
    "# IV = {expiration: iv for expiration, iv in zip(expirations, implied_vol_list)}"
   ]
  },
  {
   "cell_type": "code",
   "execution_count": 59,
   "metadata": {},
   "outputs": [],
   "source": [
    "# implied_vol = {name:name for name in expirations}\n",
    "\n",
    "# x0 = 1\n",
    "\n",
    "# for i, a in enumerate(expirations):\n",
    "#     strikeP = {count:count for count in range(0,len(expirations))}\n",
    "#     for j in range(0,1):\n",
    "#         strikeP[j] = minimize(BSM[a][j].difference,x0)['x']\n",
    "#     implied_vol[a] = strikeP"
   ]
  },
  {
   "cell_type": "code",
   "execution_count": 60,
   "metadata": {},
   "outputs": [],
   "source": [
    "# implied_vol"
   ]
  },
  {
   "cell_type": "code",
   "execution_count": 61,
   "metadata": {},
   "outputs": [
    {
     "ename": "AttributeError",
     "evalue": "'dict' object has no attribute 'difference'",
     "output_type": "error",
     "traceback": [
      "\u001b[1;31m---------------------------------------------------------------------------\u001b[0m",
      "\u001b[1;31mAttributeError\u001b[0m                            Traceback (most recent call last)",
      "\u001b[1;32m<ipython-input-61-d7112798d236>\u001b[0m in \u001b[0;36m<module>\u001b[1;34m\u001b[0m\n\u001b[0;32m      2\u001b[0m     \u001b[1;32mfor\u001b[0m \u001b[0mj\u001b[0m \u001b[1;32min\u001b[0m \u001b[0mrange\u001b[0m\u001b[1;33m(\u001b[0m\u001b[1;36m0\u001b[0m\u001b[1;33m,\u001b[0m\u001b[0mlen\u001b[0m\u001b[1;33m(\u001b[0m\u001b[0mBSM\u001b[0m\u001b[1;33m[\u001b[0m\u001b[0ma\u001b[0m\u001b[1;33m]\u001b[0m\u001b[1;33m)\u001b[0m\u001b[1;33m)\u001b[0m\u001b[1;33m:\u001b[0m\u001b[1;33m\u001b[0m\u001b[1;33m\u001b[0m\u001b[0m\n\u001b[0;32m      3\u001b[0m         \u001b[0mx0\u001b[0m \u001b[1;33m=\u001b[0m \u001b[1;36m1\u001b[0m\u001b[1;33m\u001b[0m\u001b[1;33m\u001b[0m\u001b[0m\n\u001b[1;32m----> 4\u001b[1;33m         \u001b[0mminimize\u001b[0m\u001b[1;33m(\u001b[0m\u001b[0mBSM\u001b[0m\u001b[1;33m[\u001b[0m\u001b[0ma\u001b[0m\u001b[1;33m]\u001b[0m\u001b[1;33m.\u001b[0m\u001b[0mdifference\u001b[0m\u001b[1;33m,\u001b[0m\u001b[0mx0\u001b[0m\u001b[1;33m)\u001b[0m\u001b[1;33m\u001b[0m\u001b[1;33m\u001b[0m\u001b[0m\n\u001b[0m",
      "\u001b[1;31mAttributeError\u001b[0m: 'dict' object has no attribute 'difference'"
     ]
    }
   ],
   "source": [
    "for i, a in enumerate(expirations):\n",
    "    for j in range(0,len(BSM[a])):\n",
    "        x0 = 1\n",
    "        minimize(BSM[a].difference,x0)"
   ]
  },
  {
   "cell_type": "code",
   "execution_count": null,
   "metadata": {},
   "outputs": [],
   "source": [
    "bsm = BlackScholesModel(datetime.strptime(expirations[1],\"%Y-%m-%d\"),today,stock_price,strike['2021-12-16'][3],\\\n",
    "                        premium=call_premium['2021-12-16'][3])"
   ]
  },
  {
   "cell_type": "code",
   "execution_count": null,
   "metadata": {},
   "outputs": [],
   "source": [
    "x0 = 1\n",
    "minimize(bsm.difference,x0)"
   ]
  },
  {
   "cell_type": "code",
   "execution_count": null,
   "metadata": {},
   "outputs": [],
   "source": [
    "price = 3271.12\n",
    "strike = 1000\n",
    "Risk_free = 0.0011\n",
    "time_to_maturity = 1.356164383561644\n",
    "Call_premium = 3006.29"
   ]
  },
  {
   "cell_type": "code",
   "execution_count": null,
   "metadata": {},
   "outputs": [],
   "source": [
    "def Norm_d1(S, K, r, t, sigma):\n",
    "    d1 = (np.log(S/K)+(r+((np.power(sigma,2)/2))*t))/(sigma*math.sqrt(t))\n",
    "    N_d1 = st.norm.cdf(d1)\n",
    "    return (d1, N_d1)\n",
    "\n",
    "def Norm_d2(d1, sigma, t):\n",
    "    d2 = d1 - sigma*math.sqrt(t)\n",
    "    N_d2 = st.norm.cdf(d2)\n",
    "    return N_d2\n",
    "\n",
    "def Call_price(S, K, r, t, sigma):\n",
    "    d1, N_d1 = Norm_d1(S, K, r, t, sigma)\n",
    "    N_d2 = Norm_d2(d1, sigma, t)\n",
    "    C = S*N_d1-K*math.exp(-r*t)*N_d2\n",
    "    return C\n",
    "\n",
    "def difference(sigma):\n",
    "    d1, N_d1 = Norm_d1(price, strike, Risk_free, time_to_maturity, sigma)\n",
    "    N_d2 = Norm_d2(d1, sigma, time_to_maturity)\n",
    "    C = price*N_d1-strike*math.exp(-Risk_free*time_to_maturity)*N_d2\n",
    "    return (Call_premium - C)**2"
   ]
  },
  {
   "cell_type": "code",
   "execution_count": null,
   "metadata": {},
   "outputs": [],
   "source": [
    "x0 = [2]\n",
    "minimize(difference, x0)"
   ]
  },
  {
   "cell_type": "code",
   "execution_count": null,
   "metadata": {},
   "outputs": [],
   "source": []
  }
 ],
 "metadata": {
  "kernelspec": {
   "display_name": "Python 3",
   "language": "python",
   "name": "python3"
  },
  "language_info": {
   "codemirror_mode": {
    "name": "ipython",
    "version": 3
   },
   "file_extension": ".py",
   "mimetype": "text/x-python",
   "name": "python",
   "nbconvert_exporter": "python",
   "pygments_lexer": "ipython3",
   "version": "3.7.6"
  }
 },
 "nbformat": 4,
 "nbformat_minor": 4
}
