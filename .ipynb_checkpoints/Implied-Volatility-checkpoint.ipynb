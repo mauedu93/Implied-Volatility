{
 "cells": [
  {
   "cell_type": "code",
   "execution_count": 1,
   "metadata": {},
   "outputs": [],
   "source": [
    "import yfinance as yf\n",
    "from datetime import datetime\n",
    "import quandl\n",
    "import stockquotes\n",
    "import numpy as np\n",
    "import scipy.stats as st \n",
    "import pandas as pd \n",
    "import matplotlib.pyplot as plt\n",
    "import math\n",
    "\n",
    "%matplotlib inline"
   ]
  },
  {
   "cell_type": "code",
   "execution_count": 2,
   "metadata": {},
   "outputs": [],
   "source": [
    "def Spot(ticker):\n",
    "    '''\n",
    "    Takes a ticker symbol and returns the last price of the asset.\n",
    "    \n",
    "    Arguments:\n",
    "    ticker -- String that represents the ticker symbol of the underlying asset. Refer to Yahoo Finance website to find the \n",
    "              symbol\n",
    "              \n",
    "    Returns:\n",
    "    S -- Spot price of the asset\n",
    "    '''\n",
    "    \n",
    "    security = stockquotes.Stock(ticker)\n",
    "    S = security.current_price\n",
    "\n",
    "    return S    "
   ]
  },
  {
   "cell_type": "code",
   "execution_count": 3,
   "metadata": {},
   "outputs": [
    {
     "name": "stdout",
     "output_type": "stream",
     "text": [
      "S&P500 last price was $3663.46, thus we will look for strike price in the range of $3363 - $3963\n"
     ]
    }
   ],
   "source": [
    "S = Spot(\"^GSPC\")\n",
    "print(f'S&P500 last price was ${S}, thus we will look for strike price in the range of ${round(S-300)} - ${round(S+300)}')"
   ]
  },
  {
   "cell_type": "code",
   "execution_count": 4,
   "metadata": {},
   "outputs": [],
   "source": [
    "def call_data(ticker,expiration):\n",
    "    '''\n",
    "    Extracts the strike price and call premium of an option given the ticker symbol of the underlying asset and \n",
    "    the expiration date. Returns a list of strike price and call premium.\n",
    "    \n",
    "    Arguments:\n",
    "    ticker -- String that represents the ticker symbol of the underlying asset. Refer to Yahoo Finance website to find the \n",
    "              symbol\n",
    "              \n",
    "    expiration -- String date in format 'YYYY-MM-DD'. Refer to Yahoo Finance to check list of available expirations for \n",
    "                  the underlying asset\n",
    "                  \n",
    "    Returns:\n",
    "    data -- list containig pairs of strike price and call premiums available for the underlying in the expiration selected\n",
    "    '''\n",
    "    \n",
    "    security = yf.Ticker(ticker)\n",
    "    \n",
    "    if expiration not in security.options:                       #Assertion to verify that expiration exists\n",
    "        print('Option expiration not available, please verify')\n",
    "        return\n",
    "        \n",
    "    options = security.option_chain(expiration)\n",
    "    calls = options.calls\n",
    "    strike_price = calls['strike']\n",
    "    call_premium = calls['lastPrice']\n",
    "    \n",
    "    data = list(zip(strike_price, call_premium))\n",
    "    data = np.array(data)\n",
    "\n",
    "    \n",
    "    return data"
   ]
  },
  {
   "cell_type": "code",
   "execution_count": 5,
   "metadata": {},
   "outputs": [
    {
     "data": {
      "text/plain": [
       "array([[ 900.  , 2755.29],\n",
       "       [1000.  , 2656.54],\n",
       "       [1225.  , 1956.5 ],\n",
       "       [1300.  , 2039.26],\n",
       "       [1375.  , 2143.78],\n",
       "       [1400.  , 2119.6 ],\n",
       "       [1500.  , 2160.15],\n",
       "       [1525.  , 1425.66],\n",
       "       [1550.  , 1201.5 ],\n",
       "       [1600.  , 1600.8 ],\n",
       "       [1625.  , 1375.  ],\n",
       "       [1650.  , 1054.5 ],\n",
       "       [1800.  , 1243.1 ],\n",
       "       [1825.  , 1466.  ],\n",
       "       [1900.  , 1361.4 ],\n",
       "       [2000.  , 1638.  ],\n",
       "       [2175.  ,  779.5 ],\n",
       "       [2200.  , 1166.64],\n",
       "       [2250.  , 1311.3 ],\n",
       "       [2300.  , 1321.8 ],\n",
       "       [2350.  ,  834.  ],\n",
       "       [2400.  , 1007.  ],\n",
       "       [2425.  ,  760.89],\n",
       "       [2475.  , 1074.55],\n",
       "       [2500.  , 1205.23],\n",
       "       [2525.  ,  575.4 ],\n",
       "       [2550.  ,  877.68],\n",
       "       [2575.  ,  895.15],\n",
       "       [2600.  , 1043.62],\n",
       "       [2625.  ,  920.  ],\n",
       "       [2650.  ,  909.5 ],\n",
       "       [2675.  ,  564.9 ],\n",
       "       [2700.  ,  960.  ],\n",
       "       [2725.  ,  756.5 ],\n",
       "       [2750.  ,  966.06],\n",
       "       [2775.  ,  371.06],\n",
       "       [2800.  ,  945.42],\n",
       "       [2825.  ,  814.86],\n",
       "       [2850.  ,  851.1 ],\n",
       "       [2900.  ,  813.82],\n",
       "       [2925.  ,  629.  ],\n",
       "       [2950.  ,  797.  ],\n",
       "       [3000.  ,  756.39],\n",
       "       [3100.  ,  670.9 ],\n",
       "       [3200.  ,  622.93],\n",
       "       [3300.  ,  550.  ],\n",
       "       [3400.  ,  480.  ],\n",
       "       [3500.  ,  386.35],\n",
       "       [3600.  ,  322.96],\n",
       "       [3900.  ,  158.66],\n",
       "       [4000.  ,  115.  ]])"
      ]
     },
     "execution_count": 5,
     "metadata": {},
     "output_type": "execute_result"
    }
   ],
   "source": [
    "call_data('^GSPC','2021-12-16')"
   ]
  },
  {
   "cell_type": "code",
   "execution_count": 6,
   "metadata": {},
   "outputs": [],
   "source": [
    "def Risk_free(ttm):\n",
    "    '''\n",
    "    Extracts the most recent US treasury rate given the time to maturity.\n",
    "    \n",
    "    Arguments:\n",
    "    ttm -- Time to maturity in string format. The available options are:\n",
    "           ['1 MO', '2 MO', '3 MO', '6 MO', '1 YR', '2 YR', '3 YR', '5 YR', '7 YR', '10 YR', '20 YR', '30 YR']\n",
    "    \n",
    "    Returns:\n",
    "    rf -- Most recent risk free rate for the time to maturity selected\n",
    "    '''\n",
    "    yield_curve = quandl.get('USTREASURY/YIELD', authtoken='JMxryiBcRV26o9r5q7uv')\n",
    "    rf = yield_curve[ttm][-1]/100\n",
    "    \n",
    "    return rf    "
   ]
  },
  {
   "cell_type": "code",
   "execution_count": 7,
   "metadata": {},
   "outputs": [
    {
     "data": {
      "text/plain": [
       "0.001"
      ]
     },
     "execution_count": 7,
     "metadata": {},
     "output_type": "execute_result"
    }
   ],
   "source": [
    "Risk_free('1 YR')"
   ]
  },
  {
   "cell_type": "code",
   "execution_count": 8,
   "metadata": {},
   "outputs": [],
   "source": [
    "def Time_to_maturity(expiration):\n",
    "    '''\n",
    "    Calculates the time to maturity in years from today to the option expiration.\n",
    "    \n",
    "    Arguments:\n",
    "    expiration -- String date in format 'YYYY-MM-DD'. Refer to Yahoo Finance to check list of available expirations for \n",
    "                  the underlying asset\n",
    "                  \n",
    "    Returns:\n",
    "    ttm -- Time to maturity in year in float format\n",
    "    '''\n",
    "    \n",
    "    today = datetime.now()\n",
    "    expiration_d = datetime.strptime(expiration,'%Y-%m-%d')\n",
    "    datetime_delta = (expiration_d - today).days\n",
    "    ttm = datetime_delta/365\n",
    "    \n",
    "    return ttm\n",
    "    "
   ]
  },
  {
   "cell_type": "code",
   "execution_count": 9,
   "metadata": {},
   "outputs": [
    {
     "data": {
      "text/plain": [
       "1.0054794520547945"
      ]
     },
     "execution_count": 9,
     "metadata": {},
     "output_type": "execute_result"
    }
   ],
   "source": [
    "Time_to_maturity('2021-12-16')"
   ]
  },
  {
   "cell_type": "code",
   "execution_count": 10,
   "metadata": {},
   "outputs": [],
   "source": [
    "def Norm_d1(ticker, expiration, ttm, sigma = 0.1):\n",
    "    \n",
    "    '''\n",
    "    Calculates the expected value of the stock if the option is exercised using risk-adjusted probabilities.\n",
    "    \n",
    "    Arguments:\n",
    "    ticker -- String that represents the ticker symbol of the underlying asset. Refer to Yahoo Finance website to find the \n",
    "              symbol\n",
    "              \n",
    "    expiration -- String date in format 'YYYY-MM-DD'. Refer to Yahoo Finance to check list of available expirations for \n",
    "                  the underlying asset  \n",
    "                  \n",
    "    ttm -- Time to maturity in string format. The available options are:\n",
    "           ['1 MO', '2 MO', '3 MO', '6 MO', '1 YR', '2 YR', '3 YR', '5 YR', '7 YR', '10 YR', '20 YR', '30 YR']\n",
    "    \n",
    "    sigma -- implied volatility. Default value to 0.1\n",
    "    \n",
    "    Returns:\n",
    "    N_d1 -- Array of probability to receive the stock given that the stock price is higher than the strike price at \n",
    "    expiration\n",
    "    \n",
    "    cache -- cache of values needed for Norm_d2() function\n",
    "\n",
    "    '''\n",
    "    \n",
    "    S = Spot(ticker)\n",
    "    \n",
    "    data = call_data(ticker,expiration)\n",
    "    \n",
    "    K, call_premium = list(zip(*data))\n",
    "    call_premium = np.array(call_premium)\n",
    "    \n",
    "    S = np.array(S)\n",
    "    K = np.array(K)\n",
    "    \n",
    "    r = Risk_free(ttm)\n",
    "    \n",
    "    T = Time_to_maturity(expiration)\n",
    "    \n",
    "    \n",
    "    d1 = (np.log(np.divide(S,K))+(r+((np.power(sigma,2)/2))*T))/(sigma*np.sqrt(T))\n",
    "    N_d1 = st.norm.cdf(d1)\n",
    "    \n",
    "    cache = (d1, T, r, S, K, sigma, call_premium)\n",
    "    \n",
    "    return N_d1, cache"
   ]
  },
  {
   "cell_type": "code",
   "execution_count": 11,
   "metadata": {},
   "outputs": [
    {
     "data": {
      "text/plain": [
       "(array([1.        , 1.        , 1.        , 1.        , 1.        ,\n",
       "        1.        , 1.        , 1.        , 1.        , 1.        ,\n",
       "        1.        , 1.        , 1.        , 1.        , 1.        ,\n",
       "        1.        , 0.99999993, 0.99999987, 0.99999957, 0.99999871,\n",
       "        0.9999964 , 0.99999057, 0.99998508, 0.99996423, 0.99994577,\n",
       "        0.99991891, 0.99988031, 0.9998256 , 0.99974903, 0.99964318,\n",
       "        0.99949863, 0.99930355, 0.99904327, 0.9986999 , 0.99825184,\n",
       "        0.99767336, 0.99693422, 0.99599935, 0.99482855, 0.991592  ,\n",
       "        0.9894196 , 0.98679836, 0.97994507, 0.9577914 , 0.92058115,\n",
       "        0.86479405, 0.78941682, 0.69683352, 0.592653  , 0.28642189,\n",
       "        0.20714841]),\n",
       " (array([14.05949315, 13.00876278, 10.98489161, 10.39227879,  9.83291453,\n",
       "          9.65322112,  8.96517488,  8.80033287,  8.63817133,  8.32155062,\n",
       "          8.16693179,  8.01467364,  7.14693399,  7.00937712,  6.60773701,\n",
       "          6.09620362,  5.2596775 ,  5.14570237,  4.92158699,  4.70239762,\n",
       "          4.48792237,  4.27796273,  4.17461761,  3.97108575,  3.87085662,\n",
       "          3.7716248 ,  3.67337066,  3.57607511,  3.47971963,  3.38428622,\n",
       "          3.28975741,  3.19611621,  3.1033461 ,  3.01143103,  2.92035537,\n",
       "          2.83010394,  2.74066196,  2.65201502,  2.56414912,  2.39070623,\n",
       "          2.305103  ,  2.22022832,  2.05261572,  1.72561217,  1.40899146,\n",
       "          1.10211448,  0.80439939,  0.51531495,  0.23437483, -0.56386826,\n",
       "         -0.81635554]),\n",
       "  1.0054794520547945,\n",
       "  0.001,\n",
       "  array(3663.46),\n",
       "  array([ 900., 1000., 1225., 1300., 1375., 1400., 1500., 1525., 1550.,\n",
       "         1600., 1625., 1650., 1800., 1825., 1900., 2000., 2175., 2200.,\n",
       "         2250., 2300., 2350., 2400., 2425., 2475., 2500., 2525., 2550.,\n",
       "         2575., 2600., 2625., 2650., 2675., 2700., 2725., 2750., 2775.,\n",
       "         2800., 2825., 2850., 2900., 2925., 2950., 3000., 3100., 3200.,\n",
       "         3300., 3400., 3500., 3600., 3900., 4000.]),\n",
       "  0.1,\n",
       "  array([2755.29, 2656.54, 1956.5 , 2039.26, 2143.78, 2119.6 , 2160.15,\n",
       "         1425.66, 1201.5 , 1600.8 , 1375.  , 1054.5 , 1243.1 , 1466.  ,\n",
       "         1361.4 , 1638.  ,  779.5 , 1166.64, 1311.3 , 1321.8 ,  834.  ,\n",
       "         1007.  ,  760.89, 1074.55, 1205.23,  575.4 ,  877.68,  895.15,\n",
       "         1043.62,  920.  ,  909.5 ,  564.9 ,  960.  ,  756.5 ,  966.06,\n",
       "          371.06,  945.42,  814.86,  851.1 ,  813.82,  629.  ,  797.  ,\n",
       "          756.39,  670.9 ,  622.93,  550.  ,  480.  ,  386.35,  322.96,\n",
       "          158.66,  115.  ])))"
      ]
     },
     "execution_count": 11,
     "metadata": {},
     "output_type": "execute_result"
    }
   ],
   "source": [
    "Norm_d1('^GSPC','2021-12-16','1 YR')"
   ]
  },
  {
   "cell_type": "code",
   "execution_count": 12,
   "metadata": {},
   "outputs": [],
   "source": [
    "def Norm_d2(ticker, expiration, ttm, sigma = 0.1):\n",
    "    '''\n",
    "    Calculates the probability that the option will be exercised based on risk-adjusted probabilities.\n",
    "    \n",
    "    Arguments:\n",
    "    ticker -- String that represents the ticker symbol of the underlying asset. Refer to Yahoo Finance website to find the \n",
    "              symbol\n",
    "              \n",
    "    expiration -- String date in format 'YYYY-MM-DD'. Refer to Yahoo Finance to check list of available expirations for \n",
    "                  the underlying asset  \n",
    "                  \n",
    "    ttm -- Time to maturity in string format. The available options are:\n",
    "           ['1 MO', '2 MO', '3 MO', '6 MO', '1 YR', '2 YR', '3 YR', '5 YR', '7 YR', '10 YR', '20 YR', '30 YR']\n",
    "    \n",
    "    sigma -- implied volatility. Default value to 0.1\n",
    "    \n",
    "    Returns:\n",
    "    N_d2 -- Array of probabilities that the option will end up in-the-money thus excercised for each strike price\n",
    "    \n",
    "    cache -- Cache of values needed for Call_price() function\n",
    "\n",
    "    '''\n",
    "    \n",
    "    N_d1, cache = Norm_d1(ticker, expiration, ttm, sigma)\n",
    "    \n",
    "    d1, T, r, S, K, sigma, call_premium = cache\n",
    "    \n",
    "    d2 = np.subtract(d1,sigma*np.sqrt(T))\n",
    "    N_d2 = st.norm.cdf(d2)\n",
    "    \n",
    "    cache = (N_d1, S, K, r, T, call_premium)\n",
    "    \n",
    "    return N_d2, cache"
   ]
  },
  {
   "cell_type": "code",
   "execution_count": 13,
   "metadata": {},
   "outputs": [
    {
     "data": {
      "text/plain": [
       "(array([1.        , 1.        , 1.        , 1.        , 1.        ,\n",
       "        1.        , 1.        , 1.        , 1.        , 1.        ,\n",
       "        1.        , 1.        , 1.        , 1.        , 1.        ,\n",
       "        1.        , 0.99999988, 0.99999977, 0.99999929, 0.99999791,\n",
       "        0.99999427, 0.99998528, 0.99997693, 0.99994576, 0.99991857,\n",
       "        0.99987936, 0.99982361, 0.99974534, 0.99963684, 0.9994883 ,\n",
       "        0.99928736, 0.99901873, 0.99866366, 0.99819954, 0.99759943,\n",
       "        0.99683165, 0.99585945, 0.9946407 , 0.99312781, 0.98900188,\n",
       "        0.98626697, 0.98299507, 0.9745512 , 0.94795478, 0.90468503,\n",
       "        0.84178978, 0.75932278, 0.66094419, 0.55333874, 0.25329976,\n",
       "        0.1796685 ]),\n",
       " (array([1.        , 1.        , 1.        , 1.        , 1.        ,\n",
       "         1.        , 1.        , 1.        , 1.        , 1.        ,\n",
       "         1.        , 1.        , 1.        , 1.        , 1.        ,\n",
       "         1.        , 0.99999993, 0.99999987, 0.99999957, 0.99999871,\n",
       "         0.9999964 , 0.99999057, 0.99998508, 0.99996423, 0.99994577,\n",
       "         0.99991891, 0.99988031, 0.9998256 , 0.99974903, 0.99964318,\n",
       "         0.99949863, 0.99930355, 0.99904327, 0.9986999 , 0.99825184,\n",
       "         0.99767336, 0.99693422, 0.99599935, 0.99482855, 0.991592  ,\n",
       "         0.9894196 , 0.98679836, 0.97994507, 0.9577914 , 0.92058115,\n",
       "         0.86479405, 0.78941682, 0.69683352, 0.592653  , 0.28642189,\n",
       "         0.20714841]),\n",
       "  array(3663.46),\n",
       "  array([ 900., 1000., 1225., 1300., 1375., 1400., 1500., 1525., 1550.,\n",
       "         1600., 1625., 1650., 1800., 1825., 1900., 2000., 2175., 2200.,\n",
       "         2250., 2300., 2350., 2400., 2425., 2475., 2500., 2525., 2550.,\n",
       "         2575., 2600., 2625., 2650., 2675., 2700., 2725., 2750., 2775.,\n",
       "         2800., 2825., 2850., 2900., 2925., 2950., 3000., 3100., 3200.,\n",
       "         3300., 3400., 3500., 3600., 3900., 4000.]),\n",
       "  0.001,\n",
       "  1.0054794520547945,\n",
       "  array([2755.29, 2656.54, 1956.5 , 2039.26, 2143.78, 2119.6 , 2160.15,\n",
       "         1425.66, 1201.5 , 1600.8 , 1375.  , 1054.5 , 1243.1 , 1466.  ,\n",
       "         1361.4 , 1638.  ,  779.5 , 1166.64, 1311.3 , 1321.8 ,  834.  ,\n",
       "         1007.  ,  760.89, 1074.55, 1205.23,  575.4 ,  877.68,  895.15,\n",
       "         1043.62,  920.  ,  909.5 ,  564.9 ,  960.  ,  756.5 ,  966.06,\n",
       "          371.06,  945.42,  814.86,  851.1 ,  813.82,  629.  ,  797.  ,\n",
       "          756.39,  670.9 ,  622.93,  550.  ,  480.  ,  386.35,  322.96,\n",
       "          158.66,  115.  ])))"
      ]
     },
     "execution_count": 13,
     "metadata": {},
     "output_type": "execute_result"
    }
   ],
   "source": [
    "Norm_d2('^GSPC','2021-12-16','1 YR')"
   ]
  },
  {
   "cell_type": "code",
   "execution_count": 14,
   "metadata": {},
   "outputs": [],
   "source": [
    "def Call_price(ticker, expiration, ttm, sigma = 0.1):\n",
    "    \n",
    "    '''\n",
    "    Call culates the call price of an option from an underlying asset that doesn't pay dividends using the Black-Scholes\n",
    "    model\n",
    "    \n",
    "    Arguments:\n",
    "    ticker -- String that represents the ticker symbol of the underlying asset. Refer to Yahoo Finance website to find the \n",
    "              symbol\n",
    "              \n",
    "    expiration -- String date in format 'YYYY-MM-DD'. Refer to Yahoo Finance to check list of available expirations for \n",
    "                  the underlying asset  \n",
    "                  \n",
    "    ttm -- Time to maturity in string format. The available options are:\n",
    "           ['1 MO', '2 MO', '3 MO', '6 MO', '1 YR', '2 YR', '3 YR', '5 YR', '7 YR', '10 YR', '20 YR', '30 YR']\n",
    "    \n",
    "    sigma -- implied volatility. Default value to 0.1\n",
    "    \n",
    "    Returns:\n",
    "    C -- Array of calculated call price using the Black-Scholes formula for each strike price\n",
    "    \n",
    "    call_premium -- Array of market price of a call option for each strike price\n",
    "\n",
    "    '''\n",
    "    \n",
    "    N_d2, cache = Norm_d2(ticker, expiration, ttm, sigma)\n",
    "    \n",
    "    N_d1, S, K, r, T, call_premium = cache\n",
    "    \n",
    "    C = np.subtract(np.multiply(S,N_d1),np.multiply(K,np.multiply(np.exp(-r*T),N_d2)))\n",
    "    \n",
    "    call_premium = np.array(call_premium)\n",
    "    \n",
    "    return C, call_premium"
   ]
  },
  {
   "cell_type": "code",
   "execution_count": 15,
   "metadata": {},
   "outputs": [
    {
     "data": {
      "text/plain": [
       "(array([2764.36447671, 2664.46497413, 2439.69109331, 2364.76646637,\n",
       "        2289.84183942, 2264.86696378, 2164.96746119, 2139.99258554,\n",
       "        2115.0177099 , 2065.0679586 , 2040.09308296, 2015.11820731,\n",
       "        1865.26895343, 1840.29407778, 1765.36945084, 1665.46994829,\n",
       "        1490.64582354, 1465.67095214, 1415.72122215, 1365.77153518,\n",
       "        1315.82196512, 1265.87269213, 1240.89828115, 1190.95035922,\n",
       "        1165.97715632, 1141.00477422, 1116.03356686, 1091.06401876,\n",
       "        1066.09678438, 1041.13273625, 1016.17302278,  991.21913678,\n",
       "         966.27299515,  941.33703003,  916.41429142,  891.50856044,\n",
       "         866.62447218,  841.76764608,  816.9448216 ,  767.43455842,\n",
       "         742.76742259,  718.17514191,  669.27415875,  573.12392121,\n",
       "         480.42952651,  393.02386583,  312.89404178,  241.84190572,\n",
       "         181.14303868,   62.41887547,   40.92813778]),\n",
       " array([2755.29, 2656.54, 1956.5 , 2039.26, 2143.78, 2119.6 , 2160.15,\n",
       "        1425.66, 1201.5 , 1600.8 , 1375.  , 1054.5 , 1243.1 , 1466.  ,\n",
       "        1361.4 , 1638.  ,  779.5 , 1166.64, 1311.3 , 1321.8 ,  834.  ,\n",
       "        1007.  ,  760.89, 1074.55, 1205.23,  575.4 ,  877.68,  895.15,\n",
       "        1043.62,  920.  ,  909.5 ,  564.9 ,  960.  ,  756.5 ,  966.06,\n",
       "         371.06,  945.42,  814.86,  851.1 ,  813.82,  629.  ,  797.  ,\n",
       "         756.39,  670.9 ,  622.93,  550.  ,  480.  ,  386.35,  322.96,\n",
       "         158.66,  115.  ]))"
      ]
     },
     "execution_count": 15,
     "metadata": {},
     "output_type": "execute_result"
    }
   ],
   "source": [
    "Call_price('^GSPC','2021-12-16','1 YR')"
   ]
  },
  {
   "cell_type": "code",
   "execution_count": 16,
   "metadata": {},
   "outputs": [],
   "source": [
    "def difference(ticker, expiration, ttm, sigma = 0.1):\n",
    "    '''\n",
    "    Implements the difference between the call price calculated by the Black-Scholes model and the market call price for\n",
    "    each strike price\n",
    "    \n",
    "    Arguments:\n",
    "    ticker -- String that represents the ticker symbol of the underlying asset. Refer to Yahoo Finance website to find the \n",
    "              symbol\n",
    "              \n",
    "    expiration -- String date in format 'YYYY-MM-DD'. Refer to Yahoo Finance to check list of available expirations for \n",
    "                  the underlying asset  \n",
    "                  \n",
    "    ttm -- Time to maturity in string format. The available options are:\n",
    "           ['1 MO', '2 MO', '3 MO', '6 MO', '1 YR', '2 YR', '3 YR', '5 YR', '7 YR', '10 YR', '20 YR', '30 YR']\n",
    "    \n",
    "    sigma -- implied volatility. Default value to 0.1\n",
    "\n",
    "    Returns:\n",
    "    difference -- Array of differences between Black-Scholes call price and market call price for each strike price\n",
    "    '''\n",
    "    \n",
    "    B_S, call_premium = Call_price(ticker, expiration, ttm, sigma)\n",
    "    \n",
    "    difference = np.subtract(B_S, call_premium)\n",
    "    \n",
    "    return difference"
   ]
  },
  {
   "cell_type": "code",
   "execution_count": 17,
   "metadata": {},
   "outputs": [],
   "source": [
    "def vega(ticker, expiration, ttm, sigma=0.1):\n",
    "    S = Spot(ticker)\n",
    "    \n",
    "    T = Time_to_maturity(expiration)\n",
    "    \n",
    "    N_d1, cache = Norm_d1(ticker, expiration, ttm, sigma)\n",
    "    d1, T, r, S, K, sigma, call_premium = cache\n",
    "    \n",
    "    \n",
    "    v = -S*np.sqrt(T)*st.norm.pdf(d1)\n",
    "    \n",
    "    return v, sigma\n",
    "    "
   ]
  },
  {
   "cell_type": "code",
   "execution_count": 18,
   "metadata": {},
   "outputs": [
    {
     "data": {
      "text/plain": [
       "(array([-1.74837524e-40, -2.62189077e-34, -9.18964583e-24, -5.17849669e-21,\n",
       "        -1.48198828e-18, -8.53478161e-18, -5.16318220e-15, -2.23271659e-14,\n",
       "        -9.18109402e-14, -1.34564819e-12, -4.81430050e-12, -1.65019966e-11,\n",
       "        -1.18685274e-08, -3.14229667e-08, -4.84021180e-07, -1.24736490e-05,\n",
       "        -1.44139102e-03, -2.60800580e-03, -8.05830367e-03, -2.31371749e-02,\n",
       "        -6.19909696e-02, -1.55590847e-01, -2.40807113e-01, -5.51670703e-01,\n",
       "        -8.17251482e-01, -1.19408502e+00, -1.72138817e+00, -2.44929555e+00,\n",
       "        -3.44089876e+00, -4.77436238e+00, -6.54502445e+00, -8.86736460e+00,\n",
       "        -1.18767005e+01, -1.57304549e+01, -2.06088232e+01, -2.67146708e+01,\n",
       "        -3.42724927e+01, -4.35262942e+01, -5.47362771e+01, -8.41178598e+01,\n",
       "        -1.02843367e+02, -1.24617637e+02, -1.78277512e+02, -3.30659242e+02,\n",
       "        -5.43119074e+02, -7.98415297e+02, -1.06042798e+03, -1.28328990e+03,\n",
       "        -1.42580418e+03, -1.25010564e+03, -1.05020311e+03]),\n",
       " 0.1)"
      ]
     },
     "execution_count": 18,
     "metadata": {},
     "output_type": "execute_result"
    }
   ],
   "source": [
    "vega('^GSPC','2021-12-16','1 YR')"
   ]
  },
  {
   "cell_type": "code",
   "execution_count": 19,
   "metadata": {},
   "outputs": [],
   "source": [
    "def vega(ticker, expiration, ttm, sigma = 0.1):\n",
    "    S = Spot(ticker)\n",
    "    print('S =',S)\n",
    "    \n",
    "    T = Time_to_maturity(expiration)\n",
    "    print('T =',T)\n",
    "    \n",
    "    data = call_data(ticker, expiration)\n",
    "    K, call_premium = list(zip(*data))\n",
    "    K = np.array(K)\n",
    "    print('K =',K[0])\n",
    "    \n",
    "    r = Risk_free(ttm)\n",
    "    print('r =',r)\n",
    "    \n",
    "    A = np.log(S/K) + (r + (sigma**2/2))*T\n",
    "    print('A =',A)\n",
    "    \n",
    "    B = A**2/(2*sigma**2*T)\n",
    "    print('B =',B)\n",
    "    \n",
    "    \n",
    "    v = S * (np.sqrt(T/(2*math.pi))) * np.exp(-(np.log(S/K) + (r+sigma**2/2)*T)**2/(2*sigma**2*T))\n",
    "    \n",
    "    return v"
   ]
  },
  {
   "cell_type": "code",
   "execution_count": 20,
   "metadata": {},
   "outputs": [
    {
     "name": "stdout",
     "output_type": "stream",
     "text": [
      "S = 3663.46\n",
      "T = 1.0054794520547945\n",
      "K = 900.0\n",
      "r = 0.001\n",
      "A = [ 1.40980145  1.30444093  1.10150009  1.04207667  0.9859872   0.9679687\n",
      "  0.89897582  0.88244652  0.866186    0.8344373   0.81893312  0.80366564\n",
      "  0.71665427  0.70286095  0.66258705  0.61129375  0.52741227  0.51598357\n",
      "  0.49351072  0.47153181  0.4500256   0.4289722   0.41860941  0.39820054\n",
      "  0.3881502   0.37819987  0.36834757  0.3585914   0.34892949  0.33936004\n",
      "  0.32988129  0.32049155  0.31118916  0.3019725   0.29284002  0.28379019\n",
      "  0.27482152  0.26593257  0.25712194  0.2397302   0.23114645  0.22263576\n",
      "  0.20582864  0.17303882  0.14129012  0.11051846  0.0806655   0.05167796\n",
      "  0.02350709 -0.05653562 -0.08185343]\n",
      "B = [9.88354421e+01 8.46146653e+01 6.03345222e+01 5.40002971e+01\n",
      " 4.83436414e+01 4.65928665e+01 4.01876703e+01 3.87234102e+01\n",
      " 3.73094740e+01 3.46245571e+01 3.33498337e+01 3.21179348e+01\n",
      " 2.55397233e+01 2.45660669e+01 2.18314553e+01 1.85821824e+01\n",
      " 1.38323911e+01 1.32394076e+01 1.21112782e+01 1.10565287e+01\n",
      " 1.00709688e+01 9.15071631e+00 8.71394420e+00 7.88497801e+00\n",
      " 7.49197699e+00 7.11278293e+00 6.74702674e+00 6.39435201e+00\n",
      " 6.05441450e+00 5.72688155e+00 5.41143168e+00 5.10775406e+00\n",
      " 4.81554809e+00 4.53452298e+00 4.26439734e+00 4.00489882e+00\n",
      " 3.75576374e+00 3.51673675e+00 3.28757048e+00 2.85786878e+00\n",
      " 2.65687589e+00 2.46482823e+00 2.10672782e+00 1.48896298e+00\n",
      " 9.92705460e-01 6.07388392e-01 3.23573150e-01 1.32802912e-01\n",
      " 2.74785900e-02 1.58942899e-01 3.33173578e-01]\n"
     ]
    },
    {
     "data": {
      "text/plain": [
       "array([1.74703251e-40, 2.62002762e-34, 9.18413121e-24, 5.17555672e-21,\n",
       "       1.48119219e-18, 8.53028068e-18, 5.16065336e-15, 2.23164314e-14,\n",
       "       9.17676125e-14, 1.34503642e-12, 4.81215244e-12, 1.64947709e-11,\n",
       "       1.18638931e-08, 3.14109331e-08, 4.83846440e-07, 1.24694944e-05,\n",
       "       1.44097680e-03, 2.60727256e-03, 8.05613674e-03, 2.31312303e-02,\n",
       "       6.19757686e-02, 1.55554479e-01, 2.40752186e-01, 5.51551003e-01,\n",
       "       8.17078632e-01, 1.19383894e+00, 1.72104267e+00, 2.44881696e+00,\n",
       "       3.44024453e+00, 4.77347951e+00, 6.54384795e+00, 8.86581602e+00,\n",
       "       1.18746866e+01, 1.57278665e+01, 2.06055347e+01, 2.67105396e+01,\n",
       "       3.42673603e+01, 4.35199868e+01, 5.47286080e+01, 8.41068712e+01,\n",
       "       1.02830413e+02, 1.24602519e+02, 1.78257517e+02, 3.30628063e+02,\n",
       "       5.43077258e+02, 7.98367212e+02, 1.06038136e+03, 1.28325377e+03,\n",
       "       1.42578591e+03, 1.25014416e+03, 1.05024996e+03])"
      ]
     },
     "execution_count": 20,
     "metadata": {},
     "output_type": "execute_result"
    }
   ],
   "source": [
    "vega('^GSPC','2021-12-16','1 YR')"
   ]
  },
  {
   "cell_type": "code",
   "execution_count": 21,
   "metadata": {},
   "outputs": [],
   "source": [
    "import time"
   ]
  },
  {
   "cell_type": "code",
   "execution_count": 22,
   "metadata": {},
   "outputs": [],
   "source": [
    "def update_sigma(iterations, ticker, expiration, ttm, learning_rate=0.075):\n",
    "    \n",
    "    tic = time.time()\n",
    "    implied_vol = np.ones(51)\n",
    "    implied_vol = implied_vol*0.8\n",
    "    \n",
    "    \n",
    "    S = Spot(ticker)\n",
    "    \n",
    "    data = call_data(ticker,expiration)\n",
    "    \n",
    "    K, call_premium = list(zip(*data))\n",
    "    call_premium = np.array(call_premium)\n",
    "    \n",
    "    S = np.array(S)\n",
    "    K = np.array(K)\n",
    "    \n",
    "    r = Risk_free(ttm)\n",
    "    \n",
    "    T = Time_to_maturity(expiration)\n",
    "\n",
    "    for i in range(0,iterations):\n",
    "        if i%100 == 0:\n",
    "            print('iteration #',i)\n",
    "            print('implied vol beg:',implied_vol[0])\n",
    "\n",
    "        d1 = (np.log(np.divide(S,K))+(r+((np.power(implied_vol,2)/2))*T))/(implied_vol*np.sqrt(T))\n",
    "        N_d1 = st.norm.cdf(d1)\n",
    "        \n",
    "        d2 = np.subtract(d1,implied_vol*np.sqrt(T))\n",
    "        N_d2 = st.norm.cdf(d2)\n",
    "        \n",
    "        C = np.subtract(np.multiply(S,N_d1),np.multiply(K,np.multiply(np.exp(-r*T),N_d2)))\n",
    "        if i%100 == 0:        \n",
    "            print('BS premium =',C[0])\n",
    "            print('Market premium =',call_premium[0])\n",
    "\n",
    "#         C, call_premium = Call_price(ticker, expiration, ttm, implied_vol)\n",
    "\n",
    "        difference = np.subtract(C, call_premium)\n",
    "        if i%100 == 0:\n",
    "            print('The difference is:',difference[0])\n",
    "\n",
    "        v = S*np.sqrt(T)*st.norm.pdf(d1)\n",
    "        if i%100 == 0:\n",
    "            print('vega =',v[0])\n",
    "    \n",
    "#         v, sigma = vega(ticker, expiration, ttm)\n",
    "        for j in range(0,len(difference)):\n",
    "            if difference[j] >= 0:\n",
    "                difference[j] = difference[j]-learning_rate*v[j]\n",
    "            else:\n",
    "                difference[j] = difference[j]+learning_rate*v[j]\n",
    "            \n",
    "        if i%100 == 0:\n",
    "            print('implied vol end:',implied_vol[0])\n",
    "            print('-'*20)\n",
    "            print('\\n')\n",
    "\n",
    "    toc = time.time()\n",
    "    \n",
    "    print(toc-tic)\n",
    "    return implied_vol\n",
    "        "
   ]
  },
  {
   "cell_type": "code",
   "execution_count": null,
   "metadata": {},
   "outputs": [],
   "source": [
    "update_sigma(5000,'^GSPC','2021-12-16','1 YR')"
   ]
  },
  {
   "cell_type": "markdown",
   "metadata": {},
   "source": [
    "__References:__<p>&nbsp;</p> \n",
    "\n",
    "- Tim Worall (2008). The Black-Scholes Formula, FIN-40008 Financial Instruments http://www.timworrall.com/fin-40008/bscholes.pdf"
   ]
  },
  {
   "cell_type": "code",
   "execution_count": 52,
   "metadata": {},
   "outputs": [],
   "source": [
    "def update_sigma(iterations, ticker, expiration, ttm, learning_rate=0.075):\n",
    "    \n",
    "    tic = time.time()\n",
    "    implied_vol = np.ones(51)    \n",
    "    \n",
    "    S = Spot(ticker)\n",
    "    \n",
    "    data = call_data(ticker,expiration)\n",
    "    \n",
    "    K, call_premium = list(zip(*data))\n",
    "    call_premium = np.array(call_premium)\n",
    "    \n",
    "    S = np.array(S)\n",
    "    K = np.array(K)\n",
    "    \n",
    "    r = Risk_free(ttm)\n",
    "    \n",
    "    T = Time_to_maturity(expiration)\n",
    "    \n",
    "    implied_vol = np.random.randn(iterations)\n",
    "    \n",
    "    spread = []\n",
    "    sigma = []\n",
    "    \n",
    "    print('Parameters:')\n",
    "    print('Spot price:',S)\n",
    "    print('Strike price:',K[0])\n",
    "    print('Risk free rate:',r)\n",
    "    print('Time to maturity:',T)\n",
    "    print('-'*20)\n",
    "    print('Market call price:',call_premium[0])\n",
    "\n",
    "    for j in range(0,len(implied_vol)):\n",
    "\n",
    "        d1 = (np.log(np.divide(S,K))+(r+((np.power(implied_vol[j],2)/2))*T))/(implied_vol[j]*np.sqrt(T))\n",
    "        N_d1 = st.norm.cdf(d1)\n",
    "        \n",
    "        d2 = np.subtract(d1,implied_vol[j]*np.sqrt(T))\n",
    "        N_d2 = st.norm.cdf(d2)\n",
    "        \n",
    "        C = np.subtract(np.multiply(S,N_d1),np.multiply(K,np.multiply(np.exp(-r*T),N_d2)))\n",
    "        \n",
    "        difference = np.subtract(C, call_premium)\n",
    "        print(difference)\n",
    "        if difference[j] >=0:\n",
    "            spread.append(difference)\n",
    "            sigma.append(implied_vol[j])        \n",
    "    \n",
    "    min_dif = np.min(spread)\n",
    "    index_min_dif = np.argmin(spread)\n",
    "    sigma_optimun = sigma[index_min_dif]\n",
    "\n",
    "        \n",
    "    return sigma_optimun, min_dif"
   ]
  },
  {
   "cell_type": "code",
   "execution_count": 53,
   "metadata": {},
   "outputs": [
    {
     "name": "stdout",
     "output_type": "stream",
     "text": [
      "Parameters:\n",
      "Spot price: 3663.46\n",
      "Strike price: 900.0\n",
      "Risk free rate: 0.001\n",
      "Time to maturity: 1.0027397260273974\n",
      "--------------------\n",
      "Market call price: 2755.29\n",
      "[-3044.28586143 -2997.95643244 -2424.03399296 -2551.03640546\n",
      " -2700.7794482  -2691.8809051  -2794.53607241 -2075.80742008\n",
      " -1867.49909383 -2298.76648091 -2089.07885594 -1784.77487603\n",
      " -2072.2239135  -2311.86450663 -2257.91594269 -2603.0097358\n",
      " -1866.8176132  -2271.66848547 -2451.92003415 -2498.23244269\n",
      " -2046.45931859 -2255.69455253 -2027.77846782 -2377.97536169\n",
      " -2526.99697217 -1915.55647041 -2236.27320791 -2272.22654963\n",
      " -2439.22587367 -2334.18057082 -2342.30004426 -2016.3637092\n",
      " -2430.17099253 -2245.42133254 -2473.77417857 -1897.60899074\n",
      " -2490.84523963 -2379.20240605 -2434.39998073 -2435.1543659\n",
      " -2269.41020523 -2456.52451002 -2454.25667118 -2445.89275043\n",
      " -2475.61527142 -2480.91877933 -2489.6695244  -2475.26530928\n",
      " -2491.59535351 -2569.11204318 -2606.88568979]\n",
      "[-2906.92514964 -2843.70661576 -2233.80086044 -2349.44955247\n",
      " -2488.15889906 -2475.65298357 -2564.22651042 -1842.06334742\n",
      " -1630.35440406 -2054.92122945 -1841.933137   -1534.36153925\n",
      " -1802.87896478 -2039.47394538 -1976.5706453  -2310.13862028\n",
      " -1554.86141164 -1957.09393835 -2132.18702727 -2173.44343325\n",
      " -1716.7145749  -1921.09219303 -1690.78343399 -2036.26594728\n",
      " -2182.96533973 -1569.225598   -1887.66582433 -1921.3651371\n",
      " -2086.13267049 -1978.87757407 -1984.80901245 -1656.70616495\n",
      " -2068.36822525 -1881.49440106 -2107.7439138  -1529.49599831\n",
      " -2120.66990252 -2006.98488716 -2060.16022551 -2056.92911733\n",
      " -1889.22127748 -2074.39100421 -2068.29049579 -2052.48160192\n",
      " -2075.04269266 -2073.45649775 -2075.57802155 -2054.79436419\n",
      " -2064.9845599  -2125.42463645 -2157.92441639]\n",
      "[-3175.21002323 -3141.62231287 -2594.34039916 -2729.64884096\n",
      " -2887.43297615 -2881.15807584 -2994.03591841 -2277.79706575\n",
      " -2071.95300551 -2508.07388924 -2300.7762586  -1998.83826701\n",
      " -2299.99895987 -2541.84727997 -2494.39537271 -2847.86732238\n",
      " -2125.60579657 -2532.3749233  -2716.41152329 -2766.44189351\n",
      " -2318.32140723 -2531.14565643 -2305.0007356  -2658.69426674\n",
      " -2809.44173868 -2199.71237986 -2522.12572728 -2559.76132811\n",
      " -2728.42873946 -2625.037528   -2634.79726972 -2310.48754965\n",
      " -2725.90796156 -2542.75810775 -2772.6975988  -2198.10605328\n",
      " -2792.90309758 -2682.80836569 -2739.54149892 -2743.32996174\n",
      " -2579.08460903 -2767.68575649 -2768.35625915 -2765.73138652\n",
      " -2801.01625915 -2811.71315996 -2825.69560738 -2816.36823917\n",
      " -2837.62670995 -2929.09711912 -2971.26285668]\n"
     ]
    },
    {
     "ename": "ValueError",
     "evalue": "zero-size array to reduction operation minimum which has no identity",
     "output_type": "error",
     "traceback": [
      "\u001b[1;31m---------------------------------------------------------------------------\u001b[0m",
      "\u001b[1;31mValueError\u001b[0m                                Traceback (most recent call last)",
      "\u001b[1;32m<ipython-input-53-6bdbd3d8fec5>\u001b[0m in \u001b[0;36m<module>\u001b[1;34m\u001b[0m\n\u001b[1;32m----> 1\u001b[1;33m \u001b[0mupdate_sigma\u001b[0m\u001b[1;33m(\u001b[0m\u001b[1;36m3\u001b[0m\u001b[1;33m,\u001b[0m\u001b[1;34m'^GSPC'\u001b[0m\u001b[1;33m,\u001b[0m\u001b[1;34m'2021-12-16'\u001b[0m\u001b[1;33m,\u001b[0m\u001b[1;34m'1 YR'\u001b[0m\u001b[1;33m)\u001b[0m\u001b[1;33m\u001b[0m\u001b[1;33m\u001b[0m\u001b[0m\n\u001b[0m",
      "\u001b[1;32m<ipython-input-52-8924259abe22>\u001b[0m in \u001b[0;36mupdate_sigma\u001b[1;34m(iterations, ticker, expiration, ttm, learning_rate)\u001b[0m\n\u001b[0;32m     47\u001b[0m             \u001b[0msigma\u001b[0m\u001b[1;33m.\u001b[0m\u001b[0mappend\u001b[0m\u001b[1;33m(\u001b[0m\u001b[0mimplied_vol\u001b[0m\u001b[1;33m[\u001b[0m\u001b[0mj\u001b[0m\u001b[1;33m]\u001b[0m\u001b[1;33m)\u001b[0m\u001b[1;33m\u001b[0m\u001b[1;33m\u001b[0m\u001b[0m\n\u001b[0;32m     48\u001b[0m \u001b[1;33m\u001b[0m\u001b[0m\n\u001b[1;32m---> 49\u001b[1;33m     \u001b[0mmin_dif\u001b[0m \u001b[1;33m=\u001b[0m \u001b[0mnp\u001b[0m\u001b[1;33m.\u001b[0m\u001b[0mmin\u001b[0m\u001b[1;33m(\u001b[0m\u001b[0mspread\u001b[0m\u001b[1;33m)\u001b[0m\u001b[1;33m\u001b[0m\u001b[1;33m\u001b[0m\u001b[0m\n\u001b[0m\u001b[0;32m     50\u001b[0m     \u001b[0mindex_min_dif\u001b[0m \u001b[1;33m=\u001b[0m \u001b[0mnp\u001b[0m\u001b[1;33m.\u001b[0m\u001b[0margmin\u001b[0m\u001b[1;33m(\u001b[0m\u001b[0mspread\u001b[0m\u001b[1;33m)\u001b[0m\u001b[1;33m\u001b[0m\u001b[1;33m\u001b[0m\u001b[0m\n\u001b[0;32m     51\u001b[0m     \u001b[0msigma_optimun\u001b[0m \u001b[1;33m=\u001b[0m \u001b[0msigma\u001b[0m\u001b[1;33m[\u001b[0m\u001b[0mindex_min_dif\u001b[0m\u001b[1;33m]\u001b[0m\u001b[1;33m\u001b[0m\u001b[1;33m\u001b[0m\u001b[0m\n",
      "\u001b[1;32m<__array_function__ internals>\u001b[0m in \u001b[0;36mamin\u001b[1;34m(*args, **kwargs)\u001b[0m\n",
      "\u001b[1;32mC:\\ProgramData\\Anaconda3\\lib\\site-packages\\numpy\\core\\fromnumeric.py\u001b[0m in \u001b[0;36mamin\u001b[1;34m(a, axis, out, keepdims, initial, where)\u001b[0m\n\u001b[0;32m   2791\u001b[0m     \"\"\"\n\u001b[0;32m   2792\u001b[0m     return _wrapreduction(a, np.minimum, 'min', axis, None, out,\n\u001b[1;32m-> 2793\u001b[1;33m                           keepdims=keepdims, initial=initial, where=where)\n\u001b[0m\u001b[0;32m   2794\u001b[0m \u001b[1;33m\u001b[0m\u001b[0m\n\u001b[0;32m   2795\u001b[0m \u001b[1;33m\u001b[0m\u001b[0m\n",
      "\u001b[1;32mC:\\ProgramData\\Anaconda3\\lib\\site-packages\\numpy\\core\\fromnumeric.py\u001b[0m in \u001b[0;36m_wrapreduction\u001b[1;34m(obj, ufunc, method, axis, dtype, out, **kwargs)\u001b[0m\n\u001b[0;32m     88\u001b[0m                 \u001b[1;32mreturn\u001b[0m \u001b[0mreduction\u001b[0m\u001b[1;33m(\u001b[0m\u001b[0maxis\u001b[0m\u001b[1;33m=\u001b[0m\u001b[0maxis\u001b[0m\u001b[1;33m,\u001b[0m \u001b[0mout\u001b[0m\u001b[1;33m=\u001b[0m\u001b[0mout\u001b[0m\u001b[1;33m,\u001b[0m \u001b[1;33m**\u001b[0m\u001b[0mpasskwargs\u001b[0m\u001b[1;33m)\u001b[0m\u001b[1;33m\u001b[0m\u001b[1;33m\u001b[0m\u001b[0m\n\u001b[0;32m     89\u001b[0m \u001b[1;33m\u001b[0m\u001b[0m\n\u001b[1;32m---> 90\u001b[1;33m     \u001b[1;32mreturn\u001b[0m \u001b[0mufunc\u001b[0m\u001b[1;33m.\u001b[0m\u001b[0mreduce\u001b[0m\u001b[1;33m(\u001b[0m\u001b[0mobj\u001b[0m\u001b[1;33m,\u001b[0m \u001b[0maxis\u001b[0m\u001b[1;33m,\u001b[0m \u001b[0mdtype\u001b[0m\u001b[1;33m,\u001b[0m \u001b[0mout\u001b[0m\u001b[1;33m,\u001b[0m \u001b[1;33m**\u001b[0m\u001b[0mpasskwargs\u001b[0m\u001b[1;33m)\u001b[0m\u001b[1;33m\u001b[0m\u001b[1;33m\u001b[0m\u001b[0m\n\u001b[0m\u001b[0;32m     91\u001b[0m \u001b[1;33m\u001b[0m\u001b[0m\n\u001b[0;32m     92\u001b[0m \u001b[1;33m\u001b[0m\u001b[0m\n",
      "\u001b[1;31mValueError\u001b[0m: zero-size array to reduction operation minimum which has no identity"
     ]
    }
   ],
   "source": [
    "update_sigma(3,'^GSPC','2021-12-16','1 YR')"
   ]
  },
  {
   "cell_type": "code",
   "execution_count": null,
   "metadata": {},
   "outputs": [],
   "source": []
  }
 ],
 "metadata": {
  "kernelspec": {
   "display_name": "Python 3",
   "language": "python",
   "name": "python3"
  },
  "language_info": {
   "codemirror_mode": {
    "name": "ipython",
    "version": 3
   },
   "file_extension": ".py",
   "mimetype": "text/x-python",
   "name": "python",
   "nbconvert_exporter": "python",
   "pygments_lexer": "ipython3",
   "version": "3.7.6"
  }
 },
 "nbformat": 4,
 "nbformat_minor": 4
}
